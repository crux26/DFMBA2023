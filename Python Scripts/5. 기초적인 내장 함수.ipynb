{
 "cells": [
  {
   "cell_type": "markdown",
   "metadata": {
    "slideshow": {
     "slide_type": "skip"
    },
    "toc": true
   },
   "source": [
    "<h1>Table of Contents<span class=\"tocSkip\"></span></h1>\n",
    "<div class=\"toc\"><ul class=\"toc-item\"><li><span><a href=\"#내장함수-(built-in-functions)\" data-toc-modified-id=\"내장함수-(built-in-functions)-1\"><span class=\"toc-item-num\">1&nbsp;&nbsp;</span>내장함수 (built-in functions)</a></span><ul class=\"toc-item\"><li><span><a href=\"#abs\" data-toc-modified-id=\"abs-1.1\"><span class=\"toc-item-num\">1.1&nbsp;&nbsp;</span>abs</a></span></li><li><span><a href=\"#dir\" data-toc-modified-id=\"dir-1.2\"><span class=\"toc-item-num\">1.2&nbsp;&nbsp;</span>dir</a></span></li><li><span><a href=\"#help\" data-toc-modified-id=\"help-1.3\"><span class=\"toc-item-num\">1.3&nbsp;&nbsp;</span>help</a></span></li><li><span><a href=\"#len\" data-toc-modified-id=\"len-1.4\"><span class=\"toc-item-num\">1.4&nbsp;&nbsp;</span>len</a></span></li><li><span><a href=\"#eval\" data-toc-modified-id=\"eval-1.5\"><span class=\"toc-item-num\">1.5&nbsp;&nbsp;</span>eval</a></span></li><li><span><a href=\"#float\" data-toc-modified-id=\"float-1.6\"><span class=\"toc-item-num\">1.6&nbsp;&nbsp;</span>float</a></span></li><li><span><a href=\"#int\" data-toc-modified-id=\"int-1.7\"><span class=\"toc-item-num\">1.7&nbsp;&nbsp;</span>int</a></span></li><li><span><a href=\"#input\" data-toc-modified-id=\"input-1.8\"><span class=\"toc-item-num\">1.8&nbsp;&nbsp;</span>input</a></span></li><li><span><a href=\"#pow\" data-toc-modified-id=\"pow-1.9\"><span class=\"toc-item-num\">1.9&nbsp;&nbsp;</span>pow</a></span></li><li><span><a href=\"#max,-min,-sum\" data-toc-modified-id=\"max,-min,-sum-1.10\"><span class=\"toc-item-num\">1.10&nbsp;&nbsp;</span>max, min, sum</a></span></li></ul></li></ul></div>"
   ]
  },
  {
   "cell_type": "markdown",
   "metadata": {
    "slideshow": {
     "slide_type": "slide"
    }
   },
   "source": [
    "# 내장함수 (built-in functions)\n",
    "- 추가적인 library/package의 설치 없이 python의 설치만으로 사용할 수 있는 함수\n",
    "    - Anaconda로 설치시 여러 library/package가 같이 설치됨\n",
    "    - Non built-in functions을 쓰기 위해서는 해당 library/package를 import해야 함\n",
    "    \n",
    "    - examples)\n",
    "        - import numpy\n",
    "        - from numpy import random\n",
    "        \n",
    "        \n",
    "- 일반적으로 User-defined function을 사용하는 것보다 내장함수가 더 빠름\n",
    "- 다른 library에서 제공하지 않는 기능들이 존재\n",
    "    - dir, help, eval, zip, ...\n",
    "    \n",
    "\n",
    "- 직접 library를 작성할 시 내장함수에서부터 출발"
   ]
  },
  {
   "cell_type": "code",
   "execution_count": 22,
   "metadata": {},
   "outputs": [
    {
     "data": {
      "image/png": "[encoded data removed]",
      "text/plain": [
       "<IPython.core.display.Image object>"
      ]
     },
     "metadata": {
      "image/png": {
       "width": 600
      }
     },
     "output_type": "display_data"
    },
    {
     "name": "stdout",
     "output_type": "stream",
     "text": [
      "['__build_class__', '__import__', 'abs', 'all', 'any', 'ascii', 'bin', 'breakpoint', 'callable', 'chr', 'compile', 'delattr', 'dir', 'divmod', 'eval', 'exec', 'format', 'getattr', 'globals', 'hasattr', 'hash', 'hex', 'id', 'isinstance', 'issubclass', 'iter', 'aiter', 'len', 'locals', 'max', 'min', 'next', 'anext', 'oct', 'ord', 'pow', 'print', 'repr', 'round', 'setattr', 'sorted', 'sum', 'vars', 'open']\n"
     ]
    }
   ],
   "source": [
    "import builtins\n",
    "import types\n",
    "\n",
    "from IPython.display import Image\n",
    "\n",
    "display(Image(\"E:/superfolder/Kalmuri/DFMBA2023_python/builtin.png\", width=600))\n",
    "\n",
    "\n",
    "builtin_function_names = [name for name, obj in vars(builtins).items() \n",
    "                          if isinstance(obj, types.BuiltinFunctionType)]\n",
    "print(builtin_function_names)"
   ]
  },
  {
   "cell_type": "markdown",
   "metadata": {
    "slideshow": {
     "slide_type": "fragment"
    }
   },
   "source": [
    "## abs\n",
    "- abs 함수는 숫자의 절대값을 반환한다."
   ]
  },
  {
   "cell_type": "code",
   "execution_count": 11,
   "metadata": {
    "slideshow": {
     "slide_type": "fragment"
    }
   },
   "outputs": [
    {
     "data": {
      "text/plain": [
       "10"
      ]
     },
     "execution_count": 11,
     "metadata": {},
     "output_type": "execute_result"
    }
   ],
   "source": [
    "abs(-10)"
   ]
  },
  {
   "cell_type": "markdown",
   "metadata": {
    "slideshow": {
     "slide_type": "subslide"
    }
   },
   "source": [
    "## dir\n",
    "- dir 함수는 어떤 변수에 대해 사용할 수 있는 함수 목록을 반환한다."
   ]
  },
  {
   "cell_type": "code",
   "execution_count": 12,
   "metadata": {
    "slideshow": {
     "slide_type": "fragment"
    }
   },
   "outputs": [
    {
     "data": {
      "text/plain": [
       "['__add__',\n",
       " '__class__',\n",
       " '__contains__',\n",
       " '__delattr__',\n",
       " '__dir__',\n",
       " '__doc__',\n",
       " '__eq__',\n",
       " '__format__',\n",
       " '__ge__',\n",
       " '__getattribute__',\n",
       " '__getitem__',\n",
       " '__getnewargs__',\n",
       " '__gt__',\n",
       " '__hash__',\n",
       " '__init__',\n",
       " '__init_subclass__',\n",
       " '__iter__',\n",
       " '__le__',\n",
       " '__len__',\n",
       " '__lt__',\n",
       " '__mod__',\n",
       " '__mul__',\n",
       " '__ne__',\n",
       " '__new__',\n",
       " '__reduce__',\n",
       " '__reduce_ex__',\n",
       " '__repr__',\n",
       " '__rmod__',\n",
       " '__rmul__',\n",
       " '__setattr__',\n",
       " '__sizeof__',\n",
       " '__str__',\n",
       " '__subclasshook__',\n",
       " 'capitalize',\n",
       " 'casefold',\n",
       " 'center',\n",
       " 'count',\n",
       " 'encode',\n",
       " 'endswith',\n",
       " 'expandtabs',\n",
       " 'find',\n",
       " 'format',\n",
       " 'format_map',\n",
       " 'index',\n",
       " 'isalnum',\n",
       " 'isalpha',\n",
       " 'isascii',\n",
       " 'isdecimal',\n",
       " 'isdigit',\n",
       " 'isidentifier',\n",
       " 'islower',\n",
       " 'isnumeric',\n",
       " 'isprintable',\n",
       " 'isspace',\n",
       " 'istitle',\n",
       " 'isupper',\n",
       " 'join',\n",
       " 'ljust',\n",
       " 'lower',\n",
       " 'lstrip',\n",
       " 'maketrans',\n",
       " 'partition',\n",
       " 'removeprefix',\n",
       " 'removesuffix',\n",
       " 'replace',\n",
       " 'rfind',\n",
       " 'rindex',\n",
       " 'rjust',\n",
       " 'rpartition',\n",
       " 'rsplit',\n",
       " 'rstrip',\n",
       " 'split',\n",
       " 'splitlines',\n",
       " 'startswith',\n",
       " 'strip',\n",
       " 'swapcase',\n",
       " 'title',\n",
       " 'translate',\n",
       " 'upper',\n",
       " 'zfill']"
      ]
     },
     "execution_count": 12,
     "metadata": {},
     "output_type": "execute_result"
    }
   ],
   "source": [
    "s = 'hello'\n",
    "dir(s)"
   ]
  },
  {
   "cell_type": "markdown",
   "metadata": {
    "slideshow": {
     "slide_type": "subslide"
    }
   },
   "source": [
    "## help\n",
    "- help 함수는 함수에 관한 짧은 설명을 제공한다."
   ]
  },
  {
   "cell_type": "code",
   "execution_count": 13,
   "metadata": {
    "slideshow": {
     "slide_type": "fragment"
    }
   },
   "outputs": [
    {
     "name": "stdout",
     "output_type": "stream",
     "text": [
      "Help on built-in function upper:\n",
      "\n",
      "upper() method of builtins.str instance\n",
      "    Return a copy of the string converted to uppercase.\n",
      "\n",
      "None\n",
      "--------------------------------------------------------------------------------\n",
      "Help on built-in function abs in module builtins:\n",
      "\n",
      "abs(x, /)\n",
      "    Return the absolute value of the argument.\n",
      "\n",
      "None\n"
     ]
    }
   ],
   "source": [
    "print(help(s.upper))\n",
    "print('-'*80)\n",
    "print(help(abs))"
   ]
  },
  {
   "cell_type": "markdown",
   "metadata": {
    "slideshow": {
     "slide_type": "subslide"
    }
   },
   "source": [
    "## len\n",
    "- len 함수는 변수의 길이를 반환한다."
   ]
  },
  {
   "cell_type": "code",
   "execution_count": 14,
   "metadata": {
    "slideshow": {
     "slide_type": "fragment"
    }
   },
   "outputs": [
    {
     "name": "stdout",
     "output_type": "stream",
     "text": [
      "4\n",
      "3\n"
     ]
    }
   ],
   "source": [
    "print(len('abcd'))\n",
    "print(len([1,2,3]))"
   ]
  },
  {
   "cell_type": "markdown",
   "metadata": {
    "slideshow": {
     "slide_type": "subslide"
    }
   },
   "source": [
    "## eval\n",
    "- eval 함수는 문자열을 파이썬의 표현식인 것처럼 실행\n",
    "- 연산을 직접 하는 것에 비해 훨씬 느리며, 가능한 한 이를 적게 사용하는 것이 좋음"
   ]
  },
  {
   "cell_type": "code",
   "execution_count": 15,
   "metadata": {},
   "outputs": [
    {
     "name": "stdout",
     "output_type": "stream",
     "text": [
      "5.24 ns ± 0.0905 ns per loop (mean ± std. dev. of 7 runs, 100,000,000 loops each)\n"
     ]
    }
   ],
   "source": [
    "%%timeit\n",
    "10*3"
   ]
  },
  {
   "cell_type": "code",
   "execution_count": 16,
   "metadata": {},
   "outputs": [
    {
     "name": "stdout",
     "output_type": "stream",
     "text": [
      "3.06 µs ± 90.3 ns per loop (mean ± std. dev. of 7 runs, 100,000 loops each)\n"
     ]
    }
   ],
   "source": [
    "%%timeit\n",
    "eval('10*3') # takes 10**3 times more"
   ]
  },
  {
   "cell_type": "markdown",
   "metadata": {
    "slideshow": {
     "slide_type": "subslide"
    }
   },
   "source": [
    "## float\n",
    "- float 함수는 문자열을 실수(float)로 변환한다. \n",
    "- 또한, float 타입이 아닌 numeric 변수 (i.e. int)를 float으로 변환한다."
   ]
  },
  {
   "cell_type": "code",
   "execution_count": 17,
   "metadata": {
    "slideshow": {
     "slide_type": "fragment"
    }
   },
   "outputs": [
    {
     "name": "stdout",
     "output_type": "stream",
     "text": [
      "<class 'str'>\n",
      "12.34\n",
      "<class 'float'>\n",
      "--------------------------------------------------------------------------------\n",
      "<class 'int'>\n",
      "3.0\n",
      "<class 'float'>\n"
     ]
    }
   ],
   "source": [
    "s = '12.34'\n",
    "print(type(s))\n",
    "print(float(s))\n",
    "print(type(float(s)))\n",
    "\n",
    "print('-'*80)\n",
    "\n",
    "d = 3\n",
    "print(type(d))\n",
    "print(float(d))\n",
    "print(type(float(d)))\n"
   ]
  },
  {
   "cell_type": "markdown",
   "metadata": {
    "slideshow": {
     "slide_type": "subslide"
    }
   },
   "source": [
    "## int\n",
    "- int 함수는 문자열 (str)이나 실수(float)를 정수로 변환한다. \n",
    "- 소수점 이하는 버린다."
   ]
  },
  {
   "cell_type": "code",
   "execution_count": 18,
   "metadata": {
    "slideshow": {
     "slide_type": "fragment"
    }
   },
   "outputs": [
    {
     "name": "stdout",
     "output_type": "stream",
     "text": [
      "12\n",
      "3\n"
     ]
    },
    {
     "ename": "ValueError",
     "evalue": "invalid literal for int() with base 10: '12.34'",
     "output_type": "error",
     "traceback": [
      "\u001b[1;31m---------------------------------------------------------------------------\u001b[0m",
      "\u001b[1;31mValueError\u001b[0m                                Traceback (most recent call last)",
      "Cell \u001b[1;32mIn[18], line 6\u001b[0m\n\u001b[0;32m      2\u001b[0m \u001b[38;5;28mprint\u001b[39m(\u001b[38;5;28mint\u001b[39m(x))\n\u001b[0;32m      4\u001b[0m \u001b[38;5;28mprint\u001b[39m(\u001b[38;5;28mint\u001b[39m(\u001b[38;5;124m'\u001b[39m\u001b[38;5;124m3\u001b[39m\u001b[38;5;124m'\u001b[39m))\n\u001b[1;32m----> 6\u001b[0m \u001b[38;5;28mprint\u001b[39m(\u001b[38;5;28;43mint\u001b[39;49m\u001b[43m(\u001b[49m\u001b[38;5;124;43m'\u001b[39;49m\u001b[38;5;124;43m12.34\u001b[39;49m\u001b[38;5;124;43m'\u001b[39;49m\u001b[43m)\u001b[49m) \u001b[38;5;66;03m# error\u001b[39;00m\n\u001b[0;32m      8\u001b[0m \u001b[38;5;28mprint\u001b[39m(\u001b[38;5;28mint\u001b[39m(\u001b[38;5;28mfloat\u001b[39m(\u001b[38;5;124m'\u001b[39m\u001b[38;5;124m12.34\u001b[39m\u001b[38;5;124m'\u001b[39m)))\n",
      "\u001b[1;31mValueError\u001b[0m: invalid literal for int() with base 10: '12.34'"
     ]
    }
   ],
   "source": [
    "x = 12.34\n",
    "print(int(x))\n",
    "\n",
    "print(int('3'))\n",
    "\n",
    "print(int('12.34')) # error\n",
    "\n",
    "print(int(float('12.34'))) # no error"
   ]
  },
  {
   "cell_type": "markdown",
   "metadata": {
    "slideshow": {
     "slide_type": "subslide"
    }
   },
   "source": [
    "## input\n",
    "- input 함수를 사용해 입력값을 직접 받을 수 있다."
   ]
  },
  {
   "cell_type": "code",
   "execution_count": 19,
   "metadata": {
    "slideshow": {
     "slide_type": "fragment"
    }
   },
   "outputs": [
    {
     "name": "stdout",
     "output_type": "stream",
     "text": [
      "\n",
      "x is:  \n"
     ]
    }
   ],
   "source": [
    "x = input()\n",
    "print('x is: ', x)"
   ]
  },
  {
   "cell_type": "markdown",
   "metadata": {
    "slideshow": {
     "slide_type": "subslide"
    }
   },
   "source": [
    "## pow\n",
    "- pow 함수는 지수를 계산할 때 사용한다."
   ]
  },
  {
   "cell_type": "code",
   "execution_count": 20,
   "metadata": {
    "slideshow": {
     "slide_type": "fragment"
    }
   },
   "outputs": [
    {
     "name": "stdout",
     "output_type": "stream",
     "text": [
      "8\n",
      "25\n"
     ]
    }
   ],
   "source": [
    "print(pow(2,3))\n",
    "print(pow(5,2))"
   ]
  },
  {
   "cell_type": "markdown",
   "metadata": {
    "slideshow": {
     "slide_type": "subslide"
    }
   },
   "source": [
    "## max, min, sum\n",
    "- max, min 함수는 각각 list에서 가장 큰 항목과 작은 항목을 반환한다.\n",
    "\n",
    "- sum 함수는 list에 있는 항목들을 더해서 그 합들을 반환한다."
   ]
  },
  {
   "cell_type": "code",
   "execution_count": 21,
   "metadata": {
    "slideshow": {
     "slide_type": "fragment"
    }
   },
   "outputs": [
    {
     "name": "stdout",
     "output_type": "stream",
     "text": [
      "max:  9\n",
      "min:  1\n",
      "sum:  26\n"
     ]
    }
   ],
   "source": [
    "l = [1,3,2,2,5,9,4]\n",
    "print('max: ', max(l))\n",
    "print('min: ', min(l))\n",
    "print('sum: ', sum(l))"
   ]
  }
 ],
 "metadata": {
  "celltoolbar": "Slideshow",
  "kernelspec": {
   "display_name": "Python 3 (ipykernel)",
   "language": "python",
   "name": "python3"
  },
  "language_info": {
   "codemirror_mode": {
    "name": "ipython",
    "version": 3
   },
   "file_extension": ".py",
   "mimetype": "text/x-python",
   "name": "python",
   "nbconvert_exporter": "python",
   "pygments_lexer": "ipython3",
   "version": "3.10.9"
  },
  "toc": {
   "base_numbering": 1,
   "nav_menu": {},
   "number_sections": true,
   "sideBar": true,
   "skip_h1_title": false,
   "title_cell": "Table of Contents",
   "title_sidebar": "Contents",
   "toc_cell": true,
   "toc_position": {},
   "toc_section_display": true,
   "toc_window_display": true
  }
 },
 "nbformat": 4,
 "nbformat_minor": 4
}
