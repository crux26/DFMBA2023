{
 "cells": [
  {
   "cell_type": "markdown",
   "metadata": {
    "toc": true
   },
   "source": [
    "<h1>Table of Contents<span class=\"tocSkip\"></span></h1>\n",
    "<div class=\"toc\"><ul class=\"toc-item\"><li><span><a href=\"#데이터-입/출력\" data-toc-modified-id=\"데이터-입/출력-1\"><span class=\"toc-item-num\">1&nbsp;&nbsp;</span>데이터 입/출력</a></span><ul class=\"toc-item\"><li><span><a href=\"#File/path/directory-check\" data-toc-modified-id=\"File/path/directory-check-1.1\"><span class=\"toc-item-num\">1.1&nbsp;&nbsp;</span>File/path/directory check</a></span></li><li><span><a href=\"#read-and-write-with-pickle\" data-toc-modified-id=\"read-and-write-with-pickle-1.2\"><span class=\"toc-item-num\">1.2&nbsp;&nbsp;</span>read and write with pickle</a></span></li><li><span><a href=\"#pickle-with-dict\" data-toc-modified-id=\"pickle-with-dict-1.3\"><span class=\"toc-item-num\">1.3&nbsp;&nbsp;</span>pickle with dict</a></span></li><li><span><a href=\"#Pandas-library\" data-toc-modified-id=\"Pandas-library-1.4\"><span class=\"toc-item-num\">1.4&nbsp;&nbsp;</span>Pandas library</a></span></li></ul></li><li><span><a href=\"#read-and-write-with-Pandas\" data-toc-modified-id=\"read-and-write-with-Pandas-2\"><span class=\"toc-item-num\">2&nbsp;&nbsp;</span>read and write with Pandas</a></span><ul class=\"toc-item\"><li><span><a href=\"#Constructing-DataFrame\" data-toc-modified-id=\"Constructing-DataFrame-2.1\"><span class=\"toc-item-num\">2.1&nbsp;&nbsp;</span>Constructing DataFrame</a></span></li><li><span><a href=\"#Changing-index\" data-toc-modified-id=\"Changing-index-2.2\"><span class=\"toc-item-num\">2.2&nbsp;&nbsp;</span>Changing index</a></span></li><li><span><a href=\"#indexing-and-selecting-data\" data-toc-modified-id=\"indexing-and-selecting-data-2.3\"><span class=\"toc-item-num\">2.3&nbsp;&nbsp;</span>indexing and selecting data</a></span><ul class=\"toc-item\"><li><span><a href=\"#loc과-iloc\" data-toc-modified-id=\"loc과-iloc-2.3.1\"><span class=\"toc-item-num\">2.3.1&nbsp;&nbsp;</span>loc과 iloc</a></span></li><li><span><a href=\"#Manipulating-components\" data-toc-modified-id=\"Manipulating-components-2.3.2\"><span class=\"toc-item-num\">2.3.2&nbsp;&nbsp;</span>Manipulating components</a></span></li><li><span><a href=\"#datetime\" data-toc-modified-id=\"datetime-2.3.3\"><span class=\"toc-item-num\">2.3.3&nbsp;&nbsp;</span>datetime</a></span></li></ul></li></ul></li></ul></div>"
   ]
  },
  {
   "cell_type": "markdown",
   "metadata": {
    "slideshow": {
     "slide_type": "slide"
    }
   },
   "source": [
    "# 데이터 입/출력\n",
    "- 데이터 분석을 위해서는 데이터를 python으로 불러들여야 함\n",
    "- 분석결과를 저장하기 위해서는 pickle (or joblib) module이 사용됨 (pkl 확장자)\n",
    "\n",
    "\n",
    "- Reading\n",
    "    - fin = open('file.txt', 'r') (open()은 built-in function)\n",
    "    - 'r': read\n",
    "    - binary 파일을 읽으려면 'rb' 사용\n",
    "<br><br>\n",
    "- Writing\n",
    "    - fout = open('file.txt', 'w')\n",
    "    - 'w': write. 파일이 존재할 시에 덮어씀. 존재하지 않는 경우에는 파일을 생성\n",
    "    - binary 파일에 쓰려면 'wb' 사용\n",
    "<br><br>\n",
    "- default location\n",
    "    - import os\n",
    "    - print(os.getcwd())\n",
    "    \n",
    "\n",
    "- 파일 위치를 absolute path로 지정하지 않을 시 (e.g. \"C:/myFolder/file.txt\"), relative path로 인식하여 cwd에 파일을 생성함"
   ]
  },
  {
   "cell_type": "markdown",
   "metadata": {},
   "source": [
    "## File/path/directory check"
   ]
  },
  {
   "cell_type": "code",
   "execution_count": 19,
   "metadata": {
    "slideshow": {
     "slide_type": "subslide"
    }
   },
   "outputs": [
    {
     "name": "stdout",
     "output_type": "stream",
     "text": [
      "varname: C:/local/\n",
      "True\n",
      "True\n",
      "False\n",
      "\n",
      "varname: C:/local/myCode.py\n",
      "True\n",
      "False\n",
      "True\n",
      "\n"
     ]
    }
   ],
   "source": [
    "import os\n",
    "\n",
    "fout = open('output.txt', 'w') # open(): built-in function\n",
    "line1 = \"A line to write.\\n\"\n",
    "fout.write(line1)\n",
    "fout.close()\n",
    "\n",
    "filePath1 = 'C:/local/'\n",
    "filePath2 = 'C:/local/myCode.py'\n",
    "for filePath in [filePath1, filePath2]:\n",
    "    print('varname: %s' % filePath)\n",
    "    print(os.path.exists(filePath)) # checks whether a file or directory exists\n",
    "    print(os.path.isdir(filePath)) # checks whether \"filePath\" is a directory\n",
    "    print(os.path.isfile(filePath)) # checks whether \"filePath\" is a file\n",
    "    print('')"
   ]
  },
  {
   "cell_type": "markdown",
   "metadata": {},
   "source": [
    "## read and write with pickle\n",
    "- pickle에서는 binary file로 작업을 해야 함"
   ]
  },
  {
   "cell_type": "code",
   "execution_count": 2,
   "metadata": {},
   "outputs": [],
   "source": [
    "# ex 1) 배열 크기가 10000인 난수를 생성해서 result.pkl 파일로 저장\n",
    "\n",
    "import os\n",
    "path = 'C:/test/' \n",
    "import numpy as np\n",
    "_rnd = np.random.rand(10000) # uniform dist [0, 1]\n",
    "\n",
    "import pickle\n",
    "if not os.path.exists(path): # C:/test/ 폴더가 존재하지 않으면\n",
    "    os.mkdir(path) # 해당 위치에 해당 폴더를 생성\n",
    "\n",
    "    \n",
    "# 파일 저장\n",
    "pkl_file = open(path + 'data.pkl', 'wb') # open file for writing\n",
    "pickle.dump(_rnd, pkl_file) # write _rnd to pkl_file\n",
    "pkl_file.close() # close file after use\n"
   ]
  },
  {
   "cell_type": "code",
   "execution_count": 3,
   "metadata": {},
   "outputs": [
    {
     "name": "stdout",
     "output_type": "stream",
     "text": [
      "[0.1536688  0.91436494 0.99773698 0.646381   0.71887732]\n",
      "[0.1536688  0.91436494 0.99773698 0.646381   0.71887732]\n",
      "True\n",
      "[ True  True  True ...  True  True  True]\n",
      "True\n"
     ]
    }
   ],
   "source": [
    "# 파일 불러오기\n",
    "pkl_file = open(path + 'data.pkl', 'rb') # open file for reading\n",
    "_rnd_load = pickle.load(pkl_file) # PKL 파일에 저장한 후 불러들인 변수\n",
    "pkl_file.close()\n",
    "print(_rnd[:5]) # 기존에 저장되어 있던 변수\n",
    "print(_rnd_load[:5]) # PKL 파일에 저장한 후 불러들인 변수\n",
    "\n",
    "\n",
    "# 두 변수가 같은지를 확인\n",
    "print(_rnd[2] == _rnd_load[2])\n",
    "print(np.equal(_rnd, _rnd_load)) # element-wise equality check\n",
    "print(np.array_equal(_rnd, _rnd_load)) # 모든 element에 대해 element-wise equality가 성립하면 True"
   ]
  },
  {
   "cell_type": "code",
   "execution_count": 28,
   "metadata": {
    "slideshow": {
     "slide_type": "subslide"
    }
   },
   "outputs": [
    {
     "name": "stdout",
     "output_type": "stream",
     "text": [
      "[0.05981184 0.52618407 0.56861823 0.00996738 0.03830634]\n",
      "[0.05981184 0.52618407 0.56861823 0.00996738 0.03830634]\n",
      "True\n",
      "[ True  True  True ...  True  True  True]\n",
      "True\n"
     ]
    }
   ],
   "source": [
    "# ex 1) 배열 크기가 10000인 난수를 생성해서 result.pkl 파일로 저장\n",
    "\n",
    "path = 'C:/test/' \n",
    "import numpy as np\n",
    "_rnd = np.random.rand(10000) # uniform dist [0, 1]\n",
    "\n",
    "import pickle\n",
    "if not os.path.exists(path): # C:/test/ 폴더가 존재하지 않으면\n",
    "    os.mkdir(path) # 해당 위치에 해당 폴더를 생성\n",
    "\n",
    "    \n",
    "# 파일 저장\n",
    "pkl_file = open(path + 'data.pkl', 'wb') # open file for writing\n",
    "pickle.dump(_rnd, pkl_file) # write _rnd to pkl_file\n",
    "pkl_file.close() # close file after use\n",
    "\n",
    "# 파일 불러오기\n",
    "pkl_file = open(path + 'data.pkl', 'rb') # open file for reading\n",
    "_rnd_load = pickle.load(pkl_file) # PKL 파일에 저장한 후 불러들인 변수\n",
    "pkl_file.close()\n",
    "print(_rnd[:5]) # 기존에 저장되어 있던 변수\n",
    "print(_rnd_load[:5]) # PKL 파일에 저장한 후 불러들인 변수\n",
    "\n",
    "\n",
    "# 두 변수가 같은지를 확인\n",
    "print(_rnd[2] == _rnd_load[2])\n",
    "print(np.equal(_rnd, _rnd_load)) # element-wise equality check\n",
    "print(np.array_equal(_rnd, _rnd_load)) # 모든 element에 대해 element-wise equality가 성립하면 True"
   ]
  },
  {
   "cell_type": "code",
   "execution_count": 4,
   "metadata": {
    "slideshow": {
     "slide_type": "subslide"
    }
   },
   "outputs": [],
   "source": [
    "# ex 2)\n",
    "pkl_file = open(path + 'data.pkl', 'wb')\n",
    "pickle.dump(_rnd, pkl_file)\n",
    "pickle.dump(_rnd * 100, pkl_file) # 같은 pkl_file에 이어서 저장됨\n",
    "pkl_file.close()\n",
    "\n",
    "pkl_file = open(path + 'data.pkl', 'rb')\n",
    "x = pickle.load(pkl_file) # x == _rnd\n",
    "y = pickle.load(pkl_file) # y == _rnd * 100\n",
    "pkl_file.close()"
   ]
  },
  {
   "cell_type": "markdown",
   "metadata": {
    "slideshow": {
     "slide_type": "subslide"
    }
   },
   "source": [
    "## pickle with dict\n",
    "- pickle은 FIFO (First In, First Out) 형태로 저장됨.\n",
    "    - ex 2)에서는 _rnd가 먼저 저장되고, _rnd*100의 값이 그 뒤에 저장됨\n",
    "    \n",
    "\n",
    "- pkl file을 직접 불러들여 확인하기 전까지는 파일 내부에 어떤 정보가 저장되어 있는지 알 수 없음. \n",
    "- 이를 피하기 위해서 위의 ex 2)에서처럼 같은 pkl 파일에 나눠서 저장하는 대신에, dict를 사용해서 한 번에 저장이 가능"
   ]
  },
  {
   "cell_type": "code",
   "execution_count": 29,
   "metadata": {
    "slideshow": {
     "slide_type": "fragment"
    }
   },
   "outputs": [
    {
     "name": "stdout",
     "output_type": "stream",
     "text": [
      "x [0.36619901 0.53335147 0.76495175 0.39376967 0.17425838]\n",
      "y [36.61990106 53.3351469  76.49517504 39.37696739 17.42583808]\n"
     ]
    }
   ],
   "source": [
    "# ex 3)\n",
    "pkl_file = open(path + 'data.pkl', 'wb')\n",
    "pickle.dump({'x' : x, 'y' : y}, pkl_file)\n",
    "pkl_file.close()\n",
    "\n",
    "pkl_file = open(path + 'data.pkl', 'rb')\n",
    "data = pickle.load(pkl_file)\n",
    "pkl_file.close()\n",
    "\n",
    "for key in data.keys():\n",
    "    print (key, data[key][:5]) # key 이름과 각 key에 해당하는 변수의 처음 5번째 component를 확인"
   ]
  },
  {
   "cell_type": "markdown",
   "metadata": {
    "slideshow": {
     "slide_type": "slide"
    }
   },
   "source": [
    "## Pandas library\n",
    "- 금융에서 일반적으로 사용하는 파일 형식으로는 txt, csv, xls/xlsx, sql 등이 있으며, 대부분 column (identifier)과 row (observation)으로 이루어져 있음. \n",
    "    - row: 관측 시점\n",
    "    - column: 주가, 수익률, 기업 티커, ...\n",
    "    - index: row에 대한 label을 제공. 일반적으로 관측시점 혹은 기업명을 사용 (혹은 이들을 포함한 변수들; MultiIndex)\n",
    "\n",
    "\n",
    "- 이를 다루기 위해 일반적으로 pandas library를 사용\n",
    "    - 행과 열로 구분된 데이터베이스 (tabular database)를 다룰 수 있는 DataFrame이라는 틀을 제공\n",
    "    \n",
    "\n",
    "- Pandas library를 통해 csv, xlsx 형식의 파일을 저장 가능"
   ]
  },
  {
   "cell_type": "markdown",
   "metadata": {},
   "source": [
    "# read and write with Pandas"
   ]
  },
  {
   "cell_type": "code",
   "execution_count": null,
   "metadata": {},
   "outputs": [],
   "source": [
    "import pandas as pd\n",
    "path = 'C:/test/'\n",
    "pd.read_csv(path + 'data.txt') # read txt\n",
    "pd.read_csv(path + 'data.csv') # read csv\n",
    "pd.read_excel(path + 'data.xlsx') # read xlsx\n",
    "pd.read_sas(path + 'data.sas7bdat') # read SAS data\n",
    "pd.read_stata(path + 'data.dta') # read STATA data\n",
    "\n",
    "pd.to_csv(path + 'data.csv') # write csv\n",
    "pd.to_excel(path + 'data.xlsx') # write xlsx"
   ]
  },
  {
   "cell_type": "markdown",
   "metadata": {},
   "source": [
    "## Constructing DataFrame"
   ]
  },
  {
   "cell_type": "code",
   "execution_count": 9,
   "metadata": {
    "scrolled": true
   },
   "outputs": [
    {
     "data": {
      "text/html": [
       "<div>\n",
       "<style scoped>\n",
       "    .dataframe tbody tr th:only-of-type {\n",
       "        vertical-align: middle;\n",
       "    }\n",
       "\n",
       "    .dataframe tbody tr th {\n",
       "        vertical-align: top;\n",
       "    }\n",
       "\n",
       "    .dataframe thead th {\n",
       "        text-align: right;\n",
       "    }\n",
       "</style>\n",
       "<table border=\"1\" class=\"dataframe\">\n",
       "  <thead>\n",
       "    <tr style=\"text-align: right;\">\n",
       "      <th></th>\n",
       "      <th>numbers</th>\n",
       "    </tr>\n",
       "  </thead>\n",
       "  <tbody>\n",
       "    <tr>\n",
       "      <th>a</th>\n",
       "      <td>10</td>\n",
       "    </tr>\n",
       "    <tr>\n",
       "      <th>b</th>\n",
       "      <td>20</td>\n",
       "    </tr>\n",
       "    <tr>\n",
       "      <th>c</th>\n",
       "      <td>30</td>\n",
       "    </tr>\n",
       "    <tr>\n",
       "      <th>d</th>\n",
       "      <td>40</td>\n",
       "    </tr>\n",
       "  </tbody>\n",
       "</table>\n",
       "</div>"
      ],
      "text/plain": [
       "   numbers\n",
       "a       10\n",
       "b       20\n",
       "c       30\n",
       "d       40"
      ]
     },
     "metadata": {},
     "output_type": "display_data"
    }
   ],
   "source": [
    "# dataframe 생성\n",
    "import pandas as pd\n",
    "df = pd.DataFrame([10, 20, 30, 40], columns=['numbers'], index=['a', 'b', 'c', 'd'])\n",
    "# df = pd.DataFrame([10, 20, 30, 40], columns=['numbers']) # index를 따로 입력하지 않으면 자동으로 0, 1, 2,... 를 생성\n",
    "display(df)"
   ]
  },
  {
   "cell_type": "code",
   "execution_count": 10,
   "metadata": {},
   "outputs": [
    {
     "data": {
      "text/html": [
       "<div>\n",
       "<style scoped>\n",
       "    .dataframe tbody tr th:only-of-type {\n",
       "        vertical-align: middle;\n",
       "    }\n",
       "\n",
       "    .dataframe tbody tr th {\n",
       "        vertical-align: top;\n",
       "    }\n",
       "\n",
       "    .dataframe thead th {\n",
       "        text-align: right;\n",
       "    }\n",
       "</style>\n",
       "<table border=\"1\" class=\"dataframe\">\n",
       "  <thead>\n",
       "    <tr style=\"text-align: right;\">\n",
       "      <th></th>\n",
       "      <th>numbers</th>\n",
       "      <th>alphabet</th>\n",
       "    </tr>\n",
       "  </thead>\n",
       "  <tbody>\n",
       "    <tr>\n",
       "      <th>a</th>\n",
       "      <td>10</td>\n",
       "      <td>a</td>\n",
       "    </tr>\n",
       "    <tr>\n",
       "      <th>b</th>\n",
       "      <td>20</td>\n",
       "      <td>b</td>\n",
       "    </tr>\n",
       "    <tr>\n",
       "      <th>c</th>\n",
       "      <td>30</td>\n",
       "      <td>c</td>\n",
       "    </tr>\n",
       "    <tr>\n",
       "      <th>d</th>\n",
       "      <td>40</td>\n",
       "      <td>d</td>\n",
       "    </tr>\n",
       "  </tbody>\n",
       "</table>\n",
       "</div>"
      ],
      "text/plain": [
       "   numbers alphabet\n",
       "a       10        a\n",
       "b       20        b\n",
       "c       30        c\n",
       "d       40        d"
      ]
     },
     "metadata": {},
     "output_type": "display_data"
    }
   ],
   "source": [
    "# column / 변수 추가\n",
    "df['alphabet'] = ['a', 'b', 'c', 'd']\n",
    "display(df)"
   ]
  },
  {
   "cell_type": "code",
   "execution_count": 11,
   "metadata": {},
   "outputs": [
    {
     "name": "stdout",
     "output_type": "stream",
     "text": [
      "index: Index(['a', 'b', 'c', 'd'], dtype='object')\n",
      "\n",
      "index.values: ['a', 'b', 'c', 'd']\n",
      "\n",
      "val: [[10 'a']\n",
      " [20 'b']\n",
      " [30 'c']\n",
      " [40 'd']]\n",
      "\n",
      "val.shape: (4, 2)\n"
     ]
    }
   ],
   "source": [
    "index = df.index\n",
    "val = df.values\n",
    "\n",
    "print(f'index: {index}\\n') # returns index object\n",
    "print(f'index.values: {list(index.values)}\\n') # value of index as a list\n",
    "\n",
    "print(f'val: {val}\\n') # whole values of columns\n",
    "print(f'val.shape: {val.shape}')"
   ]
  },
  {
   "cell_type": "markdown",
   "metadata": {},
   "source": [
    "## Changing index"
   ]
  },
  {
   "cell_type": "code",
   "execution_count": 12,
   "metadata": {},
   "outputs": [
    {
     "data": {
      "text/html": [
       "<div>\n",
       "<style scoped>\n",
       "    .dataframe tbody tr th:only-of-type {\n",
       "        vertical-align: middle;\n",
       "    }\n",
       "\n",
       "    .dataframe tbody tr th {\n",
       "        vertical-align: top;\n",
       "    }\n",
       "\n",
       "    .dataframe thead th {\n",
       "        text-align: right;\n",
       "    }\n",
       "</style>\n",
       "<table border=\"1\" class=\"dataframe\">\n",
       "  <thead>\n",
       "    <tr style=\"text-align: right;\">\n",
       "      <th></th>\n",
       "      <th>numbers</th>\n",
       "      <th>alphabet</th>\n",
       "    </tr>\n",
       "  </thead>\n",
       "  <tbody>\n",
       "    <tr>\n",
       "      <th>1996-01-01</th>\n",
       "      <td>10</td>\n",
       "      <td>a</td>\n",
       "    </tr>\n",
       "    <tr>\n",
       "      <th>2000-01-01</th>\n",
       "      <td>20</td>\n",
       "      <td>b</td>\n",
       "    </tr>\n",
       "    <tr>\n",
       "      <th>2010-01-01</th>\n",
       "      <td>30</td>\n",
       "      <td>c</td>\n",
       "    </tr>\n",
       "    <tr>\n",
       "      <th>2020-01-01</th>\n",
       "      <td>40</td>\n",
       "      <td>d</td>\n",
       "    </tr>\n",
       "  </tbody>\n",
       "</table>\n",
       "</div>"
      ],
      "text/plain": [
       "            numbers alphabet\n",
       "1996-01-01       10        a\n",
       "2000-01-01       20        b\n",
       "2010-01-01       30        c\n",
       "2020-01-01       40        d"
      ]
     },
     "metadata": {},
     "output_type": "display_data"
    }
   ],
   "source": [
    "# index 값 변경\n",
    "df.index = ['1996-01-01', '2000-01-01', '2010-01-01','2020-01-01']\n",
    "display(df)"
   ]
  },
  {
   "cell_type": "markdown",
   "metadata": {
    "slideshow": {
     "slide_type": "subslide"
    }
   },
   "source": [
    "## indexing and selecting data\n",
    "### loc과 iloc\n",
    "- .loc을 통해 label based로 DataFrame의 값에 접근 가능\n",
    "- .iloc을 통해 integer position based로 DataFrame 값에 접근 가능\n",
    "    - 가능한 한 iloc을 쓰지 않는 것을 권장. iloc으로 접근 시, 해당 변수가 몇 번째 변수인가를 확인해야 하는 번거로움이 있음"
   ]
  },
  {
   "cell_type": "code",
   "execution_count": 14,
   "metadata": {
    "slideshow": {
     "slide_type": "fragment"
    }
   },
   "outputs": [
    {
     "name": "stdout",
     "output_type": "stream",
     "text": [
      "1996-01-01    10\n",
      "2000-01-01    20\n",
      "2010-01-01    30\n",
      "2020-01-01    40\n",
      "Name: numbers, dtype: int64\n",
      "\n",
      "1996-01-01    10\n",
      "2000-01-01    20\n",
      "2010-01-01    30\n",
      "2020-01-01    40\n",
      "Name: numbers, dtype: int64\n",
      "\n",
      "1996-01-01    a\n",
      "2000-01-01    b\n",
      "2010-01-01    c\n",
      "2020-01-01    d\n",
      "Name: alphabet, dtype: object\n"
     ]
    }
   ],
   "source": [
    "numbers1 = df['numbers'] # 'numbers' 변수의 값을 numbers1 변수에 할당\n",
    "numbers2 = df.loc[:, 'numbers'] # 다른 문법, 같은 결과\n",
    "\n",
    "numbers3 = df.iloc[:, 0] # 0: 0번째 column\n",
    "\n",
    "print(numbers1, numbers2, numbers3, sep='\\n\\n')"
   ]
  },
  {
   "cell_type": "markdown",
   "metadata": {},
   "source": [
    "- df.loc[:, 'colname']으로 colname에 해당하는 column 전체를 select 가능\n",
    "    - df['colname']도 가능\n",
    "\n",
    "\n",
    "- df.loc['index', :] 으로 index에 해당하는 row 전체를 select 가능\n",
    "\n",
    "\n",
    "- df.loc['rowname', 'colname']으로 component 하나를 select 가능\n",
    "\n",
    "\n",
    "- 여러 개의 row와 column을 선택하고 싶을 시 ['rowname1', 'rowname2'] 형태의 list를 이용"
   ]
  },
  {
   "cell_type": "code",
   "execution_count": 15,
   "metadata": {
    "slideshow": {
     "slide_type": "subslide"
    }
   },
   "outputs": [
    {
     "name": "stdout",
     "output_type": "stream",
     "text": [
      "            numbers alphabet\n",
      "1996-01-01       10        a\n",
      "2000-01-01       20        b\n",
      "2010-01-01       30        c\n",
      "2020-01-01       40        d\n",
      "\n",
      "\n",
      "1996-01-01    10\n",
      "2000-01-01    20\n",
      "Name: numbers, dtype: int64\n",
      "--------------------------------------------------------------------------------\n",
      "\n",
      "\n",
      "40\n",
      "--------------------------------------------------------------------------------\n",
      "\n",
      "\n",
      "1996-01-01    10\n",
      "2000-01-01    20\n",
      "Name: numbers, dtype: int64\n"
     ]
    }
   ],
   "source": [
    "print(df[['numbers', 'alphabet']])\n",
    "print('\\n')\n",
    "\n",
    "# selecting or slicing\n",
    "print(df['numbers'][:2])\n",
    "print('-'*80)\n",
    "\n",
    "print('\\n')\n",
    "print(df['numbers'][3])\n",
    "print('-'*80)\n",
    "\n",
    "print('\\n')\n",
    "print(df.loc[:, 'numbers'][:2])"
   ]
  },
  {
   "cell_type": "markdown",
   "metadata": {},
   "source": [
    "### Manipulating components"
   ]
  },
  {
   "cell_type": "code",
   "execution_count": 16,
   "metadata": {
    "slideshow": {
     "slide_type": "subslide"
    }
   },
   "outputs": [
    {
     "data": {
      "text/html": [
       "<div>\n",
       "<style scoped>\n",
       "    .dataframe tbody tr th:only-of-type {\n",
       "        vertical-align: middle;\n",
       "    }\n",
       "\n",
       "    .dataframe tbody tr th {\n",
       "        vertical-align: top;\n",
       "    }\n",
       "\n",
       "    .dataframe thead th {\n",
       "        text-align: right;\n",
       "    }\n",
       "</style>\n",
       "<table border=\"1\" class=\"dataframe\">\n",
       "  <thead>\n",
       "    <tr style=\"text-align: right;\">\n",
       "      <th></th>\n",
       "      <th>numbers</th>\n",
       "      <th>alphabet</th>\n",
       "    </tr>\n",
       "  </thead>\n",
       "  <tbody>\n",
       "    <tr>\n",
       "      <th>1996-01-01</th>\n",
       "      <td>10</td>\n",
       "      <td>a</td>\n",
       "    </tr>\n",
       "    <tr>\n",
       "      <th>2000-01-01</th>\n",
       "      <td>20</td>\n",
       "      <td>b</td>\n",
       "    </tr>\n",
       "    <tr>\n",
       "      <th>2010-01-01</th>\n",
       "      <td>30</td>\n",
       "      <td>c</td>\n",
       "    </tr>\n",
       "    <tr>\n",
       "      <th>2020-01-01</th>\n",
       "      <td>40</td>\n",
       "      <td>d</td>\n",
       "    </tr>\n",
       "  </tbody>\n",
       "</table>\n",
       "</div>"
      ],
      "text/plain": [
       "            numbers alphabet\n",
       "1996-01-01       10        a\n",
       "2000-01-01       20        b\n",
       "2010-01-01       30        c\n",
       "2020-01-01       40        d"
      ]
     },
     "metadata": {},
     "output_type": "display_data"
    },
    {
     "data": {
      "text/html": [
       "<div>\n",
       "<style scoped>\n",
       "    .dataframe tbody tr th:only-of-type {\n",
       "        vertical-align: middle;\n",
       "    }\n",
       "\n",
       "    .dataframe tbody tr th {\n",
       "        vertical-align: top;\n",
       "    }\n",
       "\n",
       "    .dataframe thead th {\n",
       "        text-align: right;\n",
       "    }\n",
       "</style>\n",
       "<table border=\"1\" class=\"dataframe\">\n",
       "  <thead>\n",
       "    <tr style=\"text-align: right;\">\n",
       "      <th></th>\n",
       "      <th>numbers</th>\n",
       "      <th>alphabet</th>\n",
       "    </tr>\n",
       "  </thead>\n",
       "  <tbody>\n",
       "    <tr>\n",
       "      <th>1996-01-01</th>\n",
       "      <td>70</td>\n",
       "      <td>a</td>\n",
       "    </tr>\n",
       "    <tr>\n",
       "      <th>2000-01-01</th>\n",
       "      <td>20</td>\n",
       "      <td>b</td>\n",
       "    </tr>\n",
       "    <tr>\n",
       "      <th>2010-01-01</th>\n",
       "      <td>30</td>\n",
       "      <td>c</td>\n",
       "    </tr>\n",
       "    <tr>\n",
       "      <th>2020-01-01</th>\n",
       "      <td>40</td>\n",
       "      <td>d</td>\n",
       "    </tr>\n",
       "  </tbody>\n",
       "</table>\n",
       "</div>"
      ],
      "text/plain": [
       "            numbers alphabet\n",
       "1996-01-01       70        a\n",
       "2000-01-01       20        b\n",
       "2010-01-01       30        c\n",
       "2020-01-01       40        d"
      ]
     },
     "metadata": {},
     "output_type": "display_data"
    },
    {
     "data": {
      "text/html": [
       "<div>\n",
       "<style scoped>\n",
       "    .dataframe tbody tr th:only-of-type {\n",
       "        vertical-align: middle;\n",
       "    }\n",
       "\n",
       "    .dataframe tbody tr th {\n",
       "        vertical-align: top;\n",
       "    }\n",
       "\n",
       "    .dataframe thead th {\n",
       "        text-align: right;\n",
       "    }\n",
       "</style>\n",
       "<table border=\"1\" class=\"dataframe\">\n",
       "  <thead>\n",
       "    <tr style=\"text-align: right;\">\n",
       "      <th></th>\n",
       "      <th>numbers</th>\n",
       "      <th>alphabet</th>\n",
       "    </tr>\n",
       "  </thead>\n",
       "  <tbody>\n",
       "    <tr>\n",
       "      <th>1996-01-01</th>\n",
       "      <td>70</td>\n",
       "      <td>a</td>\n",
       "    </tr>\n",
       "    <tr>\n",
       "      <th>2000-01-01</th>\n",
       "      <td>20</td>\n",
       "      <td>b</td>\n",
       "    </tr>\n",
       "    <tr>\n",
       "      <th>2010-01-01</th>\n",
       "      <td>30</td>\n",
       "      <td>cc</td>\n",
       "    </tr>\n",
       "    <tr>\n",
       "      <th>2020-01-01</th>\n",
       "      <td>40</td>\n",
       "      <td>d</td>\n",
       "    </tr>\n",
       "  </tbody>\n",
       "</table>\n",
       "</div>"
      ],
      "text/plain": [
       "            numbers alphabet\n",
       "1996-01-01       70        a\n",
       "2000-01-01       20        b\n",
       "2010-01-01       30       cc\n",
       "2020-01-01       40        d"
      ]
     },
     "metadata": {},
     "output_type": "display_data"
    },
    {
     "data": {
      "text/plain": [
       "'df_:'"
      ]
     },
     "metadata": {},
     "output_type": "display_data"
    },
    {
     "data": {
      "text/html": [
       "<div>\n",
       "<style scoped>\n",
       "    .dataframe tbody tr th:only-of-type {\n",
       "        vertical-align: middle;\n",
       "    }\n",
       "\n",
       "    .dataframe tbody tr th {\n",
       "        vertical-align: top;\n",
       "    }\n",
       "\n",
       "    .dataframe thead th {\n",
       "        text-align: right;\n",
       "    }\n",
       "</style>\n",
       "<table border=\"1\" class=\"dataframe\">\n",
       "  <thead>\n",
       "    <tr style=\"text-align: right;\">\n",
       "      <th></th>\n",
       "      <th>numbers</th>\n",
       "      <th>alphabet</th>\n",
       "    </tr>\n",
       "  </thead>\n",
       "  <tbody>\n",
       "    <tr>\n",
       "      <th>1996-01-01</th>\n",
       "      <td>70.0</td>\n",
       "      <td>a</td>\n",
       "    </tr>\n",
       "    <tr>\n",
       "      <th>2000-01-01</th>\n",
       "      <td>20.0</td>\n",
       "      <td>b</td>\n",
       "    </tr>\n",
       "    <tr>\n",
       "      <th>2010-01-01</th>\n",
       "      <td>30.0</td>\n",
       "      <td>cc</td>\n",
       "    </tr>\n",
       "    <tr>\n",
       "      <th>2020-01-01</th>\n",
       "      <td>40.0</td>\n",
       "      <td>d</td>\n",
       "    </tr>\n",
       "    <tr>\n",
       "      <th>0</th>\n",
       "      <td>130.0</td>\n",
       "      <td>NaN</td>\n",
       "    </tr>\n",
       "  </tbody>\n",
       "</table>\n",
       "</div>"
      ],
      "text/plain": [
       "            numbers alphabet\n",
       "1996-01-01     70.0        a\n",
       "2000-01-01     20.0        b\n",
       "2010-01-01     30.0       cc\n",
       "2020-01-01     40.0        d\n",
       "0             130.0      NaN"
      ]
     },
     "metadata": {},
     "output_type": "display_data"
    }
   ],
   "source": [
    "# ex) loc\n",
    "display(df)\n",
    "\n",
    "df.loc['1996-01-01', 'numbers'] = 70 #  'numbers' column의 '1996-01-01' row의 값을 30으로 바꿈\n",
    "display(df)\n",
    "\n",
    "df.loc['2010-01-01', 'alphabet'] *= 2 # 'alphabet' column의 '2010-01-01' row의 값에 *2 연산을 함\n",
    "display(df)\n",
    "\n",
    "import copy\n",
    "df_ = copy.deepcopy(df)\n",
    "df_.loc[0, 'numbers'] = 130 # index가 0인 row, 'numbers' column에 대해 새로운 entry가 생성됨 (주의: 0번째 row를 바꾸는 것이 아님)\n",
    "display('df_:', df_)"
   ]
  },
  {
   "cell_type": "code",
   "execution_count": 129,
   "metadata": {
    "slideshow": {
     "slide_type": "subslide"
    }
   },
   "outputs": [
    {
     "data": {
      "text/html": [
       "<div>\n",
       "<style scoped>\n",
       "    .dataframe tbody tr th:only-of-type {\n",
       "        vertical-align: middle;\n",
       "    }\n",
       "\n",
       "    .dataframe tbody tr th {\n",
       "        vertical-align: top;\n",
       "    }\n",
       "\n",
       "    .dataframe thead th {\n",
       "        text-align: right;\n",
       "    }\n",
       "</style>\n",
       "<table border=\"1\" class=\"dataframe\">\n",
       "  <thead>\n",
       "    <tr style=\"text-align: right;\">\n",
       "      <th></th>\n",
       "      <th>numbers</th>\n",
       "      <th>alphabet</th>\n",
       "    </tr>\n",
       "  </thead>\n",
       "  <tbody>\n",
       "    <tr>\n",
       "      <th>1996-01-01</th>\n",
       "      <td>70</td>\n",
       "      <td>a</td>\n",
       "    </tr>\n",
       "    <tr>\n",
       "      <th>2000-01-01</th>\n",
       "      <td>20</td>\n",
       "      <td>b</td>\n",
       "    </tr>\n",
       "    <tr>\n",
       "      <th>2010-01-01</th>\n",
       "      <td>30</td>\n",
       "      <td>cc</td>\n",
       "    </tr>\n",
       "    <tr>\n",
       "      <th>2020-01-01</th>\n",
       "      <td>40</td>\n",
       "      <td>100</td>\n",
       "    </tr>\n",
       "  </tbody>\n",
       "</table>\n",
       "</div>"
      ],
      "text/plain": [
       "            numbers alphabet\n",
       "1996-01-01       70        a\n",
       "2000-01-01       20        b\n",
       "2010-01-01       30       cc\n",
       "2020-01-01       40      100"
      ]
     },
     "metadata": {},
     "output_type": "display_data"
    }
   ],
   "source": [
    "# ex) iloc\n",
    "df.iloc[3, 1] = 100 # 3번째 row, 1번째 column의 값을 100으로 바꿈\n",
    "display(df)\n",
    "\n",
    "# 3번째 row는 '2020-01-01', 1번째 column은 'alphabet' column에 해당"
   ]
  },
  {
   "cell_type": "markdown",
   "metadata": {},
   "source": [
    "### datetime\n",
    "- Pandas library를 통해 string을 datetime으로 변환 가능\n",
    "- str일 때에는 pandas에서 제공하는 date에 대한 여러 함수들을 사용할 수 없음"
   ]
  },
  {
   "cell_type": "code",
   "execution_count": 17,
   "metadata": {},
   "outputs": [
    {
     "data": {
      "text/plain": [
       "str"
      ]
     },
     "execution_count": 17,
     "metadata": {},
     "output_type": "execute_result"
    }
   ],
   "source": [
    "type('1996-01-01')"
   ]
  },
  {
   "cell_type": "code",
   "execution_count": 119,
   "metadata": {
    "slideshow": {
     "slide_type": "subslide"
    }
   },
   "outputs": [
    {
     "name": "stdout",
     "output_type": "stream",
     "text": [
      "DatetimeIndex(['1996-01-01', '2000-01-01', '2010-01-01', '2020-01-01',\n",
      "               '1970-01-01'],\n",
      "              dtype='datetime64[ns]', freq=None)\n",
      "<class 'pandas.core.indexes.datetimes.DatetimeIndex'>\n"
     ]
    }
   ],
   "source": [
    "# pd.to_datetime()을 통해 date format의 string object를 DateTimeIndex object로 변환 가능\n",
    "str2datetime = pd.to_datetime(df.index)\n",
    "print(str2datetime)\n",
    "print(type(str2datetime))"
   ]
  }
 ],
 "metadata": {
  "celltoolbar": "Slideshow",
  "kernelspec": {
   "display_name": "Python 3",
   "language": "python",
   "name": "python3"
  },
  "language_info": {
   "codemirror_mode": {
    "name": "ipython",
    "version": 3
   },
   "file_extension": ".py",
   "mimetype": "text/x-python",
   "name": "python",
   "nbconvert_exporter": "python",
   "pygments_lexer": "ipython3",
   "version": "3.8.8"
  },
  "toc": {
   "base_numbering": 1,
   "nav_menu": {},
   "number_sections": true,
   "sideBar": true,
   "skip_h1_title": false,
   "title_cell": "Table of Contents",
   "title_sidebar": "Contents",
   "toc_cell": true,
   "toc_position": {
    "height": "calc(100% - 180px)",
    "left": "10px",
    "top": "150px",
    "width": "165px"
   },
   "toc_section_display": true,
   "toc_window_display": true
  }
 },
 "nbformat": 4,
 "nbformat_minor": 2
}
