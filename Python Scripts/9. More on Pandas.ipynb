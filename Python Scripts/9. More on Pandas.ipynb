{
 "cells": [
  {
   "cell_type": "markdown",
   "metadata": {
    "toc": true
   },
   "source": [
    "<h1>Table of Contents<span class=\"tocSkip\"></span></h1>\n",
    "<div class=\"toc\"><ul class=\"toc-item\"><li><span><a href=\"#예시-1)\" data-toc-modified-id=\"예시-1)-1\"><span class=\"toc-item-num\">1&nbsp;&nbsp;</span>예시 1)</a></span><ul class=\"toc-item\"><li><span><a href=\"#return-calculation\" data-toc-modified-id=\"return-calculation-1.1\"><span class=\"toc-item-num\">1.1&nbsp;&nbsp;</span>return calculation</a></span><ul class=\"toc-item\"><li><span><a href=\"#&quot;forward&quot;-수익률-계산\" data-toc-modified-id=\"&quot;forward&quot;-수익률-계산-1.1.1\"><span class=\"toc-item-num\">1.1.1&nbsp;&nbsp;</span>\"forward\" 수익률 계산</a></span></li><li><span><a href=\"#수익률-계산\" data-toc-modified-id=\"수익률-계산-1.1.2\"><span class=\"toc-item-num\">1.1.2&nbsp;&nbsp;</span>수익률 계산</a></span></li><li><span><a href=\"#freq='D'\" data-toc-modified-id=\"freq='D'-1.1.3\"><span class=\"toc-item-num\">1.1.3&nbsp;&nbsp;</span>freq='D'</a></span></li><li><span><a href=\"#freq='B'\" data-toc-modified-id=\"freq='B'-1.1.4\"><span class=\"toc-item-num\">1.1.4&nbsp;&nbsp;</span>freq='B'</a></span></li><li><span><a href=\"#freq-with-MultiIndex\" data-toc-modified-id=\"freq-with-MultiIndex-1.1.5\"><span class=\"toc-item-num\">1.1.5&nbsp;&nbsp;</span>freq with MultiIndex</a></span></li></ul></li></ul></li><li><span><a href=\"#예시-2)\" data-toc-modified-id=\"예시-2)-2\"><span class=\"toc-item-num\">2&nbsp;&nbsp;</span>예시 2)</a></span><ul class=\"toc-item\"><li><span><a href=\"#DataFrame.index\" data-toc-modified-id=\"DataFrame.index-2.1\"><span class=\"toc-item-num\">2.1&nbsp;&nbsp;</span>DataFrame.index</a></span></li><li><span><a href=\"#inplace\" data-toc-modified-id=\"inplace-2.2\"><span class=\"toc-item-num\">2.2&nbsp;&nbsp;</span>inplace</a></span></li></ul></li><li><span><a href=\"#DataFrame.set_index\" data-toc-modified-id=\"DataFrame.set_index-3\"><span class=\"toc-item-num\">3&nbsp;&nbsp;</span>DataFrame.set_index</a></span><ul class=\"toc-item\"><li><span><a href=\"#sort_values\" data-toc-modified-id=\"sort_values-3.1\"><span class=\"toc-item-num\">3.1&nbsp;&nbsp;</span>sort_values</a></span></li></ul></li></ul></div>"
   ]
  },
  {
   "cell_type": "markdown",
   "metadata": {},
   "source": [
    "asfreq(): Convert TimeSeries to specified frequency\n",
    "- month-end, year-end, business month-end, business month-start 등. \n",
    "    - df.asfreq('M'), df.asfreq('A'), df.asfreq('BM'), df.asfreq('BMS') (https://pandas.pydata.org/pandas-docs/stable/user_guide/timeseries.html#offset-aliases)\n",
    "\n"
   ]
  },
  {
   "cell_type": "markdown",
   "metadata": {},
   "source": [
    "# 예시 1)\n",
    "- groupby, shift method의 작동방식을 익히기 위한 간단한 수익률 계산 예시\n",
    "- np.random.normal(loc=loc, scale=scale, size=size)\n",
    "    - 평균이 loc, 표준편차가 scale, 크기가 size인 정규분포난수"
   ]
  },
  {
   "cell_type": "code",
   "execution_count": 1,
   "metadata": {},
   "outputs": [
    {
     "name": "stdout",
     "output_type": "stream",
     "text": [
      "['CUSIP', 'PERMNO', 'PERMCO', 'ISSUNO', 'HEXCD', 'HSICCD', 'DATE', 'BIDLO', 'ASKHI', 'PRC', 'VOL', 'RET', 'BID', 'ASK', 'SHROUT', 'CFACPR', 'CFACSHR', 'OPENPRC', 'NUMTRD', 'RETX']\n"
     ]
    },
    {
     "data": {
      "text/html": [
       "<div>\n",
       "<style scoped>\n",
       "    .dataframe tbody tr th:only-of-type {\n",
       "        vertical-align: middle;\n",
       "    }\n",
       "\n",
       "    .dataframe tbody tr th {\n",
       "        vertical-align: top;\n",
       "    }\n",
       "\n",
       "    .dataframe thead th {\n",
       "        text-align: right;\n",
       "    }\n",
       "</style>\n",
       "<table border=\"1\" class=\"dataframe\">\n",
       "  <thead>\n",
       "    <tr style=\"text-align: right;\">\n",
       "      <th></th>\n",
       "      <th>DATE</th>\n",
       "      <th>PERMNO</th>\n",
       "      <th>PRC</th>\n",
       "      <th>RET</th>\n",
       "    </tr>\n",
       "  </thead>\n",
       "  <tbody>\n",
       "    <tr>\n",
       "      <th>0</th>\n",
       "      <td>2019-01-02</td>\n",
       "      <td>10026</td>\n",
       "      <td>141.000000</td>\n",
       "      <td>-0.024829</td>\n",
       "    </tr>\n",
       "    <tr>\n",
       "      <th>1</th>\n",
       "      <td>2019-01-03</td>\n",
       "      <td>10026</td>\n",
       "      <td>143.020004</td>\n",
       "      <td>0.014326</td>\n",
       "    </tr>\n",
       "    <tr>\n",
       "      <th>2</th>\n",
       "      <td>2019-01-04</td>\n",
       "      <td>10026</td>\n",
       "      <td>144.839996</td>\n",
       "      <td>0.012725</td>\n",
       "    </tr>\n",
       "    <tr>\n",
       "      <th>3</th>\n",
       "      <td>2019-01-07</td>\n",
       "      <td>10026</td>\n",
       "      <td>145.410004</td>\n",
       "      <td>0.003935</td>\n",
       "    </tr>\n",
       "    <tr>\n",
       "      <th>4</th>\n",
       "      <td>2019-01-08</td>\n",
       "      <td>10026</td>\n",
       "      <td>148.699997</td>\n",
       "      <td>0.022626</td>\n",
       "    </tr>\n",
       "    <tr>\n",
       "      <th>...</th>\n",
       "      <td>...</td>\n",
       "      <td>...</td>\n",
       "      <td>...</td>\n",
       "      <td>...</td>\n",
       "    </tr>\n",
       "    <tr>\n",
       "      <th>155</th>\n",
       "      <td>2019-02-22</td>\n",
       "      <td>10044</td>\n",
       "      <td>9.100000</td>\n",
       "      <td>-0.007417</td>\n",
       "    </tr>\n",
       "    <tr>\n",
       "      <th>156</th>\n",
       "      <td>2019-02-25</td>\n",
       "      <td>10044</td>\n",
       "      <td>9.250000</td>\n",
       "      <td>0.016483</td>\n",
       "    </tr>\n",
       "    <tr>\n",
       "      <th>157</th>\n",
       "      <td>2019-02-26</td>\n",
       "      <td>10044</td>\n",
       "      <td>9.450000</td>\n",
       "      <td>0.021622</td>\n",
       "    </tr>\n",
       "    <tr>\n",
       "      <th>158</th>\n",
       "      <td>2019-02-27</td>\n",
       "      <td>10044</td>\n",
       "      <td>9.356800</td>\n",
       "      <td>-0.009862</td>\n",
       "    </tr>\n",
       "    <tr>\n",
       "      <th>159</th>\n",
       "      <td>2019-02-28</td>\n",
       "      <td>10044</td>\n",
       "      <td>9.480000</td>\n",
       "      <td>0.013167</td>\n",
       "    </tr>\n",
       "  </tbody>\n",
       "</table>\n",
       "<p>160 rows × 4 columns</p>\n",
       "</div>"
      ],
      "text/plain": [
       "          DATE  PERMNO         PRC       RET\n",
       "0   2019-01-02   10026  141.000000 -0.024829\n",
       "1   2019-01-03   10026  143.020004  0.014326\n",
       "2   2019-01-04   10026  144.839996  0.012725\n",
       "3   2019-01-07   10026  145.410004  0.003935\n",
       "4   2019-01-08   10026  148.699997  0.022626\n",
       "..         ...     ...         ...       ...\n",
       "155 2019-02-22   10044    9.100000 -0.007417\n",
       "156 2019-02-25   10044    9.250000  0.016483\n",
       "157 2019-02-26   10044    9.450000  0.021622\n",
       "158 2019-02-27   10044    9.356800 -0.009862\n",
       "159 2019-02-28   10044    9.480000  0.013167\n",
       "\n",
       "[160 rows x 4 columns]"
      ]
     },
     "metadata": {},
     "output_type": "display_data"
    }
   ],
   "source": [
    "import numpy as np\n",
    "import pandas as pd\n",
    "df = pd.read_excel(r\"E:\\Dropbox\\GitHub\\MFE\\sample_dsf.xlsx\", engine='openpyxl')\n",
    "print(df.columns.tolist())\n",
    "\n",
    "df = df[['DATE', 'PERMNO', 'PRC', 'RET']] # keep only needed\n",
    "display(df)"
   ]
  },
  {
   "cell_type": "markdown",
   "metadata": {},
   "source": [
    "## return calculation\n",
    "- pct_change(periods, freq)를 통해 계산 가능: ( price(t) - price(t-periods) ) / price(t-periods)\n",
    "\n",
    "\n",
    "    - pct_change(periods=1): daily frequency 데이터의 경우 1일 수익률을, monthly frequency 데이터의 경우 1달 수익률을 계산\n",
    "    - pct_change(periods=-1): ( price(t) - price(t+1) ) / price(t+1); 수익률이 아님을 주의\n",
    "        - \"forward\" 수익률을 구하기 위해서는 shift() 및 diff()의 조합을 사용    \n",
    "\n",
    "\n",
    "    - pct_change(periods=1, freq='D'): index의 type이 datetime인 경우, 수익률을 계산\n",
    "        - freq='D'는 calendar day 기준이므로, 날짜 사이에 휴일/주말이 낀 경우 수익률을 계산하지 않음\n",
    "        - freq='B'는 business day 기준으로, 일반적으로 사용하는 수익률\n"
   ]
  },
  {
   "cell_type": "markdown",
   "metadata": {},
   "source": [
    "### \"forward\" 수익률 계산"
   ]
  },
  {
   "cell_type": "code",
   "execution_count": 2,
   "metadata": {},
   "outputs": [
    {
     "name": "stdout",
     "output_type": "stream",
     "text": [
      "0    0.014326\n",
      "1    0.012725\n",
      "2    0.003935\n",
      "3    0.022626\n",
      "4   -0.006658\n",
      "Name: PRC, dtype: float64\n",
      "\n",
      "0    0.014326\n",
      "1    0.012725\n",
      "2    0.003935\n",
      "3    0.022626\n",
      "4   -0.006658\n",
      "Name: PRC, dtype: float64\n"
     ]
    }
   ],
   "source": [
    "_df = df.groupby(by=['PERMNO'])['PRC']\n",
    "print( ((_df.shift(periods=-1) - _df.shift(periods=0)) / _df.shift(periods=0)).head()) # method 1\n",
    "print('')\n",
    "print( (-df.groupby(by=['PERMNO'])['PRC'].diff(periods=-1) / df.groupby(by=['PERMNO'])['PRC'].shift(periods=0)).head()) # method 2"
   ]
  },
  {
   "cell_type": "markdown",
   "metadata": {},
   "source": [
    "### 수익률 계산"
   ]
  },
  {
   "cell_type": "code",
   "execution_count": 3,
   "metadata": {},
   "outputs": [
    {
     "name": "stdout",
     "output_type": "stream",
     "text": [
      "RangeIndex(start=0, stop=160, step=1)\n",
      "0         NaN\n",
      "1    0.014326\n",
      "2    0.012725\n",
      "3    0.003935\n",
      "4    0.022626\n",
      "Name: PRC, dtype: float64\n"
     ]
    }
   ],
   "source": [
    "print(df.index)\n",
    "print(df.groupby(by=['PERMNO'])['PRC'].pct_change(periods=1).head())"
   ]
  },
  {
   "cell_type": "markdown",
   "metadata": {},
   "source": [
    "### freq='D'"
   ]
  },
  {
   "cell_type": "code",
   "execution_count": 4,
   "metadata": {},
   "outputs": [
    {
     "name": "stdout",
     "output_type": "stream",
     "text": [
      "DatetimeIndex(['2019-01-02', '2019-01-03', '2019-01-04', '2019-01-07',\n",
      "               '2019-01-08', '2019-01-09', '2019-01-10', '2019-01-11',\n",
      "               '2019-01-14', '2019-01-15',\n",
      "               ...\n",
      "               '2019-02-14', '2019-02-15', '2019-02-19', '2019-02-20',\n",
      "               '2019-02-21', '2019-02-22', '2019-02-25', '2019-02-26',\n",
      "               '2019-02-27', '2019-02-28'],\n",
      "              dtype='datetime64[ns]', name='DATE', length=160, freq=None)\n",
      "DATE\n",
      "2019-01-02         NaN\n",
      "2019-01-03    0.014326\n",
      "2019-01-04    0.012725\n",
      "2019-01-07         NaN\n",
      "2019-01-08    0.022626\n",
      "Name: PRC, dtype: float64\n"
     ]
    }
   ],
   "source": [
    "df.set_index('DATE', inplace=True)\n",
    "print(df.index)\n",
    "print(df.groupby(by=['PERMNO'])['PRC'].pct_change(periods=1, freq='D').head()) # freq='D'"
   ]
  },
  {
   "cell_type": "markdown",
   "metadata": {},
   "source": [
    "### freq='B'"
   ]
  },
  {
   "cell_type": "code",
   "execution_count": 5,
   "metadata": {},
   "outputs": [
    {
     "name": "stdout",
     "output_type": "stream",
     "text": [
      "DATE\n",
      "2019-01-02         NaN\n",
      "2019-01-03    0.014326\n",
      "2019-01-04    0.012725\n",
      "2019-01-07    0.003935\n",
      "2019-01-08    0.022626\n",
      "Name: PRC, dtype: float64\n"
     ]
    }
   ],
   "source": [
    "print(df.groupby(by=['PERMNO'])['PRC'].pct_change(periods=1, freq='B').head()) # freq='D'"
   ]
  },
  {
   "cell_type": "markdown",
   "metadata": {},
   "source": [
    "### freq with MultiIndex\n",
    "- freq는 index가 MultiIndex가 아닐 때만 작용함 (MultiIndex가 아닌, DatetimeIndex일 경우에만)\n"
   ]
  },
  {
   "cell_type": "code",
   "execution_count": 6,
   "metadata": {},
   "outputs": [
    {
     "name": "stdout",
     "output_type": "stream",
     "text": [
      "MultiIndex([(10026, '2019-01-02'),\n",
      "            (10026, '2019-01-03'),\n",
      "            (10026, '2019-01-04'),\n",
      "            (10026, '2019-01-07'),\n",
      "            (10026, '2019-01-08'),\n",
      "            (10026, '2019-01-09'),\n",
      "            (10026, '2019-01-10'),\n",
      "            (10026, '2019-01-11'),\n",
      "            (10026, '2019-01-14'),\n",
      "            (10026, '2019-01-15'),\n",
      "            ...\n",
      "            (10044, '2019-02-14'),\n",
      "            (10044, '2019-02-15'),\n",
      "            (10044, '2019-02-19'),\n",
      "            (10044, '2019-02-20'),\n",
      "            (10044, '2019-02-21'),\n",
      "            (10044, '2019-02-22'),\n",
      "            (10044, '2019-02-25'),\n",
      "            (10044, '2019-02-26'),\n",
      "            (10044, '2019-02-27'),\n",
      "            (10044, '2019-02-28')],\n",
      "           names=['PERMNO', 'DATE'], length=160)\n"
     ]
    }
   ],
   "source": [
    "df.set_index(['PERMNO', df.index], inplace=True)\n",
    "print(df.index)"
   ]
  },
  {
   "cell_type": "code",
   "execution_count": 7,
   "metadata": {},
   "outputs": [
    {
     "data": {
      "text/plain": [
       "PERMNO  DATE      \n",
       "10026   2019-01-02         NaN\n",
       "        2019-01-03    0.014326\n",
       "        2019-01-04    0.012725\n",
       "        2019-01-07    0.003935\n",
       "        2019-01-08    0.022626\n",
       "                        ...   \n",
       "10044   2019-02-22   -0.007417\n",
       "        2019-02-25    0.016483\n",
       "        2019-02-26    0.021622\n",
       "        2019-02-27   -0.009862\n",
       "        2019-02-28    0.013167\n",
       "Name: PRC, Length: 160, dtype: float64"
      ]
     },
     "execution_count": 7,
     "metadata": {},
     "output_type": "execute_result"
    }
   ],
   "source": [
    "df.groupby(by='PERMNO')['PRC'].pct_change(periods=1) # w/o freq works fine with MultiIndex"
   ]
  },
  {
   "cell_type": "code",
   "execution_count": 8,
   "metadata": {},
   "outputs": [
    {
     "data": {
      "text/plain": [
       "PERMNO  DATE      \n",
       "10026   2019-01-02         NaN\n",
       "        2019-01-03    0.014326\n",
       "        2019-01-04    0.012725\n",
       "        2019-01-07    0.003935\n",
       "        2019-01-08    0.022626\n",
       "                        ...   \n",
       "10044   2019-02-22   -0.007417\n",
       "        2019-02-25    0.016483\n",
       "        2019-02-26    0.021622\n",
       "        2019-02-27   -0.009862\n",
       "        2019-02-28    0.013167\n",
       "Name: PRC, Length: 160, dtype: float64"
      ]
     },
     "execution_count": 8,
     "metadata": {},
     "output_type": "execute_result"
    }
   ],
   "source": [
    "df.groupby(by='PERMNO', level='DATE')['PRC'].pct_change(periods=1) # w/o freq works fine with MultiIndex"
   ]
  },
  {
   "cell_type": "code",
   "execution_count": 9,
   "metadata": {},
   "outputs": [
    {
     "name": "stdout",
     "output_type": "stream",
     "text": [
      "PERMNO  DATE      \n",
      "10026   2019-01-02         NaN\n",
      "        2019-01-03    0.014326\n",
      "        2019-01-04    0.012725\n",
      "        2019-01-07    0.003935\n",
      "        2019-01-08    0.022626\n",
      "Name: PRC, dtype: float64\n"
     ]
    },
    {
     "name": "stderr",
     "output_type": "stream",
     "text": [
      "C:\\Users\\crux_\\AppData\\Local\\Temp\\ipykernel_36588\\3681246615.py:2: FutureWarning: Not prepending group keys to the result index of transform-like apply. In the future, the group keys will be included in the index, regardless of whether the applied function returns a like-indexed object.\n",
      "To preserve the previous behavior, use\n",
      "\n",
      "\t>>> .groupby(..., group_keys=False)\n",
      "\n",
      "To adopt the future behavior and silence this warning, use \n",
      "\n",
      "\t>>> .groupby(..., group_keys=True)\n",
      "  print(df.groupby(by=['PERMNO'], level=[1]).apply(myFun)['PRC'].head())\n"
     ]
    }
   ],
   "source": [
    "myFun = lambda x: x.pct_change()\n",
    "print(df.groupby(by=['PERMNO'], level=[1]).apply(myFun)['PRC'].head())"
   ]
  },
  {
   "cell_type": "code",
   "execution_count": 20,
   "metadata": {
    "scrolled": true
   },
   "outputs": [
    {
     "data": {
      "text/plain": [
       "PERMNO  DATE      \n",
       "10026   2019-01-02         NaN\n",
       "        2019-01-03    0.014326\n",
       "        2019-01-04    0.012725\n",
       "        2019-01-07    0.003935\n",
       "        2019-01-08    0.022626\n",
       "                        ...   \n",
       "10044   2019-02-22   -0.007417\n",
       "        2019-02-25    0.016483\n",
       "        2019-02-26    0.021622\n",
       "        2019-02-27   -0.009862\n",
       "        2019-02-28    0.013167\n",
       "Name: PRC, Length: 160, dtype: float64"
      ]
     },
     "execution_count": 20,
     "metadata": {},
     "output_type": "execute_result"
    }
   ],
   "source": [
    "df.groupby(by='PERMNO', level='DATE', group_keys=False)['PRC'].pct_change(periods=1)"
   ]
  },
  {
   "cell_type": "code",
   "execution_count": 21,
   "metadata": {
    "scrolled": true
   },
   "outputs": [
    {
     "ename": "NotImplementedError",
     "evalue": "This method is only implemented for DatetimeIndex, PeriodIndex and TimedeltaIndex; Got type MultiIndex",
     "output_type": "error",
     "traceback": [
      "\u001b[1;31m---------------------------------------------------------------------------\u001b[0m",
      "\u001b[1;31mNotImplementedError\u001b[0m                       Traceback (most recent call last)",
      "Cell \u001b[1;32mIn[21], line 1\u001b[0m\n\u001b[1;32m----> 1\u001b[0m \u001b[43mdf\u001b[49m\u001b[38;5;241;43m.\u001b[39;49m\u001b[43mgroupby\u001b[49m\u001b[43m(\u001b[49m\u001b[43mby\u001b[49m\u001b[38;5;241;43m=\u001b[39;49m\u001b[38;5;124;43m'\u001b[39;49m\u001b[38;5;124;43mPERMNO\u001b[39;49m\u001b[38;5;124;43m'\u001b[39;49m\u001b[43m,\u001b[49m\u001b[43m \u001b[49m\u001b[43mlevel\u001b[49m\u001b[38;5;241;43m=\u001b[39;49m\u001b[38;5;124;43m'\u001b[39;49m\u001b[38;5;124;43mDATE\u001b[39;49m\u001b[38;5;124;43m'\u001b[39;49m\u001b[43m,\u001b[49m\u001b[43m \u001b[49m\u001b[43mgroup_keys\u001b[49m\u001b[38;5;241;43m=\u001b[39;49m\u001b[38;5;28;43;01mFalse\u001b[39;49;00m\u001b[43m)\u001b[49m\u001b[43m[\u001b[49m\u001b[38;5;124;43m'\u001b[39;49m\u001b[38;5;124;43mPRC\u001b[39;49m\u001b[38;5;124;43m'\u001b[39;49m\u001b[43m]\u001b[49m\u001b[38;5;241;43m.\u001b[39;49m\u001b[43mpct_change\u001b[49m\u001b[43m(\u001b[49m\u001b[43mperiods\u001b[49m\u001b[38;5;241;43m=\u001b[39;49m\u001b[38;5;241;43m1\u001b[39;49m\u001b[43m,\u001b[49m\u001b[43m \u001b[49m\u001b[43mfreq\u001b[49m\u001b[38;5;241;43m=\u001b[39;49m\u001b[38;5;124;43m'\u001b[39;49m\u001b[38;5;124;43mB\u001b[39;49m\u001b[38;5;124;43m'\u001b[39;49m\u001b[43m)\u001b[49m\n",
      "File \u001b[1;32m~\\anaconda3\\lib\\site-packages\\pandas\\core\\groupby\\groupby.py:3998\u001b[0m, in \u001b[0;36mGroupBy.pct_change\u001b[1;34m(self, periods, fill_method, limit, freq, axis)\u001b[0m\n\u001b[0;32m   3990\u001b[0m \u001b[38;5;28;01mif\u001b[39;00m freq \u001b[38;5;129;01mis\u001b[39;00m \u001b[38;5;129;01mnot\u001b[39;00m \u001b[38;5;28;01mNone\u001b[39;00m \u001b[38;5;129;01mor\u001b[39;00m axis \u001b[38;5;241m!=\u001b[39m \u001b[38;5;241m0\u001b[39m:\n\u001b[0;32m   3991\u001b[0m     f \u001b[38;5;241m=\u001b[39m \u001b[38;5;28;01mlambda\u001b[39;00m x: x\u001b[38;5;241m.\u001b[39mpct_change(\n\u001b[0;32m   3992\u001b[0m         periods\u001b[38;5;241m=\u001b[39mperiods,\n\u001b[0;32m   3993\u001b[0m         fill_method\u001b[38;5;241m=\u001b[39mfill_method,\n\u001b[1;32m   (...)\u001b[0m\n\u001b[0;32m   3996\u001b[0m         axis\u001b[38;5;241m=\u001b[39maxis,\n\u001b[0;32m   3997\u001b[0m     )\n\u001b[1;32m-> 3998\u001b[0m     \u001b[38;5;28;01mreturn\u001b[39;00m \u001b[38;5;28;43mself\u001b[39;49m\u001b[38;5;241;43m.\u001b[39;49m\u001b[43m_python_apply_general\u001b[49m\u001b[43m(\u001b[49m\u001b[43mf\u001b[49m\u001b[43m,\u001b[49m\u001b[43m \u001b[49m\u001b[38;5;28;43mself\u001b[39;49m\u001b[38;5;241;43m.\u001b[39;49m\u001b[43m_selected_obj\u001b[49m\u001b[43m,\u001b[49m\u001b[43m \u001b[49m\u001b[43mis_transform\u001b[49m\u001b[38;5;241;43m=\u001b[39;49m\u001b[38;5;28;43;01mTrue\u001b[39;49;00m\u001b[43m)\u001b[49m\n\u001b[0;32m   4000\u001b[0m \u001b[38;5;28;01mif\u001b[39;00m fill_method \u001b[38;5;129;01mis\u001b[39;00m \u001b[38;5;28;01mNone\u001b[39;00m:  \u001b[38;5;66;03m# GH30463\u001b[39;00m\n\u001b[0;32m   4001\u001b[0m     fill_method \u001b[38;5;241m=\u001b[39m \u001b[38;5;124m\"\u001b[39m\u001b[38;5;124mffill\u001b[39m\u001b[38;5;124m\"\u001b[39m\n",
      "File \u001b[1;32m~\\anaconda3\\lib\\site-packages\\pandas\\core\\groupby\\groupby.py:1629\u001b[0m, in \u001b[0;36mGroupBy._python_apply_general\u001b[1;34m(self, f, data, not_indexed_same, is_transform, is_agg)\u001b[0m\n\u001b[0;32m   1592\u001b[0m \u001b[38;5;129m@final\u001b[39m\n\u001b[0;32m   1593\u001b[0m \u001b[38;5;28;01mdef\u001b[39;00m \u001b[38;5;21m_python_apply_general\u001b[39m(\n\u001b[0;32m   1594\u001b[0m     \u001b[38;5;28mself\u001b[39m,\n\u001b[1;32m   (...)\u001b[0m\n\u001b[0;32m   1599\u001b[0m     is_agg: \u001b[38;5;28mbool\u001b[39m \u001b[38;5;241m=\u001b[39m \u001b[38;5;28;01mFalse\u001b[39;00m,\n\u001b[0;32m   1600\u001b[0m ) \u001b[38;5;241m-\u001b[39m\u001b[38;5;241m>\u001b[39m NDFrameT:\n\u001b[0;32m   1601\u001b[0m     \u001b[38;5;124;03m\"\"\"\u001b[39;00m\n\u001b[0;32m   1602\u001b[0m \u001b[38;5;124;03m    Apply function f in python space\u001b[39;00m\n\u001b[0;32m   1603\u001b[0m \n\u001b[1;32m   (...)\u001b[0m\n\u001b[0;32m   1627\u001b[0m \u001b[38;5;124;03m        data after applying f\u001b[39;00m\n\u001b[0;32m   1628\u001b[0m \u001b[38;5;124;03m    \"\"\"\u001b[39;00m\n\u001b[1;32m-> 1629\u001b[0m     values, mutated \u001b[38;5;241m=\u001b[39m \u001b[38;5;28;43mself\u001b[39;49m\u001b[38;5;241;43m.\u001b[39;49m\u001b[43mgrouper\u001b[49m\u001b[38;5;241;43m.\u001b[39;49m\u001b[43mapply\u001b[49m\u001b[43m(\u001b[49m\u001b[43mf\u001b[49m\u001b[43m,\u001b[49m\u001b[43m \u001b[49m\u001b[43mdata\u001b[49m\u001b[43m,\u001b[49m\u001b[43m \u001b[49m\u001b[38;5;28;43mself\u001b[39;49m\u001b[38;5;241;43m.\u001b[39;49m\u001b[43maxis\u001b[49m\u001b[43m)\u001b[49m\n\u001b[0;32m   1630\u001b[0m     \u001b[38;5;28;01mif\u001b[39;00m not_indexed_same \u001b[38;5;129;01mis\u001b[39;00m \u001b[38;5;28;01mNone\u001b[39;00m:\n\u001b[0;32m   1631\u001b[0m         not_indexed_same \u001b[38;5;241m=\u001b[39m mutated \u001b[38;5;129;01mor\u001b[39;00m \u001b[38;5;28mself\u001b[39m\u001b[38;5;241m.\u001b[39mmutated\n",
      "File \u001b[1;32m~\\anaconda3\\lib\\site-packages\\pandas\\core\\groupby\\ops.py:839\u001b[0m, in \u001b[0;36mBaseGrouper.apply\u001b[1;34m(self, f, data, axis)\u001b[0m\n\u001b[0;32m    837\u001b[0m \u001b[38;5;66;03m# group might be modified\u001b[39;00m\n\u001b[0;32m    838\u001b[0m group_axes \u001b[38;5;241m=\u001b[39m group\u001b[38;5;241m.\u001b[39maxes\n\u001b[1;32m--> 839\u001b[0m res \u001b[38;5;241m=\u001b[39m \u001b[43mf\u001b[49m\u001b[43m(\u001b[49m\u001b[43mgroup\u001b[49m\u001b[43m)\u001b[49m\n\u001b[0;32m    840\u001b[0m \u001b[38;5;28;01mif\u001b[39;00m \u001b[38;5;129;01mnot\u001b[39;00m mutated \u001b[38;5;129;01mand\u001b[39;00m \u001b[38;5;129;01mnot\u001b[39;00m _is_indexed_like(res, group_axes, axis):\n\u001b[0;32m    841\u001b[0m     mutated \u001b[38;5;241m=\u001b[39m \u001b[38;5;28;01mTrue\u001b[39;00m\n",
      "File \u001b[1;32m~\\anaconda3\\lib\\site-packages\\pandas\\core\\groupby\\groupby.py:3991\u001b[0m, in \u001b[0;36mGroupBy.pct_change.<locals>.<lambda>\u001b[1;34m(x)\u001b[0m\n\u001b[0;32m   3988\u001b[0m \u001b[38;5;66;03m# TODO(GH#23918): Remove this conditional for SeriesGroupBy when\u001b[39;00m\n\u001b[0;32m   3989\u001b[0m \u001b[38;5;66;03m#  GH#23918 is fixed\u001b[39;00m\n\u001b[0;32m   3990\u001b[0m \u001b[38;5;28;01mif\u001b[39;00m freq \u001b[38;5;129;01mis\u001b[39;00m \u001b[38;5;129;01mnot\u001b[39;00m \u001b[38;5;28;01mNone\u001b[39;00m \u001b[38;5;129;01mor\u001b[39;00m axis \u001b[38;5;241m!=\u001b[39m \u001b[38;5;241m0\u001b[39m:\n\u001b[1;32m-> 3991\u001b[0m     f \u001b[38;5;241m=\u001b[39m \u001b[38;5;28;01mlambda\u001b[39;00m x: \u001b[43mx\u001b[49m\u001b[38;5;241;43m.\u001b[39;49m\u001b[43mpct_change\u001b[49m\u001b[43m(\u001b[49m\n\u001b[0;32m   3992\u001b[0m \u001b[43m        \u001b[49m\u001b[43mperiods\u001b[49m\u001b[38;5;241;43m=\u001b[39;49m\u001b[43mperiods\u001b[49m\u001b[43m,\u001b[49m\n\u001b[0;32m   3993\u001b[0m \u001b[43m        \u001b[49m\u001b[43mfill_method\u001b[49m\u001b[38;5;241;43m=\u001b[39;49m\u001b[43mfill_method\u001b[49m\u001b[43m,\u001b[49m\n\u001b[0;32m   3994\u001b[0m \u001b[43m        \u001b[49m\u001b[43mlimit\u001b[49m\u001b[38;5;241;43m=\u001b[39;49m\u001b[43mlimit\u001b[49m\u001b[43m,\u001b[49m\n\u001b[0;32m   3995\u001b[0m \u001b[43m        \u001b[49m\u001b[43mfreq\u001b[49m\u001b[38;5;241;43m=\u001b[39;49m\u001b[43mfreq\u001b[49m\u001b[43m,\u001b[49m\n\u001b[0;32m   3996\u001b[0m \u001b[43m        \u001b[49m\u001b[43maxis\u001b[49m\u001b[38;5;241;43m=\u001b[39;49m\u001b[43maxis\u001b[49m\u001b[43m,\u001b[49m\n\u001b[0;32m   3997\u001b[0m \u001b[43m    \u001b[49m\u001b[43m)\u001b[49m\n\u001b[0;32m   3998\u001b[0m     \u001b[38;5;28;01mreturn\u001b[39;00m \u001b[38;5;28mself\u001b[39m\u001b[38;5;241m.\u001b[39m_python_apply_general(f, \u001b[38;5;28mself\u001b[39m\u001b[38;5;241m.\u001b[39m_selected_obj, is_transform\u001b[38;5;241m=\u001b[39m\u001b[38;5;28;01mTrue\u001b[39;00m)\n\u001b[0;32m   4000\u001b[0m \u001b[38;5;28;01mif\u001b[39;00m fill_method \u001b[38;5;129;01mis\u001b[39;00m \u001b[38;5;28;01mNone\u001b[39;00m:  \u001b[38;5;66;03m# GH30463\u001b[39;00m\n",
      "File \u001b[1;32m~\\anaconda3\\lib\\site-packages\\pandas\\core\\generic.py:11079\u001b[0m, in \u001b[0;36mNDFrame.pct_change\u001b[1;34m(self, periods, fill_method, limit, freq, **kwargs)\u001b[0m\n\u001b[0;32m  11076\u001b[0m     \u001b[38;5;28;01massert\u001b[39;00m _data \u001b[38;5;129;01mis\u001b[39;00m \u001b[38;5;129;01mnot\u001b[39;00m \u001b[38;5;28;01mNone\u001b[39;00m  \u001b[38;5;66;03m# needed for mypy\u001b[39;00m\n\u001b[0;32m  11077\u001b[0m     data \u001b[38;5;241m=\u001b[39m _data\n\u001b[1;32m> 11079\u001b[0m shifted \u001b[38;5;241m=\u001b[39m data\u001b[38;5;241m.\u001b[39mshift(periods\u001b[38;5;241m=\u001b[39mperiods, freq\u001b[38;5;241m=\u001b[39mfreq, axis\u001b[38;5;241m=\u001b[39maxis, \u001b[38;5;241m*\u001b[39m\u001b[38;5;241m*\u001b[39mkwargs)\n\u001b[0;32m  11080\u001b[0m \u001b[38;5;66;03m# Unsupported left operand type for / (\"NDFrameT\")\u001b[39;00m\n\u001b[0;32m  11081\u001b[0m rs \u001b[38;5;241m=\u001b[39m data \u001b[38;5;241m/\u001b[39m shifted \u001b[38;5;241m-\u001b[39m \u001b[38;5;241m1\u001b[39m  \u001b[38;5;66;03m# type: ignore[operator]\u001b[39;00m\n",
      "File \u001b[1;32m~\\anaconda3\\lib\\site-packages\\pandas\\core\\series.py:5432\u001b[0m, in \u001b[0;36mSeries.shift\u001b[1;34m(self, periods, freq, axis, fill_value)\u001b[0m\n\u001b[0;32m   5428\u001b[0m \u001b[38;5;129m@doc\u001b[39m(NDFrame\u001b[38;5;241m.\u001b[39mshift, klass\u001b[38;5;241m=\u001b[39m_shared_doc_kwargs[\u001b[38;5;124m\"\u001b[39m\u001b[38;5;124mklass\u001b[39m\u001b[38;5;124m\"\u001b[39m])  \u001b[38;5;66;03m# type: ignore[has-type]\u001b[39;00m\n\u001b[0;32m   5429\u001b[0m \u001b[38;5;28;01mdef\u001b[39;00m \u001b[38;5;21mshift\u001b[39m(\n\u001b[0;32m   5430\u001b[0m     \u001b[38;5;28mself\u001b[39m, periods: \u001b[38;5;28mint\u001b[39m \u001b[38;5;241m=\u001b[39m \u001b[38;5;241m1\u001b[39m, freq\u001b[38;5;241m=\u001b[39m\u001b[38;5;28;01mNone\u001b[39;00m, axis: Axis \u001b[38;5;241m=\u001b[39m \u001b[38;5;241m0\u001b[39m, fill_value: Hashable \u001b[38;5;241m=\u001b[39m \u001b[38;5;28;01mNone\u001b[39;00m\n\u001b[0;32m   5431\u001b[0m ) \u001b[38;5;241m-\u001b[39m\u001b[38;5;241m>\u001b[39m Series:\n\u001b[1;32m-> 5432\u001b[0m     \u001b[38;5;28;01mreturn\u001b[39;00m \u001b[38;5;28;43msuper\u001b[39;49m\u001b[43m(\u001b[49m\u001b[43m)\u001b[49m\u001b[38;5;241;43m.\u001b[39;49m\u001b[43mshift\u001b[49m\u001b[43m(\u001b[49m\n\u001b[0;32m   5433\u001b[0m \u001b[43m        \u001b[49m\u001b[43mperiods\u001b[49m\u001b[38;5;241;43m=\u001b[39;49m\u001b[43mperiods\u001b[49m\u001b[43m,\u001b[49m\u001b[43m \u001b[49m\u001b[43mfreq\u001b[49m\u001b[38;5;241;43m=\u001b[39;49m\u001b[43mfreq\u001b[49m\u001b[43m,\u001b[49m\u001b[43m \u001b[49m\u001b[43maxis\u001b[49m\u001b[38;5;241;43m=\u001b[39;49m\u001b[43maxis\u001b[49m\u001b[43m,\u001b[49m\u001b[43m \u001b[49m\u001b[43mfill_value\u001b[49m\u001b[38;5;241;43m=\u001b[39;49m\u001b[43mfill_value\u001b[49m\n\u001b[0;32m   5434\u001b[0m \u001b[43m    \u001b[49m\u001b[43m)\u001b[49m\n",
      "File \u001b[1;32m~\\anaconda3\\lib\\site-packages\\pandas\\core\\generic.py:10203\u001b[0m, in \u001b[0;36mNDFrame.shift\u001b[1;34m(self, periods, freq, axis, fill_value)\u001b[0m\n\u001b[0;32m  10201\u001b[0m     new_ax \u001b[38;5;241m=\u001b[39m index\u001b[38;5;241m.\u001b[39mshift(periods)\n\u001b[0;32m  10202\u001b[0m \u001b[38;5;28;01melse\u001b[39;00m:\n\u001b[1;32m> 10203\u001b[0m     new_ax \u001b[38;5;241m=\u001b[39m \u001b[43mindex\u001b[49m\u001b[38;5;241;43m.\u001b[39;49m\u001b[43mshift\u001b[49m\u001b[43m(\u001b[49m\u001b[43mperiods\u001b[49m\u001b[43m,\u001b[49m\u001b[43m \u001b[49m\u001b[43mfreq\u001b[49m\u001b[43m)\u001b[49m\n\u001b[0;32m  10205\u001b[0m result \u001b[38;5;241m=\u001b[39m \u001b[38;5;28mself\u001b[39m\u001b[38;5;241m.\u001b[39mset_axis(new_ax, axis\u001b[38;5;241m=\u001b[39maxis)\n\u001b[0;32m  10206\u001b[0m \u001b[38;5;28;01mreturn\u001b[39;00m result\u001b[38;5;241m.\u001b[39m__finalize__(\u001b[38;5;28mself\u001b[39m, method\u001b[38;5;241m=\u001b[39m\u001b[38;5;124m\"\u001b[39m\u001b[38;5;124mshift\u001b[39m\u001b[38;5;124m\"\u001b[39m)\n",
      "File \u001b[1;32m~\\anaconda3\\lib\\site-packages\\pandas\\core\\indexes\\base.py:5838\u001b[0m, in \u001b[0;36mIndex.shift\u001b[1;34m(self, periods, freq)\u001b[0m\n\u001b[0;32m   5782\u001b[0m \u001b[38;5;28;01mdef\u001b[39;00m \u001b[38;5;21mshift\u001b[39m(\u001b[38;5;28mself\u001b[39m, periods\u001b[38;5;241m=\u001b[39m\u001b[38;5;241m1\u001b[39m, freq\u001b[38;5;241m=\u001b[39m\u001b[38;5;28;01mNone\u001b[39;00m):\n\u001b[0;32m   5783\u001b[0m     \u001b[38;5;124;03m\"\"\"\u001b[39;00m\n\u001b[0;32m   5784\u001b[0m \u001b[38;5;124;03m    Shift index by desired number of time frequency increments.\u001b[39;00m\n\u001b[0;32m   5785\u001b[0m \n\u001b[1;32m   (...)\u001b[0m\n\u001b[0;32m   5836\u001b[0m \u001b[38;5;124;03m                  dtype='datetime64[ns]', freq='MS')\u001b[39;00m\n\u001b[0;32m   5837\u001b[0m \u001b[38;5;124;03m    \"\"\"\u001b[39;00m\n\u001b[1;32m-> 5838\u001b[0m     \u001b[38;5;28;01mraise\u001b[39;00m \u001b[38;5;167;01mNotImplementedError\u001b[39;00m(\n\u001b[0;32m   5839\u001b[0m         \u001b[38;5;124mf\u001b[39m\u001b[38;5;124m\"\u001b[39m\u001b[38;5;124mThis method is only implemented for DatetimeIndex, PeriodIndex and \u001b[39m\u001b[38;5;124m\"\u001b[39m\n\u001b[0;32m   5840\u001b[0m         \u001b[38;5;124mf\u001b[39m\u001b[38;5;124m\"\u001b[39m\u001b[38;5;124mTimedeltaIndex; Got type \u001b[39m\u001b[38;5;132;01m{\u001b[39;00m\u001b[38;5;28mtype\u001b[39m(\u001b[38;5;28mself\u001b[39m)\u001b[38;5;241m.\u001b[39m\u001b[38;5;18m__name__\u001b[39m\u001b[38;5;132;01m}\u001b[39;00m\u001b[38;5;124m\"\u001b[39m\n\u001b[0;32m   5841\u001b[0m     )\n",
      "\u001b[1;31mNotImplementedError\u001b[0m: This method is only implemented for DatetimeIndex, PeriodIndex and TimedeltaIndex; Got type MultiIndex"
     ]
    }
   ],
   "source": [
    "df.groupby(by='PERMNO', level='DATE', group_keys=False)['PRC'].pct_change(periods=1, freq='B') # freq does not work with MultiIndex"
   ]
  },
  {
   "cell_type": "markdown",
   "metadata": {},
   "source": [
    "# 예시 2)\n",
    "- DataFrame.index, rename_axis, inplace 등의 사용 예시\n",
    "- pandas에서 \"y\" 변수가 하나일 때는 pandas.Series, 2개 이상일 때는 pandas.DataFrame으로 생성되며, 각각에 대한 attribute/method가 다름을 주의\n",
    "\n",
    "- pandas.Series는 to_frame() method를 통해 pandas.DataFrame으로 변환 가능\n",
    "    - 예) y = pd.Series([1, 3, 5]).to_frame(); print(y); print(type(y))\n",
    "    \n",
    "\n",
    "- 일반적으로는 pandas.Series를 가능한 한 사용하지 않고 pandas.DataFrame을 사용하는 것을 추천"
   ]
  },
  {
   "cell_type": "code",
   "execution_count": 22,
   "metadata": {},
   "outputs": [],
   "source": [
    "import numpy as np\n",
    "import pandas as pd\n",
    "\n",
    "dates = pd.date_range('2015-01-01', periods=7, freq='W-Thu') # 매주 목요일에만 날짜 생성\n",
    "index = ['005930 KS Equity', '005930 KS Equity', '005380 KS Equity', '005380 KS Equity', \n",
    "         '005930 KS Equity', 'SPX US Index', 'SPX US Index']\n",
    "\n",
    "data1 = np.ones_like(dates, dtype='float') # np.ones_like(dates) not work as expected\n",
    "price = 100 * np.exp(np.random.normal(loc=0, scale=1, size=len(dates)))\n",
    "\n",
    "df1 = pd.DataFrame(data=data1, columns=['var1'], index=index)\n",
    "df2 = pd.DataFrame(data=price, columns=['price'], index=[index, dates])"
   ]
  },
  {
   "cell_type": "code",
   "execution_count": 23,
   "metadata": {},
   "outputs": [
    {
     "data": {
      "text/html": [
       "<div>\n",
       "<style scoped>\n",
       "    .dataframe tbody tr th:only-of-type {\n",
       "        vertical-align: middle;\n",
       "    }\n",
       "\n",
       "    .dataframe tbody tr th {\n",
       "        vertical-align: top;\n",
       "    }\n",
       "\n",
       "    .dataframe thead th {\n",
       "        text-align: right;\n",
       "    }\n",
       "</style>\n",
       "<table border=\"1\" class=\"dataframe\">\n",
       "  <thead>\n",
       "    <tr style=\"text-align: right;\">\n",
       "      <th></th>\n",
       "      <th>var1</th>\n",
       "    </tr>\n",
       "  </thead>\n",
       "  <tbody>\n",
       "    <tr>\n",
       "      <th>005930 KS Equity</th>\n",
       "      <td>1.0</td>\n",
       "    </tr>\n",
       "    <tr>\n",
       "      <th>005930 KS Equity</th>\n",
       "      <td>1.0</td>\n",
       "    </tr>\n",
       "    <tr>\n",
       "      <th>005380 KS Equity</th>\n",
       "      <td>1.0</td>\n",
       "    </tr>\n",
       "    <tr>\n",
       "      <th>005380 KS Equity</th>\n",
       "      <td>1.0</td>\n",
       "    </tr>\n",
       "    <tr>\n",
       "      <th>005930 KS Equity</th>\n",
       "      <td>1.0</td>\n",
       "    </tr>\n",
       "    <tr>\n",
       "      <th>SPX US Index</th>\n",
       "      <td>1.0</td>\n",
       "    </tr>\n",
       "    <tr>\n",
       "      <th>SPX US Index</th>\n",
       "      <td>1.0</td>\n",
       "    </tr>\n",
       "  </tbody>\n",
       "</table>\n",
       "</div>"
      ],
      "text/plain": [
       "                  var1\n",
       "005930 KS Equity   1.0\n",
       "005930 KS Equity   1.0\n",
       "005380 KS Equity   1.0\n",
       "005380 KS Equity   1.0\n",
       "005930 KS Equity   1.0\n",
       "SPX US Index       1.0\n",
       "SPX US Index       1.0"
      ]
     },
     "metadata": {},
     "output_type": "display_data"
    },
    {
     "data": {
      "text/html": [
       "<div>\n",
       "<style scoped>\n",
       "    .dataframe tbody tr th:only-of-type {\n",
       "        vertical-align: middle;\n",
       "    }\n",
       "\n",
       "    .dataframe tbody tr th {\n",
       "        vertical-align: top;\n",
       "    }\n",
       "\n",
       "    .dataframe thead th {\n",
       "        text-align: right;\n",
       "    }\n",
       "</style>\n",
       "<table border=\"1\" class=\"dataframe\">\n",
       "  <thead>\n",
       "    <tr style=\"text-align: right;\">\n",
       "      <th></th>\n",
       "      <th></th>\n",
       "      <th>price</th>\n",
       "    </tr>\n",
       "  </thead>\n",
       "  <tbody>\n",
       "    <tr>\n",
       "      <th rowspan=\"2\" valign=\"top\">005930 KS Equity</th>\n",
       "      <th>2015-01-01</th>\n",
       "      <td>40.699199</td>\n",
       "    </tr>\n",
       "    <tr>\n",
       "      <th>2015-01-08</th>\n",
       "      <td>161.844904</td>\n",
       "    </tr>\n",
       "    <tr>\n",
       "      <th rowspan=\"2\" valign=\"top\">005380 KS Equity</th>\n",
       "      <th>2015-01-15</th>\n",
       "      <td>151.504974</td>\n",
       "    </tr>\n",
       "    <tr>\n",
       "      <th>2015-01-22</th>\n",
       "      <td>169.656023</td>\n",
       "    </tr>\n",
       "    <tr>\n",
       "      <th>005930 KS Equity</th>\n",
       "      <th>2015-01-29</th>\n",
       "      <td>80.591694</td>\n",
       "    </tr>\n",
       "    <tr>\n",
       "      <th rowspan=\"2\" valign=\"top\">SPX US Index</th>\n",
       "      <th>2015-02-05</th>\n",
       "      <td>519.147323</td>\n",
       "    </tr>\n",
       "    <tr>\n",
       "      <th>2015-02-12</th>\n",
       "      <td>331.207017</td>\n",
       "    </tr>\n",
       "  </tbody>\n",
       "</table>\n",
       "</div>"
      ],
      "text/plain": [
       "                                  price\n",
       "005930 KS Equity 2015-01-01   40.699199\n",
       "                 2015-01-08  161.844904\n",
       "005380 KS Equity 2015-01-15  151.504974\n",
       "                 2015-01-22  169.656023\n",
       "005930 KS Equity 2015-01-29   80.591694\n",
       "SPX US Index     2015-02-05  519.147323\n",
       "                 2015-02-12  331.207017"
      ]
     },
     "metadata": {},
     "output_type": "display_data"
    }
   ],
   "source": [
    "display(df1, df2)"
   ]
  },
  {
   "cell_type": "markdown",
   "metadata": {},
   "source": [
    "## DataFrame.index\n",
    "- DataFrame.Index.name 을 통해 index의 naming이 가능\n",
    "- 보다 일반적으로는 DataFrame.Index.set_names()를 통해 index의 naming이 가능\n",
    "\n",
    "\n",
    "- rename_axis()를 통해 index의 re-naming이 가능\n",
    "    - 기존 name이 없을 시, rename_axis()로는 naming 불가"
   ]
  },
  {
   "cell_type": "code",
   "execution_count": 24,
   "metadata": {},
   "outputs": [
    {
     "name": "stdout",
     "output_type": "stream",
     "text": [
      "df1.index.name: None\n",
      "\n",
      "\n",
      "df1.index.name: abcde\n",
      "\n",
      "\n",
      "df1.index.name: abcde\n"
     ]
    }
   ],
   "source": [
    "print(f'df1.index.name: {df1.index.name}')\n",
    "\n",
    "print('\\n')\n",
    "df1.index.name = 'abcde'\n",
    "print(f'df1.index.name: {df1.index.name}')\n",
    "\n",
    "print('\\n')\n",
    "df1.index.set_names(['secid'])\n",
    "print(f'df1.index.name: {df1.index.name}')"
   ]
  },
  {
   "cell_type": "code",
   "execution_count": 25,
   "metadata": {},
   "outputs": [
    {
     "name": "stdout",
     "output_type": "stream",
     "text": [
      "df1.index.name: None\n",
      "df1.index.name: None\n",
      "\n",
      "\n",
      "df1.index.name: abcd\n",
      "df1.index.name: idx\n"
     ]
    }
   ],
   "source": [
    "df1.index.name = None\n",
    "print(f'df1.index.name: {df1.index.name}')\n",
    "df1.rename_axis(index=dict(secid='idx'), axis=0, inplace=True)\n",
    "print(f'df1.index.name: {df1.index.name}') # rename_axis() not work\n",
    "print('\\n')\n",
    "df1.index.name = 'abcd'\n",
    "print(f'df1.index.name: {df1.index.name}')\n",
    "df1.rename_axis(index=dict(abcd='idx'), axis=0, inplace=True)\n",
    "print(f'df1.index.name: {df1.index.name}') # rename_axis() works"
   ]
  },
  {
   "cell_type": "markdown",
   "metadata": {},
   "source": [
    "## inplace\n",
    "- DataFrame의 method들의 경우, inplace 옵션이 존재하는 경우가 있음\n",
    "- inplace 옵션의 default는 False이며, 이 경우 method의 결과인 object를 반환\n",
    "- 기존 object에 결과를 할당하지 않는 한, 결과값이 update되지 않음"
   ]
  },
  {
   "cell_type": "code",
   "execution_count": 26,
   "metadata": {},
   "outputs": [
    {
     "name": "stdout",
     "output_type": "stream",
     "text": [
      "                  var1\n",
      "secid                 \n",
      "005930 KS Equity   1.0\n",
      "005930 KS Equity   1.0\n",
      "005380 KS Equity   1.0\n",
      "005380 KS Equity   1.0\n",
      "005930 KS Equity   1.0\n",
      "SPX US Index       1.0\n",
      "SPX US Index       1.0\n",
      "['idx']\n",
      "                  var1\n",
      "secid                 \n",
      "005930 KS Equity   1.0\n",
      "005930 KS Equity   1.0\n",
      "005380 KS Equity   1.0\n",
      "005380 KS Equity   1.0\n",
      "005930 KS Equity   1.0\n",
      "SPX US Index       1.0\n",
      "SPX US Index       1.0\n",
      "['secid']\n"
     ]
    }
   ],
   "source": [
    "print(df1.rename_axis(index=dict(idx='secid'), axis=0, inplace=False)) # index이름이 'secid'인 DataFrame을 반환\n",
    "print(df1.index.names) # 'secid'로 update되지 않은 'idx'를 반환\n",
    "\n",
    "df1 = df1.rename_axis(index=dict(idx='secid'), axis=0) # 결과값을 원래 DataFrame에 재할당\n",
    "print(df1)\n",
    "print(df1.index.names) # index 이름이 'secid'임을 확인 가능"
   ]
  },
  {
   "cell_type": "markdown",
   "metadata": {},
   "source": [
    "# DataFrame.set_index\n",
    "- set_index()를 통해, index를 재정의 가능\n",
    "- index를 교체하거나, MultiIndex로 바꾸는 경우\n",
    "    - MultiIndex는 (firm name, date) 등으로 사용 가능\n",
    "    - 옵션의 경우, (underlying name, option name, date, maturity, strike_price, call-put flag) 등을 사용 가능\n",
    "    - 예) (SPX US Equity, SPX US 01/15/21 C3500 Index, '2021-01-04', '2021-01-15', 3500, 'Call')"
   ]
  },
  {
   "cell_type": "code",
   "execution_count": 27,
   "metadata": {},
   "outputs": [
    {
     "name": "stdout",
     "output_type": "stream",
     "text": [
      "MultiIndex([('005930 KS Equity', '2015-01-01'),\n",
      "            ('005930 KS Equity', '2015-01-08'),\n",
      "            ('005380 KS Equity', '2015-01-15'),\n",
      "            ('005380 KS Equity', '2015-01-22'),\n",
      "            ('005930 KS Equity', '2015-01-29'),\n",
      "            (    'SPX US Index', '2015-02-05'),\n",
      "            (    'SPX US Index', '2015-02-12')],\n",
      "           names=['secid', None])\n",
      "['secid', 'date']\n"
     ]
    }
   ],
   "source": [
    "df1.set_index([df1.index, dates], inplace=True) # index -> MultiIndex\n",
    "print(df1.index)\n",
    "\n",
    "df1.rename_axis(index={None:'date'}, axis=0, inplace=True)\n",
    "print(df1.index.names)"
   ]
  },
  {
   "cell_type": "code",
   "execution_count": 28,
   "metadata": {},
   "outputs": [
    {
     "data": {
      "text/html": [
       "<div>\n",
       "<style scoped>\n",
       "    .dataframe tbody tr th:only-of-type {\n",
       "        vertical-align: middle;\n",
       "    }\n",
       "\n",
       "    .dataframe tbody tr th {\n",
       "        vertical-align: top;\n",
       "    }\n",
       "\n",
       "    .dataframe thead th {\n",
       "        text-align: right;\n",
       "    }\n",
       "</style>\n",
       "<table border=\"1\" class=\"dataframe\">\n",
       "  <thead>\n",
       "    <tr style=\"text-align: right;\">\n",
       "      <th></th>\n",
       "      <th></th>\n",
       "      <th>var1</th>\n",
       "    </tr>\n",
       "    <tr>\n",
       "      <th>secid</th>\n",
       "      <th>date</th>\n",
       "      <th></th>\n",
       "    </tr>\n",
       "  </thead>\n",
       "  <tbody>\n",
       "    <tr>\n",
       "      <th rowspan=\"2\" valign=\"top\">005930 KS Equity</th>\n",
       "      <th>2015-01-01</th>\n",
       "      <td>1.0</td>\n",
       "    </tr>\n",
       "    <tr>\n",
       "      <th>2015-01-08</th>\n",
       "      <td>1.0</td>\n",
       "    </tr>\n",
       "    <tr>\n",
       "      <th rowspan=\"2\" valign=\"top\">005380 KS Equity</th>\n",
       "      <th>2015-01-15</th>\n",
       "      <td>1.0</td>\n",
       "    </tr>\n",
       "    <tr>\n",
       "      <th>2015-01-22</th>\n",
       "      <td>1.0</td>\n",
       "    </tr>\n",
       "    <tr>\n",
       "      <th>005930 KS Equity</th>\n",
       "      <th>2015-01-29</th>\n",
       "      <td>1.0</td>\n",
       "    </tr>\n",
       "    <tr>\n",
       "      <th rowspan=\"2\" valign=\"top\">SPX US Index</th>\n",
       "      <th>2015-02-05</th>\n",
       "      <td>1.0</td>\n",
       "    </tr>\n",
       "    <tr>\n",
       "      <th>2015-02-12</th>\n",
       "      <td>1.0</td>\n",
       "    </tr>\n",
       "  </tbody>\n",
       "</table>\n",
       "</div>"
      ],
      "text/plain": [
       "                             var1\n",
       "secid            date            \n",
       "005930 KS Equity 2015-01-01   1.0\n",
       "                 2015-01-08   1.0\n",
       "005380 KS Equity 2015-01-15   1.0\n",
       "                 2015-01-22   1.0\n",
       "005930 KS Equity 2015-01-29   1.0\n",
       "SPX US Index     2015-02-05   1.0\n",
       "                 2015-02-12   1.0"
      ]
     },
     "metadata": {},
     "output_type": "display_data"
    },
    {
     "data": {
      "text/html": [
       "<div>\n",
       "<style scoped>\n",
       "    .dataframe tbody tr th:only-of-type {\n",
       "        vertical-align: middle;\n",
       "    }\n",
       "\n",
       "    .dataframe tbody tr th {\n",
       "        vertical-align: top;\n",
       "    }\n",
       "\n",
       "    .dataframe thead th {\n",
       "        text-align: right;\n",
       "    }\n",
       "</style>\n",
       "<table border=\"1\" class=\"dataframe\">\n",
       "  <thead>\n",
       "    <tr style=\"text-align: right;\">\n",
       "      <th></th>\n",
       "      <th></th>\n",
       "      <th>price</th>\n",
       "    </tr>\n",
       "    <tr>\n",
       "      <th>secid</th>\n",
       "      <th>date</th>\n",
       "      <th></th>\n",
       "    </tr>\n",
       "  </thead>\n",
       "  <tbody>\n",
       "    <tr>\n",
       "      <th rowspan=\"2\" valign=\"top\">005930 KS Equity</th>\n",
       "      <th>2015-01-01</th>\n",
       "      <td>40.699199</td>\n",
       "    </tr>\n",
       "    <tr>\n",
       "      <th>2015-01-08</th>\n",
       "      <td>161.844904</td>\n",
       "    </tr>\n",
       "    <tr>\n",
       "      <th rowspan=\"2\" valign=\"top\">005380 KS Equity</th>\n",
       "      <th>2015-01-15</th>\n",
       "      <td>151.504974</td>\n",
       "    </tr>\n",
       "    <tr>\n",
       "      <th>2015-01-22</th>\n",
       "      <td>169.656023</td>\n",
       "    </tr>\n",
       "    <tr>\n",
       "      <th>005930 KS Equity</th>\n",
       "      <th>2015-01-29</th>\n",
       "      <td>80.591694</td>\n",
       "    </tr>\n",
       "    <tr>\n",
       "      <th rowspan=\"2\" valign=\"top\">SPX US Index</th>\n",
       "      <th>2015-02-05</th>\n",
       "      <td>519.147323</td>\n",
       "    </tr>\n",
       "    <tr>\n",
       "      <th>2015-02-12</th>\n",
       "      <td>331.207017</td>\n",
       "    </tr>\n",
       "  </tbody>\n",
       "</table>\n",
       "</div>"
      ],
      "text/plain": [
       "                                  price\n",
       "secid            date                  \n",
       "005930 KS Equity 2015-01-01   40.699199\n",
       "                 2015-01-08  161.844904\n",
       "005380 KS Equity 2015-01-15  151.504974\n",
       "                 2015-01-22  169.656023\n",
       "005930 KS Equity 2015-01-29   80.591694\n",
       "SPX US Index     2015-02-05  519.147323\n",
       "                 2015-02-12  331.207017"
      ]
     },
     "metadata": {},
     "output_type": "display_data"
    }
   ],
   "source": [
    "df1.index.set_names(['secid', 'date'], inplace=True)\n",
    "df2.index.set_names(['secid', 'date'], inplace=True)\n",
    "display(df1, df2)"
   ]
  },
  {
   "cell_type": "markdown",
   "metadata": {},
   "source": [
    "## sort_values\n",
    "- index및 column에 대해 (row-wise) sort가 가능\n",
    "- ascending은 모든 변수에 대해 True가 default\n",
    "    - ascending order는 변수 길이에 해당하는 Boolean list를 통해 변경 가능"
   ]
  },
  {
   "cell_type": "code",
   "execution_count": 29,
   "metadata": {},
   "outputs": [],
   "source": [
    "df1.sort_values(by=['secid', 'date'], ascending=[True, False], inplace=True) # sort by index\n",
    "df2.sort_values(by=['price'], inplace=True) # sort by column"
   ]
  },
  {
   "cell_type": "code",
   "execution_count": 30,
   "metadata": {},
   "outputs": [
    {
     "data": {
      "text/html": [
       "<div>\n",
       "<style scoped>\n",
       "    .dataframe tbody tr th:only-of-type {\n",
       "        vertical-align: middle;\n",
       "    }\n",
       "\n",
       "    .dataframe tbody tr th {\n",
       "        vertical-align: top;\n",
       "    }\n",
       "\n",
       "    .dataframe thead th {\n",
       "        text-align: right;\n",
       "    }\n",
       "</style>\n",
       "<table border=\"1\" class=\"dataframe\">\n",
       "  <thead>\n",
       "    <tr style=\"text-align: right;\">\n",
       "      <th></th>\n",
       "      <th></th>\n",
       "      <th>var1</th>\n",
       "    </tr>\n",
       "    <tr>\n",
       "      <th>secid</th>\n",
       "      <th>date</th>\n",
       "      <th></th>\n",
       "    </tr>\n",
       "  </thead>\n",
       "  <tbody>\n",
       "    <tr>\n",
       "      <th rowspan=\"2\" valign=\"top\">005380 KS Equity</th>\n",
       "      <th>2015-01-22</th>\n",
       "      <td>1.0</td>\n",
       "    </tr>\n",
       "    <tr>\n",
       "      <th>2015-01-15</th>\n",
       "      <td>1.0</td>\n",
       "    </tr>\n",
       "    <tr>\n",
       "      <th rowspan=\"3\" valign=\"top\">005930 KS Equity</th>\n",
       "      <th>2015-01-29</th>\n",
       "      <td>1.0</td>\n",
       "    </tr>\n",
       "    <tr>\n",
       "      <th>2015-01-08</th>\n",
       "      <td>1.0</td>\n",
       "    </tr>\n",
       "    <tr>\n",
       "      <th>2015-01-01</th>\n",
       "      <td>1.0</td>\n",
       "    </tr>\n",
       "    <tr>\n",
       "      <th rowspan=\"2\" valign=\"top\">SPX US Index</th>\n",
       "      <th>2015-02-12</th>\n",
       "      <td>1.0</td>\n",
       "    </tr>\n",
       "    <tr>\n",
       "      <th>2015-02-05</th>\n",
       "      <td>1.0</td>\n",
       "    </tr>\n",
       "  </tbody>\n",
       "</table>\n",
       "</div>"
      ],
      "text/plain": [
       "                             var1\n",
       "secid            date            \n",
       "005380 KS Equity 2015-01-22   1.0\n",
       "                 2015-01-15   1.0\n",
       "005930 KS Equity 2015-01-29   1.0\n",
       "                 2015-01-08   1.0\n",
       "                 2015-01-01   1.0\n",
       "SPX US Index     2015-02-12   1.0\n",
       "                 2015-02-05   1.0"
      ]
     },
     "metadata": {},
     "output_type": "display_data"
    },
    {
     "data": {
      "text/html": [
       "<div>\n",
       "<style scoped>\n",
       "    .dataframe tbody tr th:only-of-type {\n",
       "        vertical-align: middle;\n",
       "    }\n",
       "\n",
       "    .dataframe tbody tr th {\n",
       "        vertical-align: top;\n",
       "    }\n",
       "\n",
       "    .dataframe thead th {\n",
       "        text-align: right;\n",
       "    }\n",
       "</style>\n",
       "<table border=\"1\" class=\"dataframe\">\n",
       "  <thead>\n",
       "    <tr style=\"text-align: right;\">\n",
       "      <th></th>\n",
       "      <th></th>\n",
       "      <th>price</th>\n",
       "    </tr>\n",
       "    <tr>\n",
       "      <th>secid</th>\n",
       "      <th>date</th>\n",
       "      <th></th>\n",
       "    </tr>\n",
       "  </thead>\n",
       "  <tbody>\n",
       "    <tr>\n",
       "      <th rowspan=\"2\" valign=\"top\">005930 KS Equity</th>\n",
       "      <th>2015-01-01</th>\n",
       "      <td>40.699199</td>\n",
       "    </tr>\n",
       "    <tr>\n",
       "      <th>2015-01-29</th>\n",
       "      <td>80.591694</td>\n",
       "    </tr>\n",
       "    <tr>\n",
       "      <th>005380 KS Equity</th>\n",
       "      <th>2015-01-15</th>\n",
       "      <td>151.504974</td>\n",
       "    </tr>\n",
       "    <tr>\n",
       "      <th>005930 KS Equity</th>\n",
       "      <th>2015-01-08</th>\n",
       "      <td>161.844904</td>\n",
       "    </tr>\n",
       "    <tr>\n",
       "      <th>005380 KS Equity</th>\n",
       "      <th>2015-01-22</th>\n",
       "      <td>169.656023</td>\n",
       "    </tr>\n",
       "    <tr>\n",
       "      <th rowspan=\"2\" valign=\"top\">SPX US Index</th>\n",
       "      <th>2015-02-12</th>\n",
       "      <td>331.207017</td>\n",
       "    </tr>\n",
       "    <tr>\n",
       "      <th>2015-02-05</th>\n",
       "      <td>519.147323</td>\n",
       "    </tr>\n",
       "  </tbody>\n",
       "</table>\n",
       "</div>"
      ],
      "text/plain": [
       "                                  price\n",
       "secid            date                  \n",
       "005930 KS Equity 2015-01-01   40.699199\n",
       "                 2015-01-29   80.591694\n",
       "005380 KS Equity 2015-01-15  151.504974\n",
       "005930 KS Equity 2015-01-08  161.844904\n",
       "005380 KS Equity 2015-01-22  169.656023\n",
       "SPX US Index     2015-02-12  331.207017\n",
       "                 2015-02-05  519.147323"
      ]
     },
     "metadata": {},
     "output_type": "display_data"
    }
   ],
   "source": [
    "display(df1, df2)"
   ]
  }
 ],
 "metadata": {
  "kernelspec": {
   "display_name": "Python 3 (ipykernel)",
   "language": "python",
   "name": "python3"
  },
  "language_info": {
   "codemirror_mode": {
    "name": "ipython",
    "version": 3
   },
   "file_extension": ".py",
   "mimetype": "text/x-python",
   "name": "python",
   "nbconvert_exporter": "python",
   "pygments_lexer": "ipython3",
   "version": "3.10.9"
  },
  "toc": {
   "base_numbering": 1,
   "nav_menu": {},
   "number_sections": true,
   "sideBar": true,
   "skip_h1_title": false,
   "title_cell": "Table of Contents",
   "title_sidebar": "Contents",
   "toc_cell": true,
   "toc_position": {
    "height": "calc(100% - 180px)",
    "left": "10px",
    "top": "150px",
    "width": "336px"
   },
   "toc_section_display": true,
   "toc_window_display": true
  }
 },
 "nbformat": 4,
 "nbformat_minor": 4
}
