{
 "cells": [
  {
   "cell_type": "markdown",
   "metadata": {
    "slideshow": {
     "slide_type": "skip"
    },
    "toc": true
   },
   "source": [
    "<h1>Table of Contents<span class=\"tocSkip\"></span></h1>\n",
    "<div class=\"toc\"><ul class=\"toc-item\"><li><span><a href=\"#Data-structures\" data-toc-modified-id=\"Data-structures-1\"><span class=\"toc-item-num\">1&nbsp;&nbsp;</span>Data structures</a></span><ul class=\"toc-item\"><li><span><a href=\"#list\" data-toc-modified-id=\"list-1.1\"><span class=\"toc-item-num\">1.1&nbsp;&nbsp;</span>list</a></span><ul class=\"toc-item\"><li><span><a href=\"#range-함수\" data-toc-modified-id=\"range-함수-1.1.1\"><span class=\"toc-item-num\">1.1.1&nbsp;&nbsp;</span>range 함수</a></span></li><li><span><a href=\"#Slicing\" data-toc-modified-id=\"Slicing-1.1.2\"><span class=\"toc-item-num\">1.1.2&nbsp;&nbsp;</span>Slicing</a></span></li></ul></li><li><span><a href=\"#tuple\" data-toc-modified-id=\"tuple-1.2\"><span class=\"toc-item-num\">1.2&nbsp;&nbsp;</span>tuple</a></span><ul class=\"toc-item\"><li><span><a href=\"#Copy\" data-toc-modified-id=\"Copy-1.2.1\"><span class=\"toc-item-num\">1.2.1&nbsp;&nbsp;</span>Copy</a></span><ul class=\"toc-item\"><li><span><a href=\"#Shallow-copy-(default)-vs-deep-copy\" data-toc-modified-id=\"Shallow-copy-(default)-vs-deep-copy-1.2.1.1\"><span class=\"toc-item-num\">1.2.1.1&nbsp;&nbsp;</span>Shallow copy (default) vs deep copy</a></span></li><li><span><a href=\"#assignment-&quot;=&quot;-changes-both-variables\" data-toc-modified-id=\"assignment-&quot;=&quot;-changes-both-variables-1.2.1.2\"><span class=\"toc-item-num\">1.2.1.2&nbsp;&nbsp;</span>assignment \"=\" changes both variables</a></span></li></ul></li><li><span><a href=\"#shallow-copy\" data-toc-modified-id=\"shallow-copy-1.2.2\"><span class=\"toc-item-num\">1.2.2&nbsp;&nbsp;</span>shallow copy</a></span><ul class=\"toc-item\"><li><span><a href=\"#different-ways-of-shallow-copy-with-list\" data-toc-modified-id=\"different-ways-of-shallow-copy-with-list-1.2.2.1\"><span class=\"toc-item-num\">1.2.2.1&nbsp;&nbsp;</span>different ways of shallow copy with list</a></span></li></ul></li><li><span><a href=\"#list-of-list\" data-toc-modified-id=\"list-of-list-1.2.3\"><span class=\"toc-item-num\">1.2.3&nbsp;&nbsp;</span>list of list</a></span><ul class=\"toc-item\"><li><span><a href=\"#list-of-list에서-sublist-전체를-바꿀-때는-영향을-주지-않음\" data-toc-modified-id=\"list-of-list에서-sublist-전체를-바꿀-때는-영향을-주지-않음-1.2.3.1\"><span class=\"toc-item-num\">1.2.3.1&nbsp;&nbsp;</span>list of list에서 sublist 전체를 바꿀 때는 영향을 주지 않음</a></span></li><li><span><a href=\"#sublist의-element를-바꿀-때에는-영향을-줌\" data-toc-modified-id=\"sublist의-element를-바꿀-때에는-영향을-줌-1.2.3.2\"><span class=\"toc-item-num\">1.2.3.2&nbsp;&nbsp;</span>sublist의 element를 바꿀 때에는 영향을 줌</a></span></li><li><span><a href=\"#list-of-tuple\" data-toc-modified-id=\"list-of-tuple-1.2.3.3\"><span class=\"toc-item-num\">1.2.3.3&nbsp;&nbsp;</span>list of tuple</a></span></li></ul></li><li><span><a href=\"#변수-할당\" data-toc-modified-id=\"변수-할당-1.2.4\"><span class=\"toc-item-num\">1.2.4&nbsp;&nbsp;</span>변수 할당</a></span></li></ul></li><li><span><a href=\"#dictionary\" data-toc-modified-id=\"dictionary-1.3\"><span class=\"toc-item-num\">1.3&nbsp;&nbsp;</span>dictionary</a></span><ul class=\"toc-item\"><li><span><a href=\"#dict-생성\" data-toc-modified-id=\"dict-생성-1.3.1\"><span class=\"toc-item-num\">1.3.1&nbsp;&nbsp;</span>dict 생성</a></span><ul class=\"toc-item\"><li><span><a href=\"#Create-with-{}\" data-toc-modified-id=\"Create-with-{}-1.3.1.1\"><span class=\"toc-item-num\">1.3.1.1&nbsp;&nbsp;</span>Create with {}</a></span></li><li><span><a href=\"#create-with-dict()\" data-toc-modified-id=\"create-with-dict()-1.3.1.2\"><span class=\"toc-item-num\">1.3.1.2&nbsp;&nbsp;</span>create with dict()</a></span></li></ul></li><li><span><a href=\"#convert-with-dict()\" data-toc-modified-id=\"convert-with-dict()-1.3.2\"><span class=\"toc-item-num\">1.3.2&nbsp;&nbsp;</span>convert with dict()</a></span></li><li><span><a href=\"#dict-with-int-keys\" data-toc-modified-id=\"dict-with-int-keys-1.3.3\"><span class=\"toc-item-num\">1.3.3&nbsp;&nbsp;</span>dict with int keys</a></span><ul class=\"toc-item\"><li><span><a href=\"#int-keys\" data-toc-modified-id=\"int-keys-1.3.3.1\"><span class=\"toc-item-num\">1.3.3.1&nbsp;&nbsp;</span>int keys</a></span></li></ul></li><li><span><a href=\"#keys-and-values\" data-toc-modified-id=\"keys-and-values-1.3.4\"><span class=\"toc-item-num\">1.3.4&nbsp;&nbsp;</span>keys and values</a></span></li><li><span><a href=\"#dict-key\" data-toc-modified-id=\"dict-key-1.3.5\"><span class=\"toc-item-num\">1.3.5&nbsp;&nbsp;</span>dict key</a></span></li></ul></li><li><span><a href=\"#sets\" data-toc-modified-id=\"sets-1.4\"><span class=\"toc-item-num\">1.4&nbsp;&nbsp;</span>sets</a></span></li><li><span><a href=\"#Boolean\" data-toc-modified-id=\"Boolean-1.5\"><span class=\"toc-item-num\">1.5&nbsp;&nbsp;</span>Boolean</a></span></li></ul></li></ul></div>"
   ]
  },
  {
   "cell_type": "markdown",
   "metadata": {
    "slideshow": {
     "slide_type": "slide"
    }
   },
   "source": [
    "# Data structures"
   ]
  },
  {
   "cell_type": "markdown",
   "metadata": {
    "slideshow": {
     "slide_type": "fragment"
    }
   },
   "source": [
    "## list\n",
    "- 순서를 갖는 자료들의 집합\n",
    "- 파이썬 자료형들 중에서 가장 유용하게 활용됨\n",
    "- []로 생성 가능\n",
    "- list()를 통해 다른 type의 변수를 list로 변환 가능"
   ]
  },
  {
   "cell_type": "code",
   "execution_count": null,
   "metadata": {},
   "outputs": [],
   "source": [
    "int : 3\n",
    "float : 3.12\n",
    "str: 'a' , '가'"
   ]
  },
  {
   "cell_type": "code",
   "execution_count": 2,
   "metadata": {
    "slideshow": {
     "slide_type": "fragment"
    }
   },
   "outputs": [
    {
     "name": "stdout",
     "output_type": "stream",
     "text": [
      "[100, 200]\n",
      "[1, 2, 'hello']\n",
      "[10, 20]\n",
      "[30, 50]\n",
      "[1, 2, [100, 200]]\n"
     ]
    }
   ],
   "source": [
    "a = [100, 200]\n",
    "b = [1, 2, 'hello']\n",
    "c = list( [10, 20] )\n",
    "d = list( (30, 50) )\n",
    "e = [1, 2, [100, 200]] # list of list\n",
    "print(a, b, c, d, e, sep='\\n')"
   ]
  },
  {
   "cell_type": "markdown",
   "metadata": {
    "slideshow": {
     "slide_type": "subslide"
    }
   },
   "source": [
    "- list는 특정 항목만을 호출하거나 조작하는 게 가능\n",
    "- **list의 element는 0부터 indexing 시작**\n",
    "- a[0]: list *a*의 첫 번째 항목\n",
    "- a[n-1]: list *a*의 n 번째 항목\n",
    "\n",
    "- a[-1]: list *a*의 오른쪽에서 1번째 항목 (즉, 가장 마지막 항목)\n",
    "- a[-n]: list *a*의 오른쪽에서 n 번째 항목"
   ]
  },
  {
   "cell_type": "code",
   "execution_count": 1,
   "metadata": {
    "slideshow": {
     "slide_type": "fragment"
    }
   },
   "outputs": [
    {
     "name": "stdout",
     "output_type": "stream",
     "text": [
      "100\n",
      "200\n",
      "200\n"
     ]
    }
   ],
   "source": [
    "# example)\n",
    "a = [100, 200]\n",
    "print(a[0])\n",
    "print(a[1])\n",
    "print(a[-1])"
   ]
  },
  {
   "cell_type": "code",
   "execution_count": 4,
   "metadata": {
    "slideshow": {
     "slide_type": "subslide"
    }
   },
   "outputs": [
    {
     "name": "stdout",
     "output_type": "stream",
     "text": [
      "[1, 2, 3, 4, 5, 6]\n",
      "[0, 1, 0, 1, 0, 1]\n"
     ]
    }
   ],
   "source": [
    "a = [1, 2] + [3, 4, 5, 6]\n",
    "b = [0, 1] * 3\n",
    "print(a)\n",
    "print(b)"
   ]
  },
  {
   "cell_type": "markdown",
   "metadata": {
    "slideshow": {
     "slide_type": "subslide"
    }
   },
   "source": [
    "### range 함수\n",
    "- range 함수를 이용해 순차적인 정수 리스트를 만들 수 있음\n",
    "- range(n): 0부터 n-1까지\n",
    "- range(m, n): m부터 n-1까지 (n-1-m 개)의 정수\n",
    "- range(m, n, step)은 m부터 n-1까지의 정수를 step 간격으로\n",
    "- range 함수를 이용해 리스트를 만들기 위해서는 list 함수와 함께 사용해야 함"
   ]
  },
  {
   "cell_type": "code",
   "execution_count": 5,
   "metadata": {
    "slideshow": {
     "slide_type": "fragment"
    }
   },
   "outputs": [
    {
     "name": "stdout",
     "output_type": "stream",
     "text": [
      "[0, 1, 2, 3, 4, 5, 6, 7, 8, 9, 10, 11, 12, 13, 14]\n",
      "[5, 6, 7, 8, 9, 10, 11, 12, 13, 14]\n",
      "[5, 7, 9, 11, 13]\n",
      "[15, 13, 11, 9, 7]\n"
     ]
    }
   ],
   "source": [
    "# examples)\n",
    "print(list(range(15)))\n",
    "\n",
    "print(list(range(5, 15)))\n",
    "\n",
    "print(list(range(5, 15, 2)))\n",
    "\n",
    "print(list(range(15, 5, -2)))\n"
   ]
  },
  {
   "cell_type": "markdown",
   "metadata": {
    "slideshow": {
     "slide_type": "subslide"
    }
   },
   "source": [
    "### Slicing\n",
    "- 콜론(:) 을 이용하여 리스트의 특정 영역을 선택할 수 있음\n",
    "- a[m:n]: 리스트의 m+1번째 항목부터 n번째 항목까지를 의미\n",
    "- a[m:n:step]: 리스트의 m+1번째 항목부터 n번째 항목까지, step의 간격으로\n",
    "- m, n, step은 따로 명시하지 않을 경우 각각 0, len(a), 1의 값을 default로 가짐\n",
    "- step이 음수일 경우, 마지막 자료에서 처음 자료의 방향으로 자료를 반환"
   ]
  },
  {
   "cell_type": "code",
   "execution_count": 6,
   "metadata": {
    "tags": []
   },
   "outputs": [
    {
     "name": "stdout",
     "output_type": "stream",
     "text": [
      "[0, 1, 2, 3, 4, 5, 6, 7, 8, 9, 10, 11, 12, 13, 14]\n",
      "[2, 3, 4, 5, 6, 7]\n",
      "[2, 3, 4, 5, 6, 7, 8, 9, 10, 11, 12, 13, 14]\n",
      "[0, 1, 2, 3, 4, 5, 6, 7]\n",
      "[2, 4, 6]\n"
     ]
    }
   ],
   "source": [
    "a = list(range(15))\n",
    "print(a)\n",
    "print(a[2:8])\n",
    "print(a[2:])\n",
    "print(a[:8])\n",
    "print(a[2:8:2])"
   ]
  },
  {
   "cell_type": "code",
   "execution_count": 7,
   "metadata": {
    "collapsed": true,
    "jupyter": {
     "outputs_hidden": true
    },
    "tags": []
   },
   "outputs": [
    {
     "name": "stdout",
     "output_type": "stream",
     "text": [
      "[20, 30, 3, 4, 5, 6, 7, 8, 9, 10, 11, 12, 13, 14]\n"
     ]
    }
   ],
   "source": [
    "a[0:3] = [20, 30] # 항목 교체. 크기가 달라도 됨\n",
    "print(a)"
   ]
  },
  {
   "cell_type": "code",
   "execution_count": 8,
   "metadata": {
    "collapsed": true,
    "jupyter": {
     "outputs_hidden": true
    },
    "tags": []
   },
   "outputs": [
    {
     "name": "stdout",
     "output_type": "stream",
     "text": [
      "[3, 4, 5, 6, 7, 8, 9, 10, 11, 12, 13, 14]\n"
     ]
    }
   ],
   "source": [
    "a[0:2] = [] # 삭제\n",
    "print(a)"
   ]
  },
  {
   "cell_type": "code",
   "execution_count": 9,
   "metadata": {
    "collapsed": true,
    "jupyter": {
     "outputs_hidden": true
    },
    "tags": []
   },
   "outputs": [
    {
     "name": "stdout",
     "output_type": "stream",
     "text": [
      "[5, 6, 7, 8, 9, 10, 11, 12, 13, 14]\n"
     ]
    }
   ],
   "source": [
    "del a[0:2] # 삭제\n",
    "print(a)"
   ]
  },
  {
   "cell_type": "code",
   "execution_count": 10,
   "metadata": {
    "collapsed": true,
    "jupyter": {
     "outputs_hidden": true
    },
    "tags": []
   },
   "outputs": [
    {
     "name": "stdout",
     "output_type": "stream",
     "text": [
      "[5, 6, 7, 8, 9, 20, 30, 10, 11, 12, 13, 14]\n"
     ]
    }
   ],
   "source": [
    "a[5:5] = [20, 30] # 항목 삽입\n",
    "print(a)"
   ]
  },
  {
   "cell_type": "code",
   "execution_count": 11,
   "metadata": {
    "slideshow": {
     "slide_type": "fragment"
    },
    "tags": []
   },
   "outputs": [
    {
     "name": "stdout",
     "output_type": "stream",
     "text": [
      "[20, 30, 8, 9, 20, 30, 10, 11, 12, 13, 14]\n",
      "[8, 9, 20, 30, 10, 11, 12, 13, 14]\n",
      "[20, 30, 10, 11, 12, 13, 14]\n",
      "[20, 30, 10, 11, 12, 20, 30, 13, 14]\n"
     ]
    }
   ],
   "source": [
    "# example)\n",
    "a[0:3] = [20, 30] # 항목 교체. 크기가 달라도 됨\n",
    "print(a)\n",
    "\n",
    "a[0:2] = [] # 삭제\n",
    "print(a)\n",
    "\n",
    "del a[0:2] # 삭제\n",
    "print(a)\n",
    "\n",
    "# a[5:5] = 20 # 항목 삽입 불가\n",
    "# print(a)\n",
    "\n",
    "a[5:5] = [20, 30] # 항목 삽입\n",
    "print(a)"
   ]
  },
  {
   "cell_type": "markdown",
   "metadata": {
    "slideshow": {
     "slide_type": "subslide"
    }
   },
   "source": [
    "Q) Slicing을 이용해 다음의 값을 구하려면 어떻게 해야 하는가?\n",
    "- a = list(range(20))\n",
    "\n",
    "\n",
    "1. [5, 6, 7, 8, 9, 10, 11, 12, 13, 14]\n",
    "2. [3, 5, 7, 9, 11, 13, 15, 17]\n",
    "3. [5, 8, 11, 14, 17]\n",
    "4. [7, 9, 11, 13, 15, 17, 19]\n",
    "5. [0, 2, 4, 6, 8, 10, 12, 14]\n",
    "6. [13, 12, 11, 10, 9, 8]\n",
    "7. [17, 15, 13, 11, 9, 7, 5]\n",
    "8. [19, 16, 13, 10, 7, 4, 1]"
   ]
  },
  {
   "cell_type": "markdown",
   "metadata": {
    "slideshow": {
     "slide_type": "subslide"
    }
   },
   "source": [
    "Q) 다음의 예제와 같은 결과를 얻기 위한 m, n, step의 값은?\n",
    "\n",
    "1. a[::-1]\n",
    "2. a[:5]\n",
    "3. a[0:]\n",
    "4. a[:-1]"
   ]
  },
  {
   "cell_type": "markdown",
   "metadata": {
    "slideshow": {
     "slide_type": "subslide"
    }
   },
   "source": [
    "- 이 외에 다양한 함수를 이용하여 리스트를 다룰 수 있음\n",
    "\n",
    "|    함수       |    설명                                            |\n",
    "|---------------|----------------------------------------------------|\n",
    "|    append     |    자료를 리스트 끝에 추가                         |\n",
    "|    pop        |    리스트 끝의 자료를 반환 및 리스트로부터 삭제    |\n",
    "|    extend     |    리스트를 추가                                   |\n",
    "|    insert     |    자료를 지정된 위치에 삽입                       |\n",
    "|    index      |    요소 검색                                       |\n",
    "|    count      |    요소 개수 알아내기                              |\n",
    "|    sort       |    리스트 정렬                                     |\n",
    "|    reverse    |    자료 순서 바꾸기 (sort와 무관)                  |"
   ]
  },
  {
   "cell_type": "code",
   "execution_count": 12,
   "metadata": {
    "slideshow": {
     "slide_type": "fragment"
    }
   },
   "outputs": [],
   "source": [
    "# example)\n",
    "a = [2, 5, 3, 6, 1]\n",
    "a.append(7) # 리스트의 끝에 7을 추가\n",
    "a.pop(2) # 2번째 자료를 반환 후 리스트로부터 삭제\n",
    "a.insert(3, 4) # 3번째 자리에 4를 삽입\n",
    "a.index(4) # 4의 값이 있는 위치를 반환\n",
    "a.count(7) # a에 포함된 7의 개수\n",
    "a.reverse() # a의 역순\n",
    "a.sort() # ascending sort\n",
    "a.sort(reverse=True) # descending sort"
   ]
  },
  {
   "cell_type": "markdown",
   "metadata": {
    "slideshow": {
     "slide_type": "slide"
    }
   },
   "source": [
    "## tuple\n",
    "- 순서를 가지는 자료들의 집합\n",
    "- 원소를 변경하거나 추가할 수 없음\n",
    "- Create with ()\n",
    "    - empty_tuple = ()\n",
    "    - one-element tuple: 값 뒤에 comma(,) 필요\n",
    "        - _tuple = 'abc',\n",
    "\n",
    "\n",
    "- list와 흡사하나, 사용 가능한 함수가 더 적음\n",
    "- 일반적으로는 tuple보다 list를 더 많이 사용"
   ]
  },
  {
   "cell_type": "code",
   "execution_count": 13,
   "metadata": {},
   "outputs": [
    {
     "name": "stdout",
     "output_type": "stream",
     "text": [
      "1\n",
      "<class 'int'>\n"
     ]
    }
   ],
   "source": [
    "t = (1)\n",
    "print(t)\n",
    "print(type(t))"
   ]
  },
  {
   "cell_type": "code",
   "execution_count": 14,
   "metadata": {},
   "outputs": [
    {
     "name": "stdout",
     "output_type": "stream",
     "text": [
      "(3,)\n",
      "<class 'tuple'>\n"
     ]
    }
   ],
   "source": [
    "t = (3, )\n",
    "print(t)\n",
    "print(type(t))"
   ]
  },
  {
   "cell_type": "code",
   "execution_count": 15,
   "metadata": {
    "slideshow": {
     "slide_type": "fragment"
    }
   },
   "outputs": [
    {
     "name": "stdout",
     "output_type": "stream",
     "text": [
      "1,2,3\n"
     ]
    }
   ],
   "source": [
    "t = (1, 2, 3)\n",
    "print(t[0], t[1], t[-1], sep=',')\n",
    "# t[0] = 10"
   ]
  },
  {
   "cell_type": "markdown",
   "metadata": {
    "slideshow": {
     "slide_type": "subslide"
    }
   },
   "source": [
    "### Copy\n",
    "#### Shallow copy (default) vs deep copy\n",
    "- \"=\"는 assignment로, copy와 다른 개념\n",
    "    - assignment는 새로운 label을 추가하는 것\n",
    "<br><br>\n",
    "- \"=\"를 잘못 사용시, 의도하지 않은 결과를 얻을 수 있음\n",
    "<br><br>\n",
    "- ex) a=3, b=a\n",
    "    - b=5를 실행시, a또한 5로 바뀜\n",
    "<br><br><br>\n",
    "- \"b=a\"를 사용시, 원하던 목표가 무엇인지가 중요\n",
    "    - label \"a\"가 달려있는 object \"3\"에 추가적인 label \"b\"를 다는 것(i.e. assignment)이 목적이라면, 위는 문제가 없음\n",
    "<br><br>\n",
    "    - \"a\"가 가리키는 object와 다른 object \"b\"를 생성하고, 그 object에 \"3\"의 값을 할당하는 것(i.e. copy)이 목적이라면 위는 잘못된 것\n",
    "        - ex) 위에서 b의 초기값을 a의 값으로 set한 뒤, b에 추가적인 연산을 취하는 경우\n",
    "            - 값만 복사하고, object는 다른 경우\n",
    "\n",
    "\n",
    "- shallow copy: top-level copy\n",
    "    - non-nested structure를 copy\n",
    "    - list 등을 copy할 때 사용\n",
    "<br><br>\n",
    "- deep copy: low-level copy\n",
    "    - nested structure 전체를 copy\n",
    "    - list of list 등을 low-level까지 copy할 때 사용\n",
    "\n",
    "\n",
    "\n",
    "- 위와 같은 현상은 mutable object(list, set, dict 등)에서 나타남\n",
    "    - immutable인 tuple의 경우, object 생성 후 element 변경이 불가능하므로 위와 같은 일이 발생하지 않음"
   ]
  },
  {
   "cell_type": "markdown",
   "metadata": {},
   "source": [
    "#### assignment \"=\" changes both variables\n",
    "- 이는 copy와 다른 개념\n",
    "    - MATLAB의 경우, \"=\"는 copy를 의미"
   ]
  },
  {
   "cell_type": "code",
   "execution_count": 16,
   "metadata": {},
   "outputs": [
    {
     "name": "stdout",
     "output_type": "stream",
     "text": [
      "[1, 2, 3, 4],[1, 2, 3, 4]\n",
      "--------------------------------------------------------------------------------\n",
      "[10, 2, 3, 4],[10, 2, 3, 4]\n",
      "--------------------------------------------------------------------------------\n",
      "[10, 2, 3, 40],[10, 2, 3, 40]\n"
     ]
    }
   ],
   "source": [
    "a = [1,2,3,4]\n",
    "b = a\n",
    "print(a, b, sep=',')\n",
    "print('-'*80)\n",
    "\n",
    "b[0] = 10\n",
    "print(a, b, sep=',')\n",
    "print('-'*80)\n",
    "\n",
    "a[-1] = 40\n",
    "print(a, b, sep=',')"
   ]
  },
  {
   "cell_type": "markdown",
   "metadata": {},
   "source": [
    "### shallow copy\n",
    "- b를 바꾸는 게 a를 바꾸지 않음 (non-nested structure의 경우)\n",
    "- 그 반대도 마찬가지"
   ]
  },
  {
   "cell_type": "code",
   "execution_count": 17,
   "metadata": {
    "slideshow": {
     "slide_type": "fragment"
    }
   },
   "outputs": [
    {
     "name": "stdout",
     "output_type": "stream",
     "text": [
      "[1, 2, 3, 4],[10, 2, 3, 4]\n",
      "--------------------------------------------------------------------------------\n",
      "[1, 2, 3, 40],[10, 2, 3, 4]\n",
      "--------------------------------------------------------------------------------\n",
      "0x25aef05a4c0,0x25aef01f8c0\n"
     ]
    }
   ],
   "source": [
    "a = [1,2,3,4]\n",
    "b = a.copy()\n",
    "b[0] = 10\n",
    "print(a,b, sep=',')\n",
    "print('-'*80)\n",
    "\n",
    "a[-1] = 40\n",
    "print(a,b, sep=',')\n",
    "\n",
    "print('-'*80)\n",
    "print(hex(id(a)), hex(id(b)), sep=',')"
   ]
  },
  {
   "cell_type": "markdown",
   "metadata": {},
   "source": [
    "#### different ways of shallow copy with list\n",
    "- *b, c, d* are (shallow) *copies* of *a*\n",
    "    - new objects with their own values\n",
    "    - no connection to list object [1,2,3] to which *a* refers\n",
    "    \n",
    "- *a*의 값을 바꾸는 게 *a*의 copy인 *b, c, d*에 영향을 주지 않음"
   ]
  },
  {
   "cell_type": "code",
   "execution_count": 18,
   "metadata": {
    "slideshow": {
     "slide_type": "subslide"
    }
   },
   "outputs": [
    {
     "name": "stdout",
     "output_type": "stream",
     "text": [
      "['_str', 2, 3]\n",
      "[1, 2, 3]\n",
      "[1, 2, 3]\n",
      "[1, 2, 3]\n",
      "[1, 2, 3]\n",
      "0x25aef05b200\n",
      "0x25aef05b400\n",
      "0x25aef055280\n",
      "0x25aef05b300\n",
      "0x25aef05b140\n"
     ]
    }
   ],
   "source": [
    "# shallow copy\n",
    "import copy\n",
    "a = [1,2,3]\n",
    "b = a.copy() # shallow copy of a\n",
    "c = list(a) # shallow copy of a \n",
    "d = a[:] # shallow copy of a\n",
    "e = copy.copy(a) # equivalent to b\n",
    "\n",
    "a[0] = '_str'\n",
    "print(a, b, c, d, e, sep='\\n')\n",
    "\n",
    "print(hex(id(a)))\n",
    "print(hex(id(b)))\n",
    "print(hex(id(c)))\n",
    "print(hex(id(d)))\n",
    "print(hex(id(e)))"
   ]
  },
  {
   "cell_type": "markdown",
   "metadata": {},
   "source": [
    "### list of list\n",
    "- nested structure (e.g. list of list)에서는 shallow copy와 deep copy가 다르게 작용\n",
    "- nested structure 전체를 copy하고 싶을 때는 shallow copy가 아닌 deep copy를 사용해야 함\n",
    "\n",
    "\n",
    "- shallow copy와 deep copy의 차이를 확인 가능\n",
    "- a=[[1,2], [3,4]], b=a\n",
    "- 위처럼 shallow copy로 b를 정의하면, a를 바꿀 때 b도 바뀜 (그 반대도 마찬가지)\n",
    "\n",
    "\n",
    "- a=[1, 2, 3], b=[5, a, 6]\n",
    "- 위에서도 a를 바꿀 때 b도 바뀜 (그 반대도 마찬가지)"
   ]
  },
  {
   "cell_type": "markdown",
   "metadata": {},
   "source": [
    "#### list of list에서 sublist 전체를 바꿀 때는 영향을 주지 않음"
   ]
  },
  {
   "cell_type": "code",
   "execution_count": 19,
   "metadata": {},
   "outputs": [
    {
     "name": "stdout",
     "output_type": "stream",
     "text": [
      "a:[[10, 20], [3, 4]], b:[[1, 2], [3, 4]]\n"
     ]
    }
   ],
   "source": [
    "import copy\n",
    "a = [[1,2], [3,4]]\n",
    "b = copy.copy(a) # equiv. to a.copy()\n",
    "a[0] = [10, 20]\n",
    "print(f'a:{a}, b:{b}', sep=',') # different"
   ]
  },
  {
   "cell_type": "code",
   "execution_count": 2,
   "metadata": {},
   "outputs": [
    {
     "name": "stdout",
     "output_type": "stream",
     "text": [
      "a:[[10, 20], [3, 4]], b:[[1, 2], [3, 4]]\n",
      "--------------------------------------------------------------------------------\n",
      "0x1d628803540,0x1d628803300\n",
      "--------------------------------------------------------------------------------\n",
      "0x1d6288037c0,0x1d6288029c0\n",
      "--------------------------------------------------------------------------------\n",
      "0x1d623b50210,0x1d623b500f0\n"
     ]
    }
   ],
   "source": [
    "import copy\n",
    "a = [[1,2], [3,4]]\n",
    "b = copy.copy(a) # equiv. to a.copy()\n",
    "a[0] = [10, 20]\n",
    "print(f'a:{a}, b:{b}', sep=',') # different\n",
    "\n",
    "print('-'*80)\n",
    "print(hex(id(a)), hex(id(b)), sep=',') # different\n",
    "\n",
    "print('-'*80)\n",
    "print(hex(id(a[0])), hex(id(b[0])), sep=',') # different\n",
    "\n",
    "print('-'*80)\n",
    "print(hex(id(a[0][0])), hex(id(b[0][0])), sep=',') # different"
   ]
  },
  {
   "cell_type": "markdown",
   "metadata": {},
   "source": [
    "#### sublist의 element를 바꿀 때에는 영향을 줌\n",
    "- lower-level element의 경우, deepcopy()를 사용하지 않으면 b를 바꿀 시 a도 바뀜"
   ]
  },
  {
   "cell_type": "code",
   "execution_count": 21,
   "metadata": {},
   "outputs": [
    {
     "name": "stdout",
     "output_type": "stream",
     "text": [
      "a: [[1, 2], [3, 4]], b: [[20, 30], [3, 4]]\n"
     ]
    }
   ],
   "source": [
    "# list of list 1\n",
    "import copy\n",
    "a = [[1,2], [3,4]]\n",
    "b = copy.copy(a) # shallow copy\n",
    "\n",
    "b[0] = [20, 30]\n",
    "print(f'a: {a}, b: {b}')"
   ]
  },
  {
   "cell_type": "code",
   "execution_count": 22,
   "metadata": {},
   "outputs": [
    {
     "name": "stdout",
     "output_type": "stream",
     "text": [
      "a: [[1, 2], [3, 4]], b: [[200], [3, 4]]\n"
     ]
    }
   ],
   "source": [
    "# list of list 2\n",
    "import copy\n",
    "a = [[1,2], [3,4]]\n",
    "\n",
    "b = copy.copy(a) # shallow copy\n",
    "b[0] = [200]\n",
    "print(f'a: {a}, b: {b}')"
   ]
  },
  {
   "cell_type": "code",
   "execution_count": 23,
   "metadata": {
    "slideshow": {
     "slide_type": "subslide"
    }
   },
   "outputs": [
    {
     "name": "stdout",
     "output_type": "stream",
     "text": [
      "a:[[10, 2], [3, 4]], b:[[10, 2], [3, 4]]\n",
      "--------------------------------------------------------------------------------\n",
      "0x25aef052500,0x25aef059b80\n",
      "--------------------------------------------------------------------------------\n",
      "0x25aef057e00,0x25aef057e00\n",
      "--------------------------------------------------------------------------------\n",
      "0x25aea430210,0x25aea430210\n"
     ]
    }
   ],
   "source": [
    "# list of list 3\n",
    "import copy\n",
    "a = [[1,2], [3,4]]\n",
    "b = copy.copy(a) # equiv. to a.copy()\n",
    "\n",
    "b[0][0] = 10\n",
    "print(f'a:{a}, b:{b}', sep=',') # same\n",
    "print('-'*80)\n",
    "\n",
    "print(hex(id(a)), hex(id(b)), sep=',') # different\n",
    "print('-'*80)\n",
    "\n",
    "print(hex(id(a[0])), hex(id(b[0])), sep=',') # same\n",
    "print('-'*80)\n",
    "\n",
    "print(hex(id(a[0][0])), hex(id(b[0][0])), sep=',') # same"
   ]
  },
  {
   "cell_type": "code",
   "execution_count": 24,
   "metadata": {
    "slideshow": {
     "slide_type": "subslide"
    }
   },
   "outputs": [
    {
     "name": "stdout",
     "output_type": "stream",
     "text": [
      "[[10, 2], [3, 4]]\n",
      "[[1, 2], [3, 4]]\n"
     ]
    }
   ],
   "source": [
    "# deep copy\n",
    "a = [[1,2], [3,4]]\n",
    "b = copy.deepcopy(a)\n",
    "b[0][0] = 10\n",
    "print(b)\n",
    "print(a)"
   ]
  },
  {
   "cell_type": "markdown",
   "metadata": {
    "slideshow": {
     "slide_type": "fragment"
    }
   },
   "source": [
    "- 위와 같은 일은 mutable 안에 mutable이 포함되어 있을 때 발생\n",
    "- mutable: list, set, dict\n",
    "- immutable: int, float, tuple, str"
   ]
  },
  {
   "cell_type": "markdown",
   "metadata": {},
   "source": [
    "#### list of tuple"
   ]
  },
  {
   "cell_type": "code",
   "execution_count": 25,
   "metadata": {
    "slideshow": {
     "slide_type": "subslide"
    }
   },
   "outputs": [
    {
     "name": "stdout",
     "output_type": "stream",
     "text": [
      "[(2, 3), (3, 4)]\n",
      "[(1, 2), (3, 4)]\n"
     ]
    }
   ],
   "source": [
    "a = [(1,2), (3,4)]\n",
    "b = a.copy()\n",
    "# b[0][0] = 1 # tuple object is immutable\n",
    "b[0] = (2, 3)\n",
    "print(b)\n",
    "print(a)"
   ]
  },
  {
   "cell_type": "code",
   "execution_count": 3,
   "metadata": {
    "slideshow": {
     "slide_type": "subslide"
    }
   },
   "outputs": [
    {
     "ename": "AttributeError",
     "evalue": "'tuple' object has no attribute 'copy'",
     "output_type": "error",
     "traceback": [
      "\u001b[1;31m---------------------------------------------------------------------------\u001b[0m",
      "\u001b[1;31mAttributeError\u001b[0m                            Traceback (most recent call last)",
      "Cell \u001b[1;32mIn[3], line 3\u001b[0m\n\u001b[0;32m      1\u001b[0m \u001b[38;5;66;03m# tuple은 immutable로, copy()를 지원하지 않아 error가 생김\u001b[39;00m\n\u001b[0;32m      2\u001b[0m a \u001b[38;5;241m=\u001b[39m ([\u001b[38;5;241m1\u001b[39m,\u001b[38;5;241m2\u001b[39m], [\u001b[38;5;241m3\u001b[39m,\u001b[38;5;241m4\u001b[39m])\n\u001b[1;32m----> 3\u001b[0m b \u001b[38;5;241m=\u001b[39m \u001b[43ma\u001b[49m\u001b[38;5;241;43m.\u001b[39;49m\u001b[43mcopy\u001b[49m() \u001b[38;5;66;03m# tuple does not support copy()\u001b[39;00m\n\u001b[0;32m      4\u001b[0m b[\u001b[38;5;241m0\u001b[39m] \u001b[38;5;241m=\u001b[39m [\u001b[38;5;241m2\u001b[39m,\u001b[38;5;241m3\u001b[39m]\n\u001b[0;32m      5\u001b[0m \u001b[38;5;28mprint\u001b[39m(b)\n",
      "\u001b[1;31mAttributeError\u001b[0m: 'tuple' object has no attribute 'copy'"
     ]
    }
   ],
   "source": [
    "# tuple은 immutable로, copy()를 지원하지 않아 error가 생김\n",
    "a = ([1,2], [3,4])\n",
    "b = a.copy() # tuple does not support copy()\n",
    "b[0] = [2,3]\n",
    "print(b)\n",
    "print(a)"
   ]
  },
  {
   "cell_type": "markdown",
   "metadata": {
    "slideshow": {
     "slide_type": "slide"
    }
   },
   "source": [
    "### 변수 할당"
   ]
  },
  {
   "cell_type": "code",
   "execution_count": null,
   "metadata": {
    "slideshow": {
     "slide_type": "fragment"
    }
   },
   "outputs": [],
   "source": [
    "d = e = 3                      # multiple-target assignment\n",
    "print(d,e)\n",
    "\n",
    "a, b, c = 'abc'                # sequence assignment\n",
    "print(a,b,c)\n",
    "    \n",
    "_d, _e = d, e                  # tuple assignment\n",
    "print(type(_d), type(_e))\n",
    "\n",
    "[_d, _e] = [d, e]              # list assignment\n",
    "print(type(_d), type(_e))\n",
    "\n",
    "a, *b = 'spam'                 # Extended sequence unpacking (Python 3.x)\n",
    "print(a, b)\n",
    "\n",
    "spam = 26\n",
    "spam += 42                     # augmented assignment. equivalent to spam = spam + 42\n",
    "print(spam)"
   ]
  },
  {
   "cell_type": "markdown",
   "metadata": {
    "slideshow": {
     "slide_type": "slide"
    }
   },
   "source": [
    "## dictionary\n",
    "- 딕셔너리(dictionary)는 키(key)와 값(value)의 쌍으로 이루어진 자료구조로, 순서를 가지지 않음\n",
    "- key는 중복을 허용하지 않으며, unique해야 함\n",
    "    - key가 중복될 시 가장 마지막의 key만 저장됨"
   ]
  },
  {
   "cell_type": "markdown",
   "metadata": {},
   "source": [
    "### dict 생성\n",
    "\n",
    "#### Create with {}\n",
    "- empty_dict = {}\n",
    "- _dict = {'name1': 'Andy', 'value1': 1}\n",
    "\n",
    "#### create with dict()\n",
    "- dict(x=1, y=2)"
   ]
  },
  {
   "cell_type": "code",
   "execution_count": 27,
   "metadata": {
    "slideshow": {
     "slide_type": "fragment"
    }
   },
   "outputs": [
    {
     "name": "stdout",
     "output_type": "stream",
     "text": [
      "{'key1': 'val1', 'key2': 22}\n",
      "{'x': 1, 'y': 2}\n"
     ]
    }
   ],
   "source": [
    "print({'key1':'val1', 'key2': 22})\n",
    "print(dict(x=1, y=2))"
   ]
  },
  {
   "cell_type": "markdown",
   "metadata": {},
   "source": [
    "### convert with dict()\n",
    "- 다음을 통해 list of list, list of tuple, tuple of list, tuple of tuple, list of strings, tuple of strings를 dict로 변환 가능\n",
    "\n",
    "    - lol = [ ['a', 'b'], ['c', 'd'] ]\n",
    "    - _dict1 = dict(lol)\n",
    "<br><br>\n",
    "    - lot = [ ('a', 'b'), ('c', 'd') ]\n",
    "    - _dict2 = dict(lot)\n",
    "<br><br>\n",
    "    - tol = ( ['a', 'b'], ['c', 'd'] )\n",
    "    - _dict3 = dict(tol)\n",
    "<br><br>\n",
    "    - tot = ( ('a', 'b'), ('c', 'd') )\n",
    "    - _dict4 = dict(tot)\n",
    "<br><br>\n",
    "    - los = ['ab', 'cd', 'ef']\n",
    "    - _dict5 = dict(los)\n",
    "<br><br>\n",
    "    - tos = ('ab',  'cd', 'ef')\n",
    "    - _dict6 = dict(tos)"
   ]
  },
  {
   "cell_type": "code",
   "execution_count": 28,
   "metadata": {},
   "outputs": [
    {
     "name": "stdout",
     "output_type": "stream",
     "text": [
      "{'a': 'b', 'c': 'd'}\n",
      "{'a': 'b', 'c': 'd', 'e': 'f'}\n"
     ]
    }
   ],
   "source": [
    "print(dict(    [ ['a', 'b'], ['c', 'd'] ]     )) # from lol\n",
    "print(dict(     ['ab', 'cd', 'ef']     )) # from los"
   ]
  },
  {
   "cell_type": "markdown",
   "metadata": {},
   "source": [
    "### dict with int keys\n",
    " \n",
    "#### int keys\n",
    "- _intdict = {1:10, 2:20}\n",
    "- _intdict = dict([(1, 10), (2, 20)])"
   ]
  },
  {
   "cell_type": "code",
   "execution_count": 29,
   "metadata": {},
   "outputs": [
    {
     "name": "stdout",
     "output_type": "stream",
     "text": [
      "{1: 10, 2: 20}\n",
      "{1: 10, 2: 20}\n"
     ]
    }
   ],
   "source": [
    "_intdict = {1:10, 2:20}\n",
    "print(_intdict)\n",
    "_intdict = dict([(1, 10), (2, 20)])\n",
    "print(_intdict)"
   ]
  },
  {
   "cell_type": "markdown",
   "metadata": {},
   "source": [
    "### keys and values\n",
    "- mydict['keyname'] 을 통해 keyname에 해당하는 value를 얻을 수 있음"
   ]
  },
  {
   "cell_type": "code",
   "execution_count": 30,
   "metadata": {
    "slideshow": {
     "slide_type": "fragment"
    }
   },
   "outputs": [
    {
     "name": "stdout",
     "output_type": "stream",
     "text": [
      "{'A': 1, 'B': 3, 'C': '32', 'name': 'ABC'}\n",
      "32\n"
     ]
    }
   ],
   "source": [
    "_dict = dict(A=1, B=3, C='32', name='ABC')\n",
    "print(_dict)\n",
    "print(_dict['C']) # return value by key"
   ]
  },
  {
   "cell_type": "code",
   "execution_count": 31,
   "metadata": {
    "slideshow": {
     "slide_type": "fragment"
    }
   },
   "outputs": [
    {
     "name": "stdout",
     "output_type": "stream",
     "text": [
      "dict_keys(['A', 'B', 'C', 'name'])\n",
      "dict_values([1, 3, '32', 'ABC'])\n",
      "--------------------------------------------------------------------------------\n",
      "['A', 'B', 'C', 'name']\n",
      "[1, 3, '32', 'ABC']\n",
      "--------------------------------------------------------------------------------\n",
      "dict_items([('A', 1), ('B', 3), ('C', '32'), ('name', 'ABC')])\n",
      "[('A', 1), ('B', 3), ('C', '32'), ('name', 'ABC')]\n",
      "True\n"
     ]
    }
   ],
   "source": [
    "print(_dict.keys()) # dict_keys object를 반환\n",
    "print(_dict.values()) #dict_values object를 반환\n",
    "print('-'*80)\n",
    "\n",
    "print(list(_dict.keys())) # list로 반환\n",
    "print(list(_dict.values())) # list로 반환\n",
    "print('-'*80)\n",
    "\n",
    "print(_dict.items()) # (key,value)를 pair로 반환 (dict_items object)\n",
    "print(list(_dict.items())) # (key, value) pair를 list로 반환\n",
    "\n",
    "print('C' in _dict) # 'C'라는 key가 _dict에 포함되었는지 확인"
   ]
  },
  {
   "cell_type": "markdown",
   "metadata": {
    "slideshow": {
     "slide_type": "subslide"
    }
   },
   "source": [
    "### dict key\n",
    "- Dictionary의 key로는 immutable만 사용 가능하며, mutable은 사용할 수 없다.\n",
    "    - immutable: object 생성 후 value가 변경 불가능한 object\n",
    "        - int, float, tuple, str 등\n",
    "    - mutable: object 생성 후 value가 변경 가능한 object\n",
    "        - list, set, dict 등\n",
    "    \n",
    "\n",
    "- a = {1: ‘a’, 2: ‘b’} \t# int(immutable): key로 사용가능\n",
    "<br><br>\n",
    "- a = {(1,2): ‘a’, (3,4): ‘b’} \t# tuple(immutable): key로 사용가능\n",
    "<br><br>\n",
    "- a = {[1,2]: ‘a’, [3,4]: ‘b’} \t# list(mutable): key로 사용 불가능\n",
    "<br><br>\n",
    "- a = {'a': 1, 'a': 2}\t# key가 중복되면 마지막 1개만 남음"
   ]
  },
  {
   "cell_type": "code",
   "execution_count": 32,
   "metadata": {},
   "outputs": [
    {
     "name": "stdout",
     "output_type": "stream",
     "text": [
      "{'a': 2}\n"
     ]
    }
   ],
   "source": [
    "mydict = {'a': 1, 'a': 2}\n",
    "print(mydict)"
   ]
  },
  {
   "cell_type": "markdown",
   "metadata": {},
   "source": [
    "## sets\n",
    "- unordered collection of unique and immutable objects\n",
    "- 집합론의 operation들을 사용 가능\n",
    "    - 교집합, 합집합 등: intersection(), union(), ...\n",
    "\n",
    "\n",
    "- set('abc'), {'a', 'b', 'c'}를 사용해 생성\n",
    "- empty set 생성을 위해서는 set()을 사용\n",
    "    - {}는 empty dict를 생성\n",
    "    \n",
    "    \n",
    "- list, tuple등에서 duplicate을 제거하고 싶을 때, 이를 set으로 변환한 뒤 다시 list, tuple로 변환해 duplicate을 제거 가능\n",
    "\n",
    "- 두 object의 element들이 같은지 여부를 확인하고 싶을 때 사용 (regardless of order)"
   ]
  },
  {
   "cell_type": "code",
   "execution_count": 33,
   "metadata": {},
   "outputs": [
    {
     "name": "stdout",
     "output_type": "stream",
     "text": [
      "{'b', 'e', 'd', 'a', 'c'}\n",
      "{'b', 'c'}\n",
      "['a', 'b', 'c', 'd', 'e']\n"
     ]
    }
   ],
   "source": [
    "set1 = set(['a', 'b', 'c'])\n",
    "set2 = {'b', 'c', 'd', 'e'}\n",
    "print(set1.union(set2))\n",
    "print(set1.intersection(set2))\n",
    "\n",
    "print(sorted(set1.union(set2))) # sorted() returns list"
   ]
  },
  {
   "cell_type": "code",
   "execution_count": 34,
   "metadata": {},
   "outputs": [
    {
     "name": "stdout",
     "output_type": "stream",
     "text": [
      "{'a'}\n",
      "--------------------------------------------------------------------------------\n",
      "{'e', 'd'}\n",
      "--------------------------------------------------------------------------------\n",
      "{'b', 'e', 'd', 'a', 'c'}\n",
      "--------------------------------------------------------------------------------\n",
      "{'b', 'c'}\n",
      "--------------------------------------------------------------------------------\n",
      "{'e', 'd', 'a'}\n",
      "--------------------------------------------------------------------------------\n",
      "{'a', 'e', 'd'}\n",
      "--------------------------------------------------------------------------------\n",
      "False False\n"
     ]
    }
   ],
   "source": [
    "print(set1 - set2) # difference\n",
    "print('-'*80)\n",
    "print(set2 - set1) # difference\n",
    "print('-'*80)\n",
    "\n",
    "\n",
    "print(set1 | set2) # union\n",
    "print('-'*80)\n",
    "print(set1 & set2) # intersection\n",
    "print('-'*80)\n",
    "\n",
    "\n",
    "print(set1 ^ set2) # symmetric difference (XOR) - complement of intersection (union - intersection)\n",
    "print('-'*80)\n",
    "print((set1|set2) - (set1&set2)) # equivalent to above\n",
    "\n",
    "print('-'*80)\n",
    "print(set1 > set2, set1 < set2) #superset, subset"
   ]
  },
  {
   "cell_type": "markdown",
   "metadata": {},
   "source": [
    "## Boolean\n",
    "- True, False를 값으로 갖는 data type\n",
    "- True는 1의 값에, False는 0의 값에 해당\n",
    "    - print될 때 0, 1대신 False, True로 print되는 것만 다름\n",
    "    \n",
    "    \n",
    "- 0, 1을 사용하는 것보다 False, True를 사용하는 것이 보다 직관적\n",
    "\n",
    "\n",
    "- list, NumPy array 등에서 Boolean을 이용해 slicing & indexing을 할 수 있음"
   ]
  },
  {
   "cell_type": "code",
   "execution_count": 15,
   "metadata": {},
   "outputs": [
    {
     "name": "stdout",
     "output_type": "stream",
     "text": [
      "<class 'bool'> <class 'bool'>\n",
      "True\n",
      "True == 1: True\n",
      "True is 1: False\n",
      "True or False: True\n",
      "4\n"
     ]
    },
    {
     "name": "stderr",
     "output_type": "stream",
     "text": [
      "<>:7: SyntaxWarning: \"is\" with a literal. Did you mean \"==\"?\n",
      "<>:7: SyntaxWarning: \"is\" with a literal. Did you mean \"==\"?\n",
      "C:\\Users\\crux_\\AppData\\Local\\Temp\\ipykernel_19816\\1163107155.py:7: SyntaxWarning: \"is\" with a literal. Did you mean \"==\"?\n",
      "  print(f\"True is 1: {True is 1}\") # different object -> False\n"
     ]
    }
   ],
   "source": [
    "print(type(True), type(False))\n",
    "\n",
    "print(isinstance(True, int)) # True is integer in nature\n",
    "\n",
    "print(f\"True == 1: {True == 1}\") # same value -> True\n",
    "\n",
    "print(f\"True is 1: {True is 1}\") # different object -> False\n",
    "\n",
    "print(f\"True or False: {True or False}\") # equiv. to: 1 or 0\n",
    "\n",
    "print(True + 3)"
   ]
  },
  {
   "cell_type": "code",
   "execution_count": 36,
   "metadata": {},
   "outputs": [
    {
     "name": "stdout",
     "output_type": "stream",
     "text": [
      "[0 1 2 3 4]\n",
      "[0 1 2 3 4 0 1 2 3 4 0 1 2 3 4], 15\n"
     ]
    }
   ],
   "source": [
    "import numpy as np\n",
    "myArr = np.array(range(5))\n",
    "print(myArr)\n",
    "myArr = np.tile(myArr, 3)\n",
    "print(myArr, len(myArr), sep=', ')"
   ]
  },
  {
   "cell_type": "code",
   "execution_count": 37,
   "metadata": {},
   "outputs": [
    {
     "name": "stdout",
     "output_type": "stream",
     "text": [
      "[False False False  True  True False False False  True  True False False\n",
      " False  True  True], 15\n"
     ]
    }
   ],
   "source": [
    "idx = myArr>=3 # len same as myArr\n",
    "print(idx, len(idx), sep=', ')"
   ]
  },
  {
   "cell_type": "code",
   "execution_count": 38,
   "metadata": {},
   "outputs": [
    {
     "name": "stdout",
     "output_type": "stream",
     "text": [
      "[ 0  1  2 13 14  0  1  2 13 14  0  1  2 13 14]\n"
     ]
    }
   ],
   "source": [
    "myArr[idx] += 10\n",
    "print(myArr)"
   ]
  }
 ],
 "metadata": {
  "celltoolbar": "Slideshow",
  "kernelspec": {
   "display_name": "Python 3 (ipykernel)",
   "language": "python",
   "name": "python3"
  },
  "language_info": {
   "codemirror_mode": {
    "name": "ipython",
    "version": 3
   },
   "file_extension": ".py",
   "mimetype": "text/x-python",
   "name": "python",
   "nbconvert_exporter": "python",
   "pygments_lexer": "ipython3",
   "version": "3.10.9"
  },
  "toc": {
   "base_numbering": 1,
   "nav_menu": {},
   "number_sections": true,
   "sideBar": true,
   "skip_h1_title": false,
   "title_cell": "Table of Contents",
   "title_sidebar": "Contents",
   "toc_cell": true,
   "toc_position": {
    "height": "calc(100% - 180px)",
    "left": "10px",
    "top": "150px",
    "width": "438px"
   },
   "toc_section_display": true,
   "toc_window_display": true
  },
  "varInspector": {
   "cols": {
    "lenName": 16,
    "lenType": 16,
    "lenVar": 40
   },
   "kernels_config": {
    "python": {
     "delete_cmd_postfix": "",
     "delete_cmd_prefix": "del ",
     "library": "var_list.py",
     "varRefreshCmd": "print(var_dic_list())"
    },
    "r": {
     "delete_cmd_postfix": ") ",
     "delete_cmd_prefix": "rm(",
     "library": "var_list.r",
     "varRefreshCmd": "cat(var_dic_list()) "
    }
   },
   "position": {
    "height": "168.722px",
    "left": "1375.45px",
    "right": "20px",
    "top": "120px",
    "width": "350px"
   },
   "types_to_exclude": [
    "module",
    "function",
    "builtin_function_or_method",
    "instance",
    "_Feature"
   ],
   "window_display": true
  }
 },
 "nbformat": 4,
 "nbformat_minor": 4
}
