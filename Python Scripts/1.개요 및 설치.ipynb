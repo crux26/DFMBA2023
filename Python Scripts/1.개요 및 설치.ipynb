{
 "cells": [
  {
   "cell_type": "markdown",
   "metadata": {
    "slideshow": {
     "slide_type": "skip"
    },
    "toc": true
   },
   "source": [
    "<h1>Table of Contents<span class=\"tocSkip\"></span></h1>\n",
    "<div class=\"toc\"><ul class=\"toc-item\"><li><span><a href=\"#프로그램이란?\" data-toc-modified-id=\"프로그램이란?-1\"><span class=\"toc-item-num\">1&nbsp;&nbsp;</span>프로그램이란?</a></span></li><li><span><a href=\"#프로그래밍-언어\" data-toc-modified-id=\"프로그래밍-언어-2\"><span class=\"toc-item-num\">2&nbsp;&nbsp;</span>프로그래밍 언어</a></span><ul class=\"toc-item\"><li><span><a href=\"#범용-언어-(general-purpose-language)\" data-toc-modified-id=\"범용-언어-(general-purpose-language)-2.1\"><span class=\"toc-item-num\">2.1&nbsp;&nbsp;</span>범용 언어 (general purpose language)</a></span></li><li><span><a href=\"#도메인-특화-언어-(domain-specific-language)\" data-toc-modified-id=\"도메인-특화-언어-(domain-specific-language)-2.2\"><span class=\"toc-item-num\">2.2&nbsp;&nbsp;</span>도메인 특화 언어 (domain-specific language)</a></span><ul class=\"toc-item\"><li><span><a href=\"#Query-language\" data-toc-modified-id=\"Query-language-2.2.1\"><span class=\"toc-item-num\">2.2.1&nbsp;&nbsp;</span>Query language</a></span></li></ul></li><li><span><a href=\"#Why-Python?\" data-toc-modified-id=\"Why-Python?-2.3\"><span class=\"toc-item-num\">2.3&nbsp;&nbsp;</span>Why Python?</a></span><ul class=\"toc-item\"><li><span><a href=\"#쉽고-통일된-문법\" data-toc-modified-id=\"쉽고-통일된-문법-2.3.1\"><span class=\"toc-item-num\">2.3.1&nbsp;&nbsp;</span>쉽고 통일된 문법</a></span></li><li><span><a href=\"#생산성\" data-toc-modified-id=\"생산성-2.3.2\"><span class=\"toc-item-num\">2.3.2&nbsp;&nbsp;</span>생산성</a></span></li><li><span><a href=\"#active-communities\" data-toc-modified-id=\"active-communities-2.3.3\"><span class=\"toc-item-num\">2.3.3&nbsp;&nbsp;</span>active communities</a></span></li><li><span><a href=\"#useful-libraries\" data-toc-modified-id=\"useful-libraries-2.3.4\"><span class=\"toc-item-num\">2.3.4&nbsp;&nbsp;</span>useful libraries</a></span></li></ul></li></ul></li><li><span><a href=\"#참고)-Python-version-dependency\" data-toc-modified-id=\"참고)-Python-version-dependency-3\"><span class=\"toc-item-num\">3&nbsp;&nbsp;</span>참고) Python version dependency</a></span><ul class=\"toc-item\"><li><span><a href=\"#Some-libraries-depend-on-python-version\" data-toc-modified-id=\"Some-libraries-depend-on-python-version-3.1\"><span class=\"toc-item-num\">3.1&nbsp;&nbsp;</span>Some libraries depend on python version</a></span></li><li><span><a href=\"#virtual-environment\" data-toc-modified-id=\"virtual-environment-3.2\"><span class=\"toc-item-num\">3.2&nbsp;&nbsp;</span>virtual environment</a></span><ul class=\"toc-item\"><li><span><a href=\"#Create-a-virtual-environment\" data-toc-modified-id=\"Create-a-virtual-environment-3.2.1\"><span class=\"toc-item-num\">3.2.1&nbsp;&nbsp;</span>Create a virtual environment</a></span></li><li><span><a href=\"#Activate-a-virtual-environment\" data-toc-modified-id=\"Activate-a-virtual-environment-3.2.2\"><span class=\"toc-item-num\">3.2.2&nbsp;&nbsp;</span>Activate a virtual environment</a></span></li><li><span><a href=\"#Install-packages\" data-toc-modified-id=\"Install-packages-3.2.3\"><span class=\"toc-item-num\">3.2.3&nbsp;&nbsp;</span>Install packages</a></span></li><li><span><a href=\"#deactivate-a-virtual-environment\" data-toc-modified-id=\"deactivate-a-virtual-environment-3.2.4\"><span class=\"toc-item-num\">3.2.4&nbsp;&nbsp;</span>deactivate a virtual environment</a></span></li><li><span><a href=\"#Delete-a-virtual-environment\" data-toc-modified-id=\"Delete-a-virtual-environment-3.2.5\"><span class=\"toc-item-num\">3.2.5&nbsp;&nbsp;</span>Delete a virtual environment</a></span></li></ul></li></ul></li><li><span><a href=\"#IDE-(Integrated-Development-Environment,-통합개발환경)\" data-toc-modified-id=\"IDE-(Integrated-Development-Environment,-통합개발환경)-4\"><span class=\"toc-item-num\">4&nbsp;&nbsp;</span>IDE (Integrated Development Environment, 통합개발환경)</a></span></li><li><span><a href=\"#Running-Python\" data-toc-modified-id=\"Running-Python-5\"><span class=\"toc-item-num\">5&nbsp;&nbsp;</span>Running Python</a></span></li><li><span><a href=\"#참고)-Magic-commands-for-IPython\" data-toc-modified-id=\"참고)-Magic-commands-for-IPython-6\"><span class=\"toc-item-num\">6&nbsp;&nbsp;</span>참고) Magic commands for IPython</a></span><ul class=\"toc-item\"><li><span><a href=\"#참고)-IPython\" data-toc-modified-id=\"참고)-IPython-6.1\"><span class=\"toc-item-num\">6.1&nbsp;&nbsp;</span>참고) IPython</a></span></li><li><span><a href=\"#Access-documentation-with-?\" data-toc-modified-id=\"Access-documentation-with-?-6.2\"><span class=\"toc-item-num\">6.2&nbsp;&nbsp;</span>Access documentation with ?</a></span></li><li><span><a href=\"#Access-source-code-with-??\" data-toc-modified-id=\"Access-source-code-with-??-6.3\"><span class=\"toc-item-num\">6.3&nbsp;&nbsp;</span>Access source code with ??</a></span></li></ul></li><li><span><a href=\"#Add-path\" data-toc-modified-id=\"Add-path-7\"><span class=\"toc-item-num\">7&nbsp;&nbsp;</span>Add path</a></span><ul class=\"toc-item\"><li><span><a href=\"#sys-module\" data-toc-modified-id=\"sys-module-7.1\"><span class=\"toc-item-num\">7.1&nbsp;&nbsp;</span>sys module</a></span></li></ul></li><li><span><a href=\"#Tab-completion\" data-toc-modified-id=\"Tab-completion-8\"><span class=\"toc-item-num\">8&nbsp;&nbsp;</span>Tab completion</a></span></li><li><span><a href=\"#Wildcard-matching\" data-toc-modified-id=\"Wildcard-matching-9\"><span class=\"toc-item-num\">9&nbsp;&nbsp;</span>Wildcard matching</a></span></li><li><span><a href=\"#참고)-List-of-packages\" data-toc-modified-id=\"참고)-List-of-packages-10\"><span class=\"toc-item-num\">10&nbsp;&nbsp;</span>참고) List of packages</a></span></li><li><span><a href=\"#참고\" data-toc-modified-id=\"참고-11\"><span class=\"toc-item-num\">11&nbsp;&nbsp;</span>참고</a></span><ul class=\"toc-item\"><li><span><a href=\"#GitHub\" data-toc-modified-id=\"GitHub-11.1\"><span class=\"toc-item-num\">11.1&nbsp;&nbsp;</span>GitHub</a></span></li><li><span><a href=\"#Useful-sites\" data-toc-modified-id=\"Useful-sites-11.2\"><span class=\"toc-item-num\">11.2&nbsp;&nbsp;</span>Useful sites</a></span></li><li><span><a href=\"#References\" data-toc-modified-id=\"References-11.3\"><span class=\"toc-item-num\">11.3&nbsp;&nbsp;</span>References</a></span></li></ul></li></ul></div>"
   ]
  },
  {
   "cell_type": "markdown",
   "metadata": {
    "slideshow": {
     "slide_type": "slide"
    }
   },
   "source": [
    "# 프로그램이란?\n",
    "- A sequence of stored instructions to perform a computation\n",
    "    - \"computation\": mathematical operation (e.g. addition), save result to a file, display data on the screen, $\\cdots$\n",
    "\n",
    "\n",
    "- 주어진 문제를 해결하기 위해 \"a sequence of stored instructions\" 혹은 \"알고리즘\"의 작성이 필요\n",
    "\n",
    "\n",
    "- 주어진 문제를 잘 해결하기 위해서는\n",
    "    1. 적절한 알고리즘을 사용\n",
    "    2. 이 알고리즘을 사용하는 프로그래밍 언어로 적절히 구현\n",
    "\n",
    "\n",
    "- 1.을 위해서, 문제에 대한 명확한 이해가 필요\n",
    "    - 이는 주로 non-programming 강의에서 이루어질 것\n",
    "\n",
    "\n",
    "- 2.를 위해서, 언어의 특성/문법을 익혀야 함\n",
    "    - 사전교육 및 이후의 Python 강의에서 이루어질 것\n",
    "    \n",
    "\n",
    "- 똑같은 결과를 낳더라도 알고리즘의 효율성이 다를 수 있음\n",
    "    - time efficiency, memory efficiency, ...\n",
    "    \n",
    "    \n",
    "- 원하는 결과를 충분히 빠른 시간 내에 얻기 위해, 프로그래밍 언어에 대한 이해가 필요\n"
   ]
  },
  {
   "cell_type": "markdown",
   "metadata": {
    "slideshow": {
     "slide_type": "slide"
    }
   },
   "source": [
    "# 프로그래밍 언어\n",
    "## 범용 언어 (general purpose language)\n",
    "- 다양한 분야에서 널리 사용할 수 있는 프로그래밍 언어\n",
    "- C, C++\n",
    "- C#\n",
    "- Java\n",
    "- Python\n",
    "\n",
    "## 도메인 특화 언어 (domain-specific language)\n",
    "- 특정한 분야/목적에서의 사용을 주 목적으로 만들어진 프로그래밍 언어\n",
    "- MATLAB\n",
    "- STATA, SAS, SPSS\n",
    "- Minitab, Eviews\n",
    "- R\n",
    "\n",
    "### Query language\n",
    "- SQL (Structured Query Language): 관계형 데이터베이스 관리시스템 (RDBMS)의 데이터를 관리하기 위해 설계된 특수 목적의 프로그래밍 언어\n",
    "    - mySQL, MS Access, SQLite 등\n",
    "    - Python, SAS에서도 SQL 문법을 사용 가능\n",
    "\n",
    "\n",
    "- RDBMS (Relational DataBase Management System): 행과 열로 구분된 데이터베이스 (tabular database)\n",
    "    - 엑셀 스프레드시트로 표현가능한 형태\n",
    "    - 항목(column)에 대해 관측값(row)이 있는 형태\n",
    "    - 대부분의 금융 데이터베이스에 해당\n",
    "        - row: time, column: firm name, ...\n",
    "        \n",
    "        \n",
    "- 금융 데이터베이스에서 데이터를 다운로드 받아 필요한 분석을 하기 위해서는 범용 언어 중 하나 (e.g. Python), 도메인 특화 언어 중 하나 (e.g. R or MATLAB), Query 언어 중 하나 (e.g. mySQL)을 모두 다룰 수 있으면 좋으나, 이는 현실적으로 쉽지 않음\n",
    "\n",
    "\n",
    "- Python 하나만으로도 분석을 충분히 다 할 수 있음\n"
   ]
  },
  {
   "cell_type": "markdown",
   "metadata": {
    "slideshow": {
     "slide_type": "slide"
    }
   },
   "source": [
    "## Why Python?\n",
    "### 쉽고 통일된 문법\n",
    "- C++, Java, VBA 등의 언어보다 편리함\n",
    "\n",
    "### 생산성\n",
    "- 결과를 얻기 위해 걸리는 시간 = 실행시간 + 개발시간\n",
    "\n",
    "- 실행시간: C, C++ << Python\n",
    "- 개발시간: Python << ... << C, C++\n",
    "\n",
    "- 실행시간이 정말로 중요한 경우에만 C, C++ 등을 사용하고, 그 외의 것들은 생산성을 위해 Python을 사용\n",
    "\n",
    "### active communities\n",
    "- 프로그래밍 구현에 문제가 있을 때 다른 사용자들에게 도움을 받기 쉬움\n",
    "    - Python Forum\n",
    "    - Stack Overflow\n",
    "    \n",
    "### useful libraries\n",
    "- 유용한 user-defined library가 많이 공개되어 있어, 직접 개발을 하지 않고도 간편하게 사용할 수 있음"
   ]
  },
  {
   "cell_type": "markdown",
   "metadata": {
    "slideshow": {
     "slide_type": "slide"
    }
   },
   "source": [
    "# 참고) Python version dependency\n",
    "\n",
    "- Anaconda는 Python + 여러 libraries\n",
    "\n",
    "- Anaconda에서는 기본적으로 가장 최근의 버전만 제공됨 (archive에서 구 버전을 찾을 수는 있음)\n",
    "\n",
    "## Some libraries depend on python version\n",
    "- Keras: Machine learning library. Compatible with 2.7-3.6 (https://keras.io/)\n",
    "- Theano: Machine learning library. Compatible with 2.7 or >= 3.4 and < 3.6 (http://deeplearning.net/software/theano/index.html)\n",
    "\n",
    "- Python 버전을 다운그레이드 해야 할 수 있음\n",
    "\n",
    "1) (Anaconda Prompt 창에서) conda update conda\n",
    "    - Anaconda에서 배포하는 Python + libraries들을 전부 업데이트\n",
    "    - 개별 library는 Anaconda 배포판보다 더 최신 버전이 있을 수 있음\n",
    "    - Anaconda에서는 모든 libraries에 대해 compatibility check를 하고 새 버전을 내놓음\n",
    "        - 특정 library를 개별적으로 업데이트하면 호환성이 깨질 가능성 있음\n",
    "\n",
    "2) (Anaconda Prompt 창에서) conda install python==3.6.9\n",
    "\n",
    "## virtual environment\n",
    "- 사용자 환경을 분리해서 사용을 하고 싶은 경우\n",
    "    - 여러 python version이 필요한 경우 (e.g. 2.x and 3.x)\n",
    "\n",
    "### Create a virtual environment\n",
    "- \\\\$ conda create -n *yourenvname* python=x.x anaconda\n",
    "\n",
    "### Activate a virtual environment\n",
    "- \\\\$ source activate *yourenvname*\n",
    "- Anaconda prompt 창의 명령줄 제일 왼쪽에 \"(root)\" 대신 \"(*yourenvname*)\"인 것을 확인\n",
    "    - default는 \"(base)\"\n",
    "\n",
    "\n",
    "### Install packages\n",
    "- \\\\$ conda install -n *yourenvname* *packagename*\n",
    "\n",
    "### deactivate a virtual environment\n",
    "- \\\\$ source deactivate\n",
    "\n",
    "### Delete a virtual environment\n",
    "- \\\\$ conda remove -n *yourenvname* all"
   ]
  },
  {
   "cell_type": "markdown",
   "metadata": {
    "slideshow": {
     "slide_type": "slide"
    }
   },
   "source": [
    "# IDE (Integrated Development Environment, 통합개발환경)\n",
    "- 소프트웨어 개발에 관련된 모든 작업 (코드 편집, 문법 확인, 자동 완성, 구문 강조, 디버깅 등)을 <br> 하나의 프로그램 안에서 모두 처리하는 환경을 제공하는 툴\n",
    "\n",
    "\n",
    "- Python 코드는 문법만 맞으면 메모장 등의 문서 편집기에서 작성을 해도 무관하나, <br> 프로그램이 복잡해질수록 가독성이나 생산성 면에서 크게 떨어짐. 때문에 일반적으로는 작업을 위해 IDE를 사용\n",
    "\n",
    "\n",
    "- text editor (문서 편집기): 메모장, 노트패드, 아래아 한글, MS-Word, ...\n",
    "- IDE: Jupyter notebook / Jupyter lab, Spyder, PyCharm, ...\n",
    "\n",
    "\n",
    "1) Spyder\n",
    "    - MATLAB과 비슷한 GUI. Variable explorer에서 변수들에 대한 정보를 확인 가능\n",
    "    \n",
    "2) Jupyter Notebook / Jupyter Lab\n",
    "    - 코드를 명시적으로 cell마다 나눠서 실행 가능\n",
    "    - web-based: print된 결과를 파일 자체에 저장 가능\n",
    "    - slideshow 지원\n",
    "    \n",
    "3) PyCharm\n",
    "    - 전문적인 기능을 제공하나, 설정이 다소 복잡하고 무거움\n",
    "    - project 개발에 적합하며, small stand-alone script 개발에는 비효율적\n"
   ]
  },
  {
   "cell_type": "markdown",
   "metadata": {
    "slideshow": {
     "slide_type": "slide"
    }
   },
   "source": [
    "# Running Python\n",
    "1) Interactive mode\n",
    "- to run simple commands to check the results right away\n",
    "- Anaconda Prompt에서 \"python\"을 입력해서 실행\n",
    "    - 즉각적으로 line-by-line으로 간단한 Python 코드를 실행 가능\n",
    "    \n",
    "2) Script mode\n",
    "- Python 코드를 .py 확장자를 갖는 텍스트 파일로 저장한 뒤, *python filepath/filename.py*로 코드를 실행\n",
    "    - 예시 (in Anaconda Prompt): \\\\$ python C:/local/myCode.py\n",
    "        - \"\\\\$\" 는 \"Anaconda prompt\"에서 직접 실행하란 의미. 실행시에는 \"\\\\$\"는 입력하지 않음\n",
    "    \n",
    "    - 예시 (in Jupyter notebook): ! python C:/local/myCode.py\n",
    "    \n",
    "  \n",
    "- \"\\\\$\" 는 Unix / Linux-based OS에서의 command prompt를 의미\n",
    "    - Windows에서 CMD를 열었을 때 \"C:\\Users\\username>\" 과 equivalent\n",
    "    - 책 등에서 \"\\\\$\"가 나올 때 Windows 사용자는 이를 입력할 필요가 없음. CMD 창에서의 입력이라고 생각하면 됨    \n",
    "    \n",
    "\n",
    "- \"!\"는 Run commands in CMD with Jupyter Notebook\n",
    "    - ! *commands*\n",
    "    - *commands*는 Python comands가 아님을 주의\n",
    "        - Windows의 CMD에서 해당 명령어를 실행하는 것. Windows의 CMD에서 \"> python ...\"은 python interpreter에게 \"...\"을 실행하라는 의미"
   ]
  },
  {
   "cell_type": "code",
   "execution_count": 3,
   "metadata": {
    "slideshow": {
     "slide_type": "fragment"
    }
   },
   "outputs": [
    {
     "name": "stdout",
     "output_type": "stream",
     "text": [
      "Hello, world!\n"
     ]
    }
   ],
   "source": [
    "# Script mode example\n",
    "! python C:/local/myCode.py # C:/local/ 에 내용이 print('Hello, world!')인 myCode.py를 미리 저장해놓음"
   ]
  },
  {
   "cell_type": "markdown",
   "metadata": {},
   "source": [
    "- \"!\"를 넣지 않으면 아래의 명령어는 실행이 안 됨"
   ]
  },
  {
   "cell_type": "code",
   "execution_count": 4,
   "metadata": {
    "slideshow": {
     "slide_type": "fragment"
    }
   },
   "outputs": [
    {
     "ename": "SyntaxError",
     "evalue": "invalid syntax (2926220620.py, line 1)",
     "output_type": "error",
     "traceback": [
      "\u001b[1;36m  Cell \u001b[1;32mIn[4], line 1\u001b[1;36m\u001b[0m\n\u001b[1;33m    python C:/local/myCode.py\u001b[0m\n\u001b[1;37m           ^\u001b[0m\n\u001b[1;31mSyntaxError\u001b[0m\u001b[1;31m:\u001b[0m invalid syntax\n"
     ]
    }
   ],
   "source": [
    "python C:/local/myCode.py"
   ]
  },
  {
   "cell_type": "code",
   "execution_count": 5,
   "metadata": {
    "slideshow": {
     "slide_type": "fragment"
    }
   },
   "outputs": [
    {
     "ename": "SyntaxError",
     "evalue": "invalid syntax (1448612695.py, line 1)",
     "output_type": "error",
     "traceback": [
      "\u001b[1;36m  Cell \u001b[1;32mIn[5], line 1\u001b[1;36m\u001b[0m\n\u001b[1;33m    C:/local/myCode.py\u001b[0m\n\u001b[1;37m      ^\u001b[0m\n\u001b[1;31mSyntaxError\u001b[0m\u001b[1;31m:\u001b[0m invalid syntax\n"
     ]
    }
   ],
   "source": [
    "C:/local/myCode.py"
   ]
  },
  {
   "cell_type": "markdown",
   "metadata": {
    "slideshow": {
     "slide_type": "slide"
    }
   },
   "source": [
    "# 참고) Magic commands for IPython\n",
    "- Jupyter notebook / Jupyter lab에서 유용하게 사용 가능\n",
    "    - Spyder에서는 제한적으로만 사용 가능\n",
    "        - Spyder에서는 \"Run selection or current line (F9)\"으로만 작동하며, \"Run cell (Ctrl+Enter)\"로는 작동하지 않음\n",
    "    - https://ipython.readthedocs.io/en/stable/interactive/magics.html\n",
    "\n",
    "\n",
    "- \\%*magic*: print information about the magic function system\n",
    "\n",
    "- \\%pwd: Return the current working directory path\n",
    "\n",
    "- \\%cd: Change the current working directory\n",
    "    - Python은 current working directory부터 source code를 찾아서 실행함\n",
    "    \n",
    "\n",
    "- \\%who: 현재 저장되어 있는 변수명을 반환\n",
    "\n",
    "- \\%who_ls:현재 저장되어 있는 변수명을 list로 반환\n",
    "\n",
    "- \\%whos: %who와 흡사. 변수들에 대한 추가적인 정보를 제공\n",
    "\n",
    "\n",
    "- \\%time: 코드 실행에 걸리는 시간을 반환\n",
    "- \\%timeit: 코드 실행에 걸리는 시간을 반환; 여러 번 실행\n",
    "\n",
    "\n",
    "- \\%debug: Activate the interactive debugger"
   ]
  },
  {
   "cell_type": "code",
   "execution_count": null,
   "metadata": {},
   "outputs": [],
   "source": [
    "%magic"
   ]
  },
  {
   "cell_type": "code",
   "execution_count": null,
   "metadata": {
    "slideshow": {
     "slide_type": "subslide"
    }
   },
   "outputs": [],
   "source": [
    "x=5\n",
    "y=3\n",
    "z=7\n",
    "%who\n",
    "print('\\n')\n",
    "\n",
    "%whos\n",
    "print('\\n')\n",
    "\n",
    "%who_ls"
   ]
  },
  {
   "cell_type": "markdown",
   "metadata": {
    "slideshow": {
     "slide_type": "slide"
    }
   },
   "source": [
    "## 참고) IPython\n",
    "- A command shell for Python / interactive command-line terminal for Python; just an interface in essence\n",
    "    - shell: \"a user interface for access to an OS services\"\n",
    "\n",
    "\n",
    "- kernel for Jupyter\n",
    "    - 원래 \"IPython Notebook\"이던 이름이 \"Jupyter Notebook\"으로 바뀜\n",
    "    - 이는 이제 Jupyter Notebook에서 Python 외의 언어도 지원하기 때문 (R, Julia, Scala, SAS, MATLAB, ...)\n",
    "    \n",
    "\n",
    "- OS shells use either command-line interface (CLI) or graphical user interface (GUI)\n",
    "    - CLI 예시: Command prompt (Windows), Windows PowerShell (Windows), Bash (Unix, Linux)\n",
    "    - GUI 예시: Windows 시작 메뉴, 파일 탐색기, ...\n",
    "\n",
    "\n",
    "- tab completion, support for interactive data visualization, ...\n",
    "\n",
    "\n",
    "- command prompt에서 python 및 ipython의 입력을 통해 standard Python interpreter와 IPython interpreter의 차이를 확인 가능\n",
    "    - IPython: standard Python shell + $\\alpha$\n",
    "    \n",
    "    \n",
    "- IPython을 사용하지 않고서도 script mode를 이용해 .py 확장자를 갖는 파일을 실행 가능"
   ]
  },
  {
   "cell_type": "markdown",
   "metadata": {},
   "source": [
    "## Access documentation with ?\n",
    "- ex) sum?\n",
    "\n",
    "## Access source code with ??\n",
    "- ex) sum??\n",
    "\n",
    "- 때때로 \"??\"를 쳐도 아무런 source code를 보여주지 않고, \"?\"와 같은 결과만을 반환함\n",
    "- 일반적으로는 보고 싶은 내용이 Python으로 작성되어 있지 않고, C 혹은 다른 compile language로 작성이 되어있는 경우에 해당\n",
    "- 대부분 Python의 built-in object나 type에 해당"
   ]
  },
  {
   "cell_type": "code",
   "execution_count": 1,
   "metadata": {},
   "outputs": [
    {
     "name": "stdout",
     "output_type": "stream",
     "text": [
      "\u001b[1;31mSignature:\u001b[0m \u001b[0msum\u001b[0m\u001b[1;33m(\u001b[0m\u001b[0miterable\u001b[0m\u001b[1;33m,\u001b[0m \u001b[1;33m/\u001b[0m\u001b[1;33m,\u001b[0m \u001b[0mstart\u001b[0m\u001b[1;33m=\u001b[0m\u001b[1;36m0\u001b[0m\u001b[1;33m)\u001b[0m\u001b[1;33m\u001b[0m\u001b[1;33m\u001b[0m\u001b[0m\n",
      "\u001b[1;31mDocstring:\u001b[0m\n",
      "Return the sum of a 'start' value (default: 0) plus an iterable of numbers\n",
      "\n",
      "When the iterable is empty, return the start value.\n",
      "This function is intended specifically for use with numeric values and may\n",
      "reject non-numeric types.\n",
      "\u001b[1;31mType:\u001b[0m      builtin_function_or_method"
     ]
    }
   ],
   "source": [
    "sum??"
   ]
  },
  {
   "cell_type": "code",
   "execution_count": 3,
   "metadata": {
    "slideshow": {
     "slide_type": "slide"
    }
   },
   "outputs": [
    {
     "name": "stdout",
     "output_type": "stream",
     "text": [
      "\u001b[1;31mSignature:\u001b[0m \u001b[0msquare\u001b[0m\u001b[1;33m(\u001b[0m\u001b[0mx\u001b[0m\u001b[1;33m)\u001b[0m\u001b[1;33m\u001b[0m\u001b[1;33m\u001b[0m\u001b[0m\n",
      "\u001b[1;31mDocstring:\u001b[0m return the square of x\n",
      "\u001b[1;31mFile:\u001b[0m      c:\\users\\crux_\\appdata\\local\\temp\\ipykernel_32124\\370919922.py\n",
      "\u001b[1;31mType:\u001b[0m      function"
     ]
    }
   ],
   "source": [
    "def square(x):\n",
    "    '''return the square of x'''\n",
    "    return x**2\n",
    "\n",
    "square?"
   ]
  },
  {
   "cell_type": "code",
   "execution_count": 4,
   "metadata": {
    "slideshow": {
     "slide_type": "fragment"
    }
   },
   "outputs": [
    {
     "name": "stdout",
     "output_type": "stream",
     "text": [
      "\u001b[1;31mSignature:\u001b[0m \u001b[0msquare\u001b[0m\u001b[1;33m(\u001b[0m\u001b[0mx\u001b[0m\u001b[1;33m)\u001b[0m\u001b[1;33m\u001b[0m\u001b[1;33m\u001b[0m\u001b[0m\n",
      "\u001b[1;31mSource:\u001b[0m   \n",
      "\u001b[1;32mdef\u001b[0m \u001b[0msquare\u001b[0m\u001b[1;33m(\u001b[0m\u001b[0mx\u001b[0m\u001b[1;33m)\u001b[0m\u001b[1;33m:\u001b[0m\u001b[1;33m\n",
      "\u001b[0m    \u001b[1;34m'''return the square of x'''\u001b[0m\u001b[1;33m\n",
      "\u001b[0m    \u001b[1;32mreturn\u001b[0m \u001b[0mx\u001b[0m\u001b[1;33m**\u001b[0m\u001b[1;36m2\u001b[0m\u001b[1;33m\u001b[0m\u001b[1;33m\u001b[0m\u001b[0m\n",
      "\u001b[1;31mFile:\u001b[0m      c:\\users\\crux_\\appdata\\local\\temp\\ipykernel_32124\\370919922.py\n",
      "\u001b[1;31mType:\u001b[0m      function"
     ]
    }
   ],
   "source": [
    "square??"
   ]
  },
  {
   "cell_type": "markdown",
   "metadata": {
    "slideshow": {
     "slide_type": "slide"
    }
   },
   "source": [
    "# Add path\n",
    "- $ import os\n",
    "\n",
    "- $ os.getcwd()\n",
    "\n",
    "## sys module\n",
    "- **sys.path**: Python이 시스템에서 module(\\*.py 파일)을 검색하는 위치\n",
    "- python script가 저장되어 있는 위치와 다른 path에 있다면, 해당 .py 파일을 실행하기 위해서는 **sys.path**에 추가해야 함"
   ]
  },
  {
   "cell_type": "code",
   "execution_count": null,
   "metadata": {},
   "outputs": [],
   "source": [
    "import sys\n",
    "display(sys.path)\n",
    "print('-'*80)\n",
    "\n",
    "sys.path.append('C:\\\\myFolder')\n",
    "display(sys.path)\n",
    "print('-'*80)\n",
    "\n",
    "sys.path.remove('C:\\\\myFolder')\n",
    "display(sys.path)"
   ]
  },
  {
   "cell_type": "markdown",
   "metadata": {
    "slideshow": {
     "slide_type": "slide"
    }
   },
   "source": [
    "# Tab completion\n",
    "- L = [1,2,3]\n",
    "\n",
    "- L.< TAB >\n",
    "    - \"L.\" 까지 입력한 후 TAB 키를 누르면, L이라는 변수에 대해 사용가능한 keyword나 함수들의 목록이 자동으로 완성됨\n",
    "\n",
    "- L.c< TAB >\n",
    "    - \"L.c\" 까지 입력한 후 TAB 키를 누르면, L이라는 변수에 대해 사용가능한 keyword나 함수들 중 \"c\"로 시작하는 목록이 자동으로 완성됨\n",
    "\n",
    "# Wildcard matching\n",
    "- *Warning?\n",
    "    - Warning으로 끝나는 keyword들이 출력됨\n",
    "    \n",
    "- ABC*XYZ?\n",
    "    - ABC로 시작하고 XYZ로 끝나는 keyword들이 출력됨"
   ]
  },
  {
   "cell_type": "code",
   "execution_count": null,
   "metadata": {
    "slideshow": {
     "slide_type": "fragment"
    }
   },
   "outputs": [],
   "source": [
    "*Warning?"
   ]
  },
  {
   "cell_type": "markdown",
   "metadata": {
    "slideshow": {
     "slide_type": "slide"
    }
   },
   "source": [
    "# 참고) List of packages\n",
    "- \"$ conda list\" 명령어를 통해 설치된 패키지 목록을 확인 가능\n",
    "- 특정 패키지의 설치가 필요한 경우, conda install *packagename* (or conda update *packagename*)을 통해 설치 가능\n",
    "    - pip로 설치하는 경우, pip install *packagename* 을 통해 설치 가능\n",
    "- 패키지의 공식 명칭과 설치에 이용되는 명칭은 다를 수 있음\n",
    "    - 예시) Scikit-learn 패키지 설치: conda install *sklearn*"
   ]
  },
  {
   "cell_type": "code",
   "execution_count": null,
   "metadata": {},
   "outputs": [],
   "source": [
    "!conda list\n",
    "# ! 없이도 실행됨"
   ]
  },
  {
   "cell_type": "markdown",
   "metadata": {
    "slideshow": {
     "slide_type": "slide"
    }
   },
   "source": [
    "# 참고\n",
    "## GitHub\n",
    "- 버전 관리 (version control) 프로그램\n",
    "    - 파일을 덮어쓰면서 생긴 history를 확인할 수 있음\n",
    "    - branch를 나눠 작업한 뒤, 작업이 끝나면 master branch로 merge를 할 수 있음\n",
    "\n",
    "\n",
    "- open source 코드들이 존재\n",
    "- git clone 명령어를 통해 저장소를 내려받을 수 있음\n",
    "    - ! git clone https://github.com/crux26/DFMBA2023\n",
    "    - current working directory (%pwd) 내부에 MFE 폴더가 생김\n",
    "        - 강의 내용에 해당하는 Jupyter Notebook (\\*.ipynb) 파일 및 anaconda 설치방법 파일\n",
    "    - DFMBA2023 폴더 안으로 navigate 후 git pull명령어를 통해 update 가능"
   ]
  },
  {
   "cell_type": "markdown",
   "metadata": {
    "slideshow": {
     "slide_type": "slide"
    }
   },
   "source": [
    "## Useful sites\n",
    "- Stackoverflow: 프로그래밍 Q&A (https://stackoverflow.com/)\n",
    "- Cross-Validated: stat, ML, data analysis, data mining, data visualization 내용 Q&A (https://stats.stackexchange.com/)\n",
    "- Mathematics stack exchange: 수학 내용 Q&A (https://math.stackexchange.com/)\n",
    "- Coursera: 무료 강의 (https://www.coursera.org/)"
   ]
  },
  {
   "cell_type": "markdown",
   "metadata": {
    "slideshow": {
     "slide_type": "slide"
    }
   },
   "source": [
    "## References\n",
    "- Ramalho, Fluent Python (2015)\n",
    "- Lutz, Learning Python, 5th ed. (2013)\n",
    "- Lubanovic, Introducing Python, 2nd ed. (2019)\n",
    "- Hilpisch, Python for Finance (2018)\n",
    "- VanderPlas, Python Data Science Handbook (2016)\n",
    "- McKinney, Python for Data Analysis, 3rd ed. (2022)"
   ]
  }
 ],
 "metadata": {
  "celltoolbar": "Slideshow",
  "kernelspec": {
   "display_name": "Python 3 (ipykernel)",
   "language": "python",
   "name": "python3"
  },
  "language_info": {
   "codemirror_mode": {
    "name": "ipython",
    "version": 3
   },
   "file_extension": ".py",
   "mimetype": "text/x-python",
   "name": "python",
   "nbconvert_exporter": "python",
   "pygments_lexer": "ipython3",
   "version": "3.10.9"
  },
  "toc": {
   "base_numbering": 1,
   "nav_menu": {},
   "number_sections": true,
   "sideBar": true,
   "skip_h1_title": false,
   "title_cell": "Table of Contents",
   "title_sidebar": "Contents",
   "toc_cell": true,
   "toc_position": {
    "height": "47px",
    "left": "76px",
    "top": "90px",
    "width": "387.766px"
   },
   "toc_section_display": true,
   "toc_window_display": true
  }
 },
 "nbformat": 4,
 "nbformat_minor": 4
}
